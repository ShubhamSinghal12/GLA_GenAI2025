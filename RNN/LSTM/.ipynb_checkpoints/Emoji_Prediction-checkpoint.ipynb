{
 "cells": [
  {
   "cell_type": "code",
   "execution_count": 1,
   "id": "676566b8-d90b-4e2d-bcc3-9023cf8d22cc",
   "metadata": {},
   "outputs": [
    {
     "name": "stdout",
     "output_type": "stream",
     "text": [
      "Requirement already satisfied: emoji in c:\\users\\abhis\\miniconda3\\lib\\site-packages (2.14.1)\n"
     ]
    }
   ],
   "source": [
    "!pip install emoji"
   ]
  },
  {
   "cell_type": "code",
   "execution_count": 2,
   "id": "763631c4-c290-4956-8b30-d78fd48ff6c7",
   "metadata": {},
   "outputs": [],
   "source": [
    "import numpy as np\n",
    "import pandas as pd\n",
    "import emoji"
   ]
  },
  {
   "cell_type": "code",
   "execution_count": 3,
   "id": "582abcee-f82d-464e-8596-44f02ed07389",
   "metadata": {},
   "outputs": [],
   "source": [
    "emoji_dictionary = {\"0\": \"\\u2764\\uFE0F\",\n",
    "                    \"1\": \":baseball:\",\n",
    "                    \"2\": \":beaming_face_with_smiling_eyes:\",\n",
    "                    \"3\": \":downcast_face_with_sweat:\",\n",
    "                    \"4\": \":fork_and_knife:\",\n",
    "                   }"
   ]
  },
  {
   "cell_type": "code",
   "execution_count": 5,
   "id": "95024764-7906-4ee0-81b8-57b661a5308a",
   "metadata": {},
   "outputs": [
    {
     "data": {
      "text/plain": [
       "'⚾'"
      ]
     },
     "execution_count": 5,
     "metadata": {},
     "output_type": "execute_result"
    }
   ],
   "source": [
    "emoji.emojize(\":baseball:\")"
   ]
  },
  {
   "cell_type": "code",
   "execution_count": 6,
   "id": "17bdad76-cef4-41cf-8323-5f6021c3131f",
   "metadata": {},
   "outputs": [
    {
     "name": "stdout",
     "output_type": "stream",
     "text": [
      "❤️\n",
      "⚾\n",
      "😁\n",
      "😓\n",
      "🍴\n"
     ]
    }
   ],
   "source": [
    "for label in emoji_dictionary:\n",
    "    print(emoji.emojize(emoji_dictionary[label]))"
   ]
  },
  {
   "cell_type": "code",
   "execution_count": 7,
   "id": "7f142960-1473-46b9-bba4-dd948576928d",
   "metadata": {},
   "outputs": [],
   "source": [
    "train = pd.read_csv('dataset/train_emoji.csv',header=None)\n",
    "test = pd.read_csv('dataset/test_emoji.csv',header=None)"
   ]
  },
  {
   "cell_type": "code",
   "execution_count": 8,
   "id": "863d6943-0045-4a18-a51b-32ff683ce67b",
   "metadata": {},
   "outputs": [
    {
     "data": {
      "text/html": [
       "<div>\n",
       "<style scoped>\n",
       "    .dataframe tbody tr th:only-of-type {\n",
       "        vertical-align: middle;\n",
       "    }\n",
       "\n",
       "    .dataframe tbody tr th {\n",
       "        vertical-align: top;\n",
       "    }\n",
       "\n",
       "    .dataframe thead th {\n",
       "        text-align: right;\n",
       "    }\n",
       "</style>\n",
       "<table border=\"1\" class=\"dataframe\">\n",
       "  <thead>\n",
       "    <tr style=\"text-align: right;\">\n",
       "      <th></th>\n",
       "      <th>0</th>\n",
       "      <th>1</th>\n",
       "      <th>2</th>\n",
       "      <th>3</th>\n",
       "    </tr>\n",
       "  </thead>\n",
       "  <tbody>\n",
       "    <tr>\n",
       "      <th>0</th>\n",
       "      <td>never talk to me again</td>\n",
       "      <td>3</td>\n",
       "      <td>NaN</td>\n",
       "      <td>NaN</td>\n",
       "    </tr>\n",
       "    <tr>\n",
       "      <th>1</th>\n",
       "      <td>I am proud of your achievements</td>\n",
       "      <td>2</td>\n",
       "      <td>NaN</td>\n",
       "      <td>NaN</td>\n",
       "    </tr>\n",
       "    <tr>\n",
       "      <th>2</th>\n",
       "      <td>It is the worst day in my life</td>\n",
       "      <td>3</td>\n",
       "      <td>NaN</td>\n",
       "      <td>NaN</td>\n",
       "    </tr>\n",
       "    <tr>\n",
       "      <th>3</th>\n",
       "      <td>Miss you so much</td>\n",
       "      <td>0</td>\n",
       "      <td>NaN</td>\n",
       "      <td>[0]</td>\n",
       "    </tr>\n",
       "    <tr>\n",
       "      <th>4</th>\n",
       "      <td>food is life</td>\n",
       "      <td>4</td>\n",
       "      <td>NaN</td>\n",
       "      <td>NaN</td>\n",
       "    </tr>\n",
       "  </tbody>\n",
       "</table>\n",
       "</div>"
      ],
      "text/plain": [
       "                                 0  1   2     3\n",
       "0           never talk to me again  3 NaN   NaN\n",
       "1  I am proud of your achievements  2 NaN   NaN\n",
       "2   It is the worst day in my life  3 NaN   NaN\n",
       "3                 Miss you so much  0 NaN   [0]\n",
       "4                     food is life  4 NaN   NaN"
      ]
     },
     "execution_count": 8,
     "metadata": {},
     "output_type": "execute_result"
    }
   ],
   "source": [
    "train.head()"
   ]
  },
  {
   "cell_type": "code",
   "execution_count": 10,
   "id": "65518017-43ad-46a0-ab74-b2a435dc994f",
   "metadata": {},
   "outputs": [
    {
     "name": "stdout",
     "output_type": "stream",
     "text": [
      "never talk to me again ---> 😓\n",
      "I am proud of your achievements ---> 😁\n",
      "It is the worst day in my life ---> 😓\n",
      "Miss you so much ---> ❤️\n",
      "food is life ---> 🍴\n",
      "I love you mum ---> ❤️\n",
      "Stop saying bullshit ---> 😓\n",
      "congratulations on your acceptance ---> 😁\n",
      "The assignment is too long  ---> 😓\n",
      "I want to go play ---> ⚾\n",
      "she did not answer my text  ---> 😓\n",
      "Your stupidity has no limit ---> 😓\n",
      "how many points did he score ---> ⚾\n",
      "my algorithm performs poorly ---> 😓\n",
      "I got approved ---> 😁\n",
      "Stop shouting at me ---> 😓\n",
      "Sounds like a fun plan ha ha ---> 😁\n",
      "no one likes him ---> 😓\n",
      "the game just finished ---> ⚾\n",
      "I will celebrate soon ---> 😁\n",
      "So sad you are not coming ---> 😓\n",
      "She is my dearest love ---> ❤️\n",
      "Good job ---> 😁\n",
      "It was funny lol ---> 😁\n",
      "candy is life  ---> 😁\n",
      "The chicago cubs won again ---> ⚾\n",
      "I am hungry ---> 🍴\n",
      "I am so excited to see you after so long ---> 😁\n",
      "you did well on you exam ---> 😁\n",
      "lets brunch some day ---> 🍴\n"
     ]
    }
   ],
   "source": [
    "for i in range(30):\n",
    "    print(train.iloc[i,0],'--->',emoji.emojize(emoji_dictionary[str(train.iloc[i,1])]))"
   ]
  },
  {
   "cell_type": "code",
   "execution_count": 11,
   "id": "bc13c08e-32b8-4d99-b91b-aeac858f39d5",
   "metadata": {},
   "outputs": [],
   "source": [
    "embeddings = {}\n",
    "with open('glove.6B.50d.txt',encoding='utf-8') as f:\n",
    "    for line in f:\n",
    "        values = line.split()\n",
    "        word = values[0]\n",
    "        vector = np.array(values[1:],dtype='f4')\n",
    "        embeddings[word] = vector"
   ]
  },
  {
   "cell_type": "code",
   "execution_count": 14,
   "id": "1afad919-00f3-4a08-8ec1-5a4577f22788",
   "metadata": {},
   "outputs": [
    {
     "name": "stdout",
     "output_type": "stream",
     "text": [
      "[ 4.1800e-01  2.4968e-01 -4.1242e-01  1.2170e-01  3.4527e-01 -4.4457e-02\n",
      " -4.9688e-01 -1.7862e-01 -6.6023e-04 -6.5660e-01  2.7843e-01 -1.4767e-01\n",
      " -5.5677e-01  1.4658e-01 -9.5095e-03  1.1658e-02  1.0204e-01 -1.2792e-01\n",
      " -8.4430e-01 -1.2181e-01 -1.6801e-02 -3.3279e-01 -1.5520e-01 -2.3131e-01\n",
      " -1.9181e-01 -1.8823e+00 -7.6746e-01  9.9051e-02 -4.2125e-01 -1.9526e-01\n",
      "  4.0071e+00 -1.8594e-01 -5.2287e-01 -3.1681e-01  5.9213e-04  7.4449e-03\n",
      "  1.7778e-01 -1.5897e-01  1.2041e-02 -5.4223e-02 -2.9871e-01 -1.5749e-01\n",
      " -3.4758e-01 -4.5637e-02 -4.4251e-01  1.8785e-01  2.7849e-03 -1.8411e-01\n",
      " -1.1514e-01 -7.8581e-01]\n"
     ]
    }
   ],
   "source": [
    "print(embeddings['the'])"
   ]
  },
  {
   "cell_type": "code",
   "execution_count": 16,
   "id": "0bb55040-e219-4fe8-b541-7160c6bb41f7",
   "metadata": {},
   "outputs": [
    {
     "name": "stdout",
     "output_type": "stream",
     "text": [
      "(132,)\n",
      "(56,)\n",
      "(132, 5)\n",
      "(56, 5)\n"
     ]
    }
   ],
   "source": [
    "from keras.utils import to_categorical\n",
    "\n",
    "X_train = train[0]\n",
    "X_test = test[0]\n",
    "\n",
    "y_train = to_categorical(train[1])\n",
    "y_test = to_categorical(test[1])\n",
    "\n",
    "print(X_train.shape)\n",
    "print(X_test.shape)\n",
    "print(y_train.shape)\n",
    "print(y_test.shape)"
   ]
  },
  {
   "cell_type": "code",
   "execution_count": 18,
   "id": "abb17cde-4aa5-44c5-b355-cea0c80d3831",
   "metadata": {},
   "outputs": [],
   "source": [
    "def getEmbeddings(X):\n",
    "    embeddingData = np.zeros((X.shape[0],10,50))\n",
    "    for ix in range(X.shape[0]):\n",
    "        words = X.iloc[ix].lower().split()\n",
    "        for jx in range(len(words)):\n",
    "            embeddingData[ix,jx,:] = embeddings[words[jx]]\n",
    "    return embeddingData"
   ]
  },
  {
   "cell_type": "code",
   "execution_count": 19,
   "id": "af278ba5-aed2-4b69-97e8-fd8d07f87fcb",
   "metadata": {},
   "outputs": [],
   "source": [
    "emb_XT = getEmbeddings(X_train)"
   ]
  },
  {
   "cell_type": "code",
   "execution_count": 25,
   "id": "113ad273-8dc7-4da1-9880-07511231b048",
   "metadata": {},
   "outputs": [
    {
     "name": "stdout",
     "output_type": "stream",
     "text": [
      "[ 0.095387   -0.16865    -0.11514    -0.51113999  0.38330999  0.22657999\n",
      " -0.78504002  0.67625999 -0.66856998  0.18847001  0.19963001  0.58350998\n",
      " -0.86133999 -0.39471999  1.15709996  0.51656997  0.11706     0.0062629\n",
      " -0.25929999 -0.33371001 -0.47957     0.62110001  0.66830999 -0.058046\n",
      "  0.81304997 -2.34100008 -0.75436997  0.2167      0.78012002 -0.81361997\n",
      "  2.9368      0.13466001 -0.38043001 -0.59614998 -0.093113   -0.2843\n",
      "  0.28314     0.59790999 -0.20750999 -0.43841001 -0.34187001 -0.21166\n",
      " -0.082453    0.44007    -0.33649999 -0.091078   -0.45859    -0.42103001\n",
      " -0.53816998  0.13738   ]\n"
     ]
    }
   ],
   "source": [
    "print(emb_XT[0][0])"
   ]
  },
  {
   "cell_type": "code",
   "execution_count": 22,
   "id": "aa437b4d-db9b-4be2-a1d8-b4f94d3b399c",
   "metadata": {},
   "outputs": [],
   "source": [
    "emb_Xt = getEmbeddings(X_test)"
   ]
  },
  {
   "cell_type": "code",
   "execution_count": 23,
   "id": "aa706891-6af5-4200-9973-7e73553a6c19",
   "metadata": {},
   "outputs": [
    {
     "name": "stdout",
     "output_type": "stream",
     "text": [
      "(56, 10, 50)\n"
     ]
    }
   ],
   "source": [
    "print(emb_Xt.shape)"
   ]
  },
  {
   "cell_type": "code",
   "execution_count": 26,
   "id": "858bc4f1-5d09-414d-965c-f0c697fd4845",
   "metadata": {},
   "outputs": [],
   "source": [
    "from keras.layers import Dense,LSTM,Dropout\n",
    "from keras.models import Sequential\n",
    "from keras import Input"
   ]
  },
  {
   "cell_type": "code",
   "execution_count": 29,
   "id": "dae5414f-00b8-4fd8-9c15-e9c27716efc4",
   "metadata": {},
   "outputs": [
    {
     "data": {
      "text/html": [
       "<pre style=\"white-space:pre;overflow-x:auto;line-height:normal;font-family:Menlo,'DejaVu Sans Mono',consolas,'Courier New',monospace\"><span style=\"font-weight: bold\">Model: \"sequential_1\"</span>\n",
       "</pre>\n"
      ],
      "text/plain": [
       "\u001b[1mModel: \"sequential_1\"\u001b[0m\n"
      ]
     },
     "metadata": {},
     "output_type": "display_data"
    },
    {
     "data": {
      "text/html": [
       "<pre style=\"white-space:pre;overflow-x:auto;line-height:normal;font-family:Menlo,'DejaVu Sans Mono',consolas,'Courier New',monospace\">┏━━━━━━━━━━━━━━━━━━━━━━━━━━━━━━━━━━━━━━┳━━━━━━━━━━━━━━━━━━━━━━━━━━━━━┳━━━━━━━━━━━━━━━━━┓\n",
       "┃<span style=\"font-weight: bold\"> Layer (type)                         </span>┃<span style=\"font-weight: bold\"> Output Shape                </span>┃<span style=\"font-weight: bold\">         Param # </span>┃\n",
       "┡━━━━━━━━━━━━━━━━━━━━━━━━━━━━━━━━━━━━━━╇━━━━━━━━━━━━━━━━━━━━━━━━━━━━━╇━━━━━━━━━━━━━━━━━┩\n",
       "│ lstm_2 (<span style=\"color: #0087ff; text-decoration-color: #0087ff\">LSTM</span>)                        │ (<span style=\"color: #00d7ff; text-decoration-color: #00d7ff\">None</span>, <span style=\"color: #00af00; text-decoration-color: #00af00\">10</span>, <span style=\"color: #00af00; text-decoration-color: #00af00\">16</span>)              │           <span style=\"color: #00af00; text-decoration-color: #00af00\">4,288</span> │\n",
       "├──────────────────────────────────────┼─────────────────────────────┼─────────────────┤\n",
       "│ lstm_3 (<span style=\"color: #0087ff; text-decoration-color: #0087ff\">LSTM</span>)                        │ (<span style=\"color: #00d7ff; text-decoration-color: #00d7ff\">None</span>, <span style=\"color: #00af00; text-decoration-color: #00af00\">16</span>)                  │           <span style=\"color: #00af00; text-decoration-color: #00af00\">2,112</span> │\n",
       "├──────────────────────────────────────┼─────────────────────────────┼─────────────────┤\n",
       "│ dropout_1 (<span style=\"color: #0087ff; text-decoration-color: #0087ff\">Dropout</span>)                  │ (<span style=\"color: #00d7ff; text-decoration-color: #00d7ff\">None</span>, <span style=\"color: #00af00; text-decoration-color: #00af00\">16</span>)                  │               <span style=\"color: #00af00; text-decoration-color: #00af00\">0</span> │\n",
       "├──────────────────────────────────────┼─────────────────────────────┼─────────────────┤\n",
       "│ dense_1 (<span style=\"color: #0087ff; text-decoration-color: #0087ff\">Dense</span>)                      │ (<span style=\"color: #00d7ff; text-decoration-color: #00d7ff\">None</span>, <span style=\"color: #00af00; text-decoration-color: #00af00\">5</span>)                   │              <span style=\"color: #00af00; text-decoration-color: #00af00\">85</span> │\n",
       "└──────────────────────────────────────┴─────────────────────────────┴─────────────────┘\n",
       "</pre>\n"
      ],
      "text/plain": [
       "┏━━━━━━━━━━━━━━━━━━━━━━━━━━━━━━━━━━━━━━┳━━━━━━━━━━━━━━━━━━━━━━━━━━━━━┳━━━━━━━━━━━━━━━━━┓\n",
       "┃\u001b[1m \u001b[0m\u001b[1mLayer (type)                        \u001b[0m\u001b[1m \u001b[0m┃\u001b[1m \u001b[0m\u001b[1mOutput Shape               \u001b[0m\u001b[1m \u001b[0m┃\u001b[1m \u001b[0m\u001b[1m        Param #\u001b[0m\u001b[1m \u001b[0m┃\n",
       "┡━━━━━━━━━━━━━━━━━━━━━━━━━━━━━━━━━━━━━━╇━━━━━━━━━━━━━━━━━━━━━━━━━━━━━╇━━━━━━━━━━━━━━━━━┩\n",
       "│ lstm_2 (\u001b[38;5;33mLSTM\u001b[0m)                        │ (\u001b[38;5;45mNone\u001b[0m, \u001b[38;5;34m10\u001b[0m, \u001b[38;5;34m16\u001b[0m)              │           \u001b[38;5;34m4,288\u001b[0m │\n",
       "├──────────────────────────────────────┼─────────────────────────────┼─────────────────┤\n",
       "│ lstm_3 (\u001b[38;5;33mLSTM\u001b[0m)                        │ (\u001b[38;5;45mNone\u001b[0m, \u001b[38;5;34m16\u001b[0m)                  │           \u001b[38;5;34m2,112\u001b[0m │\n",
       "├──────────────────────────────────────┼─────────────────────────────┼─────────────────┤\n",
       "│ dropout_1 (\u001b[38;5;33mDropout\u001b[0m)                  │ (\u001b[38;5;45mNone\u001b[0m, \u001b[38;5;34m16\u001b[0m)                  │               \u001b[38;5;34m0\u001b[0m │\n",
       "├──────────────────────────────────────┼─────────────────────────────┼─────────────────┤\n",
       "│ dense_1 (\u001b[38;5;33mDense\u001b[0m)                      │ (\u001b[38;5;45mNone\u001b[0m, \u001b[38;5;34m5\u001b[0m)                   │              \u001b[38;5;34m85\u001b[0m │\n",
       "└──────────────────────────────────────┴─────────────────────────────┴─────────────────┘\n"
      ]
     },
     "metadata": {},
     "output_type": "display_data"
    },
    {
     "data": {
      "text/html": [
       "<pre style=\"white-space:pre;overflow-x:auto;line-height:normal;font-family:Menlo,'DejaVu Sans Mono',consolas,'Courier New',monospace\"><span style=\"font-weight: bold\"> Total params: </span><span style=\"color: #00af00; text-decoration-color: #00af00\">6,485</span> (25.33 KB)\n",
       "</pre>\n"
      ],
      "text/plain": [
       "\u001b[1m Total params: \u001b[0m\u001b[38;5;34m6,485\u001b[0m (25.33 KB)\n"
      ]
     },
     "metadata": {},
     "output_type": "display_data"
    },
    {
     "data": {
      "text/html": [
       "<pre style=\"white-space:pre;overflow-x:auto;line-height:normal;font-family:Menlo,'DejaVu Sans Mono',consolas,'Courier New',monospace\"><span style=\"font-weight: bold\"> Trainable params: </span><span style=\"color: #00af00; text-decoration-color: #00af00\">6,485</span> (25.33 KB)\n",
       "</pre>\n"
      ],
      "text/plain": [
       "\u001b[1m Trainable params: \u001b[0m\u001b[38;5;34m6,485\u001b[0m (25.33 KB)\n"
      ]
     },
     "metadata": {},
     "output_type": "display_data"
    },
    {
     "data": {
      "text/html": [
       "<pre style=\"white-space:pre;overflow-x:auto;line-height:normal;font-family:Menlo,'DejaVu Sans Mono',consolas,'Courier New',monospace\"><span style=\"font-weight: bold\"> Non-trainable params: </span><span style=\"color: #00af00; text-decoration-color: #00af00\">0</span> (0.00 B)\n",
       "</pre>\n"
      ],
      "text/plain": [
       "\u001b[1m Non-trainable params: \u001b[0m\u001b[38;5;34m0\u001b[0m (0.00 B)\n"
      ]
     },
     "metadata": {},
     "output_type": "display_data"
    }
   ],
   "source": [
    "model = Sequential()\n",
    "model.add(Input(shape=(10,50)))\n",
    "model.add(LSTM(16,return_sequences=True))\n",
    "model.add(LSTM(16))\n",
    "model.add(Dropout(0.3))\n",
    "model.add(Dense(5,activation='softmax'))\n",
    "model.summary()"
   ]
  },
  {
   "cell_type": "code",
   "execution_count": 30,
   "id": "e0c886f3-935d-4789-a7d3-1f74b54df26e",
   "metadata": {
    "scrolled": true
   },
   "outputs": [
    {
     "name": "stdout",
     "output_type": "stream",
     "text": [
      "Epoch 1/40\n",
      "\u001b[1m4/4\u001b[0m \u001b[32m━━━━━━━━━━━━━━━━━━━━\u001b[0m\u001b[37m\u001b[0m \u001b[1m3s\u001b[0m 138ms/step - accuracy: 0.2559 - loss: 1.5835 - val_accuracy: 0.3571 - val_loss: 1.5916\n",
      "Epoch 2/40\n",
      "\u001b[1m4/4\u001b[0m \u001b[32m━━━━━━━━━━━━━━━━━━━━\u001b[0m\u001b[37m\u001b[0m \u001b[1m0s\u001b[0m 25ms/step - accuracy: 0.2942 - loss: 1.5820 - val_accuracy: 0.3571 - val_loss: 1.5985\n",
      "Epoch 3/40\n",
      "\u001b[1m4/4\u001b[0m \u001b[32m━━━━━━━━━━━━━━━━━━━━\u001b[0m\u001b[37m\u001b[0m \u001b[1m0s\u001b[0m 23ms/step - accuracy: 0.3338 - loss: 1.5528 - val_accuracy: 0.2857 - val_loss: 1.6059\n",
      "Epoch 4/40\n",
      "\u001b[1m4/4\u001b[0m \u001b[32m━━━━━━━━━━━━━━━━━━━━\u001b[0m\u001b[37m\u001b[0m \u001b[1m0s\u001b[0m 24ms/step - accuracy: 0.3937 - loss: 1.5456 - val_accuracy: 0.2857 - val_loss: 1.6155\n",
      "Epoch 5/40\n",
      "\u001b[1m4/4\u001b[0m \u001b[32m━━━━━━━━━━━━━━━━━━━━\u001b[0m\u001b[37m\u001b[0m \u001b[1m0s\u001b[0m 24ms/step - accuracy: 0.3971 - loss: 1.5079 - val_accuracy: 0.2143 - val_loss: 1.6222\n",
      "Epoch 6/40\n",
      "\u001b[1m4/4\u001b[0m \u001b[32m━━━━━━━━━━━━━━━━━━━━\u001b[0m\u001b[37m\u001b[0m \u001b[1m0s\u001b[0m 23ms/step - accuracy: 0.3012 - loss: 1.5313 - val_accuracy: 0.2143 - val_loss: 1.6191\n",
      "Epoch 7/40\n",
      "\u001b[1m4/4\u001b[0m \u001b[32m━━━━━━━━━━━━━━━━━━━━\u001b[0m\u001b[37m\u001b[0m \u001b[1m0s\u001b[0m 24ms/step - accuracy: 0.3460 - loss: 1.5070 - val_accuracy: 0.2143 - val_loss: 1.6093\n",
      "Epoch 8/40\n",
      "\u001b[1m4/4\u001b[0m \u001b[32m━━━━━━━━━━━━━━━━━━━━\u001b[0m\u001b[37m\u001b[0m \u001b[1m0s\u001b[0m 23ms/step - accuracy: 0.3960 - loss: 1.4754 - val_accuracy: 0.2143 - val_loss: 1.6014\n",
      "Epoch 9/40\n",
      "\u001b[1m4/4\u001b[0m \u001b[32m━━━━━━━━━━━━━━━━━━━━\u001b[0m\u001b[37m\u001b[0m \u001b[1m0s\u001b[0m 23ms/step - accuracy: 0.4541 - loss: 1.4607 - val_accuracy: 0.2143 - val_loss: 1.5883\n",
      "Epoch 10/40\n",
      "\u001b[1m4/4\u001b[0m \u001b[32m━━━━━━━━━━━━━━━━━━━━\u001b[0m\u001b[37m\u001b[0m \u001b[1m0s\u001b[0m 23ms/step - accuracy: 0.4119 - loss: 1.4397 - val_accuracy: 0.3571 - val_loss: 1.5605\n",
      "Epoch 11/40\n",
      "\u001b[1m4/4\u001b[0m \u001b[32m━━━━━━━━━━━━━━━━━━━━\u001b[0m\u001b[37m\u001b[0m \u001b[1m0s\u001b[0m 26ms/step - accuracy: 0.4080 - loss: 1.4334 - val_accuracy: 0.3571 - val_loss: 1.5350\n",
      "Epoch 12/40\n",
      "\u001b[1m4/4\u001b[0m \u001b[32m━━━━━━━━━━━━━━━━━━━━\u001b[0m\u001b[37m\u001b[0m \u001b[1m0s\u001b[0m 25ms/step - accuracy: 0.3934 - loss: 1.4042 - val_accuracy: 0.3571 - val_loss: 1.5042\n",
      "Epoch 13/40\n",
      "\u001b[1m4/4\u001b[0m \u001b[32m━━━━━━━━━━━━━━━━━━━━\u001b[0m\u001b[37m\u001b[0m \u001b[1m0s\u001b[0m 23ms/step - accuracy: 0.4906 - loss: 1.3828 - val_accuracy: 0.3571 - val_loss: 1.4794\n",
      "Epoch 14/40\n",
      "\u001b[1m4/4\u001b[0m \u001b[32m━━━━━━━━━━━━━━━━━━━━\u001b[0m\u001b[37m\u001b[0m \u001b[1m0s\u001b[0m 23ms/step - accuracy: 0.4325 - loss: 1.3570 - val_accuracy: 0.3571 - val_loss: 1.4454\n",
      "Epoch 15/40\n",
      "\u001b[1m4/4\u001b[0m \u001b[32m━━━━━━━━━━━━━━━━━━━━\u001b[0m\u001b[37m\u001b[0m \u001b[1m0s\u001b[0m 24ms/step - accuracy: 0.5505 - loss: 1.2800 - val_accuracy: 0.3571 - val_loss: 1.4063\n",
      "Epoch 16/40\n",
      "\u001b[1m4/4\u001b[0m \u001b[32m━━━━━━━━━━━━━━━━━━━━\u001b[0m\u001b[37m\u001b[0m \u001b[1m0s\u001b[0m 23ms/step - accuracy: 0.5008 - loss: 1.2839 - val_accuracy: 0.4286 - val_loss: 1.3868\n",
      "Epoch 17/40\n",
      "\u001b[1m4/4\u001b[0m \u001b[32m━━━━━━━━━━━━━━━━━━━━\u001b[0m\u001b[37m\u001b[0m \u001b[1m0s\u001b[0m 23ms/step - accuracy: 0.5245 - loss: 1.2507 - val_accuracy: 0.4286 - val_loss: 1.3309\n",
      "Epoch 18/40\n",
      "\u001b[1m4/4\u001b[0m \u001b[32m━━━━━━━━━━━━━━━━━━━━\u001b[0m\u001b[37m\u001b[0m \u001b[1m0s\u001b[0m 23ms/step - accuracy: 0.5964 - loss: 1.1837 - val_accuracy: 0.5000 - val_loss: 1.2741\n",
      "Epoch 19/40\n",
      "\u001b[1m4/4\u001b[0m \u001b[32m━━━━━━━━━━━━━━━━━━━━\u001b[0m\u001b[37m\u001b[0m \u001b[1m0s\u001b[0m 24ms/step - accuracy: 0.6389 - loss: 1.1350 - val_accuracy: 0.4286 - val_loss: 1.2614\n",
      "Epoch 20/40\n",
      "\u001b[1m4/4\u001b[0m \u001b[32m━━━━━━━━━━━━━━━━━━━━\u001b[0m\u001b[37m\u001b[0m \u001b[1m0s\u001b[0m 24ms/step - accuracy: 0.6795 - loss: 1.0939 - val_accuracy: 0.3571 - val_loss: 1.2819\n",
      "Epoch 21/40\n",
      "\u001b[1m4/4\u001b[0m \u001b[32m━━━━━━━━━━━━━━━━━━━━\u001b[0m\u001b[37m\u001b[0m \u001b[1m0s\u001b[0m 23ms/step - accuracy: 0.6324 - loss: 1.0678 - val_accuracy: 0.6429 - val_loss: 1.1472\n",
      "Epoch 22/40\n",
      "\u001b[1m4/4\u001b[0m \u001b[32m━━━━━━━━━━━━━━━━━━━━\u001b[0m\u001b[37m\u001b[0m \u001b[1m0s\u001b[0m 24ms/step - accuracy: 0.6365 - loss: 1.0767 - val_accuracy: 0.5000 - val_loss: 1.1755\n",
      "Epoch 23/40\n",
      "\u001b[1m4/4\u001b[0m \u001b[32m━━━━━━━━━━━━━━━━━━━━\u001b[0m\u001b[37m\u001b[0m \u001b[1m0s\u001b[0m 24ms/step - accuracy: 0.6543 - loss: 1.0350 - val_accuracy: 0.5000 - val_loss: 1.1304\n",
      "Epoch 24/40\n",
      "\u001b[1m4/4\u001b[0m \u001b[32m━━━━━━━━━━━━━━━━━━━━\u001b[0m\u001b[37m\u001b[0m \u001b[1m0s\u001b[0m 24ms/step - accuracy: 0.7439 - loss: 0.8898 - val_accuracy: 0.5714 - val_loss: 1.1089\n",
      "Epoch 25/40\n",
      "\u001b[1m4/4\u001b[0m \u001b[32m━━━━━━━━━━━━━━━━━━━━\u001b[0m\u001b[37m\u001b[0m \u001b[1m0s\u001b[0m 23ms/step - accuracy: 0.6879 - loss: 0.9201 - val_accuracy: 0.6429 - val_loss: 1.0554\n",
      "Epoch 26/40\n",
      "\u001b[1m4/4\u001b[0m \u001b[32m━━━━━━━━━━━━━━━━━━━━\u001b[0m\u001b[37m\u001b[0m \u001b[1m0s\u001b[0m 23ms/step - accuracy: 0.7606 - loss: 0.8436 - val_accuracy: 0.5714 - val_loss: 1.0510\n",
      "Epoch 27/40\n",
      "\u001b[1m4/4\u001b[0m \u001b[32m━━━━━━━━━━━━━━━━━━━━\u001b[0m\u001b[37m\u001b[0m \u001b[1m0s\u001b[0m 24ms/step - accuracy: 0.8288 - loss: 0.7731 - val_accuracy: 0.7143 - val_loss: 0.9826\n",
      "Epoch 28/40\n",
      "\u001b[1m4/4\u001b[0m \u001b[32m━━━━━━━━━━━━━━━━━━━━\u001b[0m\u001b[37m\u001b[0m \u001b[1m0s\u001b[0m 23ms/step - accuracy: 0.7613 - loss: 0.8053 - val_accuracy: 0.7143 - val_loss: 0.9846\n",
      "Epoch 29/40\n",
      "\u001b[1m4/4\u001b[0m \u001b[32m━━━━━━━━━━━━━━━━━━━━\u001b[0m\u001b[37m\u001b[0m \u001b[1m0s\u001b[0m 23ms/step - accuracy: 0.7884 - loss: 0.7865 - val_accuracy: 0.5714 - val_loss: 1.0237\n",
      "Epoch 30/40\n",
      "\u001b[1m4/4\u001b[0m \u001b[32m━━━━━━━━━━━━━━━━━━━━\u001b[0m\u001b[37m\u001b[0m \u001b[1m0s\u001b[0m 23ms/step - accuracy: 0.7913 - loss: 0.7294 - val_accuracy: 0.7143 - val_loss: 0.8424\n",
      "Epoch 31/40\n",
      "\u001b[1m4/4\u001b[0m \u001b[32m━━━━━━━━━━━━━━━━━━━━\u001b[0m\u001b[37m\u001b[0m \u001b[1m0s\u001b[0m 23ms/step - accuracy: 0.7861 - loss: 0.6867 - val_accuracy: 0.6429 - val_loss: 0.9590\n",
      "Epoch 32/40\n",
      "\u001b[1m4/4\u001b[0m \u001b[32m━━━━━━━━━━━━━━━━━━━━\u001b[0m\u001b[37m\u001b[0m \u001b[1m0s\u001b[0m 24ms/step - accuracy: 0.8194 - loss: 0.6545 - val_accuracy: 0.7857 - val_loss: 0.8165\n",
      "Epoch 33/40\n",
      "\u001b[1m4/4\u001b[0m \u001b[32m━━━━━━━━━━━━━━━━━━━━\u001b[0m\u001b[37m\u001b[0m \u001b[1m0s\u001b[0m 23ms/step - accuracy: 0.7983 - loss: 0.6922 - val_accuracy: 0.7143 - val_loss: 0.8063\n",
      "Epoch 34/40\n",
      "\u001b[1m4/4\u001b[0m \u001b[32m━━━━━━━━━━━━━━━━━━━━\u001b[0m\u001b[37m\u001b[0m \u001b[1m0s\u001b[0m 23ms/step - accuracy: 0.8861 - loss: 0.5415 - val_accuracy: 0.6429 - val_loss: 1.0919\n",
      "Epoch 35/40\n",
      "\u001b[1m4/4\u001b[0m \u001b[32m━━━━━━━━━━━━━━━━━━━━\u001b[0m\u001b[37m\u001b[0m \u001b[1m0s\u001b[0m 24ms/step - accuracy: 0.7551 - loss: 0.6729 - val_accuracy: 0.7143 - val_loss: 0.8101\n",
      "Epoch 36/40\n",
      "\u001b[1m4/4\u001b[0m \u001b[32m━━━━━━━━━━━━━━━━━━━━\u001b[0m\u001b[37m\u001b[0m \u001b[1m0s\u001b[0m 24ms/step - accuracy: 0.8455 - loss: 0.5486 - val_accuracy: 0.7143 - val_loss: 0.8656\n",
      "Epoch 37/40\n",
      "\u001b[1m4/4\u001b[0m \u001b[32m━━━━━━━━━━━━━━━━━━━━\u001b[0m\u001b[37m\u001b[0m \u001b[1m0s\u001b[0m 24ms/step - accuracy: 0.8676 - loss: 0.5342 - val_accuracy: 0.7143 - val_loss: 0.9653\n",
      "Epoch 38/40\n",
      "\u001b[1m4/4\u001b[0m \u001b[32m━━━━━━━━━━━━━━━━━━━━\u001b[0m\u001b[37m\u001b[0m \u001b[1m0s\u001b[0m 22ms/step - accuracy: 0.8598 - loss: 0.4964 - val_accuracy: 0.7143 - val_loss: 0.8703\n",
      "Epoch 39/40\n",
      "\u001b[1m4/4\u001b[0m \u001b[32m━━━━━━━━━━━━━━━━━━━━\u001b[0m\u001b[37m\u001b[0m \u001b[1m0s\u001b[0m 23ms/step - accuracy: 0.9017 - loss: 0.4454 - val_accuracy: 0.7143 - val_loss: 0.8499\n",
      "Epoch 40/40\n",
      "\u001b[1m4/4\u001b[0m \u001b[32m━━━━━━━━━━━━━━━━━━━━\u001b[0m\u001b[37m\u001b[0m \u001b[1m0s\u001b[0m 24ms/step - accuracy: 0.8622 - loss: 0.5001 - val_accuracy: 0.7143 - val_loss: 0.9337\n"
     ]
    },
    {
     "data": {
      "text/plain": [
       "<keras.src.callbacks.history.History at 0x1a34d5969c0>"
      ]
     },
     "execution_count": 30,
     "metadata": {},
     "output_type": "execute_result"
    }
   ],
   "source": [
    "model.compile(\n",
    "    optimizer='adam',\n",
    "    loss='categorical_crossentropy',\n",
    "    metrics=['accuracy'])\n",
    "model.fit(emb_XT,y_train,batch_size=32,epochs=40,shuffle=True,validation_split=0.1)"
   ]
  },
  {
   "cell_type": "code",
   "execution_count": 31,
   "id": "a6599708-61cc-40a8-b738-7b70a799aac0",
   "metadata": {},
   "outputs": [
    {
     "name": "stdout",
     "output_type": "stream",
     "text": [
      "\u001b[1m2/2\u001b[0m \u001b[32m━━━━━━━━━━━━━━━━━━━━\u001b[0m\u001b[37m\u001b[0m \u001b[1m0s\u001b[0m 22ms/step - accuracy: 0.5685 - loss: 1.0763\n"
     ]
    },
    {
     "data": {
      "text/plain": [
       "[1.0729683637619019, 0.5714285969734192]"
      ]
     },
     "execution_count": 31,
     "metadata": {},
     "output_type": "execute_result"
    }
   ],
   "source": [
    "model.evaluate(emb_Xt,y_test)"
   ]
  },
  {
   "cell_type": "code",
   "execution_count": 34,
   "id": "e73d8591-7592-4e26-98bf-7c247f127341",
   "metadata": {},
   "outputs": [
    {
     "name": "stdout",
     "output_type": "stream",
     "text": [
      "\u001b[1m2/2\u001b[0m \u001b[32m━━━━━━━━━━━━━━━━━━━━\u001b[0m\u001b[37m\u001b[0m \u001b[1m0s\u001b[0m 231ms/step\n"
     ]
    }
   ],
   "source": [
    "ypred = model.predict(emb_Xt)"
   ]
  },
  {
   "cell_type": "code",
   "execution_count": 36,
   "id": "6e7c5ddf-b30b-4290-a54a-766148a77967",
   "metadata": {},
   "outputs": [
    {
     "name": "stdout",
     "output_type": "stream",
     "text": [
      "I want to eat\t\n",
      "🍴\n",
      "🍴\n",
      "he did not answer\t\n",
      "😓\n",
      "😓\n",
      "he got a raise\t\n",
      "😁\n",
      "😓\n",
      "she got me a present\t\n",
      "❤️\n",
      "❤️\n",
      "ha ha ha it was so funny\t\n",
      "😁\n",
      "😁\n",
      "he is a good friend\t\n",
      "❤️\n",
      "😓\n",
      "I am upset\t\n",
      "❤️\n",
      "😓\n",
      "We had such a lovely dinner tonight\t\n",
      "❤️\n",
      "😁\n",
      "where is the food\t\n",
      "🍴\n",
      "🍴\n",
      "Stop making this joke ha ha ha\t\n",
      "😁\n",
      "😁\n",
      "where is the ball\t\n",
      "⚾\n",
      "⚾\n",
      "work is hard\t\n",
      "😓\n",
      "😓\n",
      "This girl is messing with me\t\n",
      "😓\n",
      "😓\n",
      "are you serious ha ha\t\n",
      "😁\n",
      "❤️\n",
      "Let us go play baseball\t\n",
      "⚾\n",
      "⚾\n",
      "This stupid grader is not working \t\n",
      "😓\n",
      "😓\n",
      "work is horrible\t\n",
      "😓\n",
      "😁\n",
      "Congratulation for having a baby\t\n",
      "😁\n",
      "😁\n",
      "stop messing around\t\n",
      "😓\n",
      "⚾\n",
      "any suggestions for dinner\t\n",
      "🍴\n",
      "❤️\n",
      "I love taking breaks\t\n",
      "❤️\n",
      "❤️\n",
      "you brighten my day\t\n",
      "😁\n",
      "❤️\n",
      "I boiled rice\t\n",
      "🍴\n",
      "🍴\n",
      "she is a bully\t\n",
      "😓\n",
      "❤️\n",
      "Why are you feeling bad\t\n",
      "😓\n",
      "😓\n",
      "I am upset\t\n",
      "😓\n",
      "😓\n",
      "I worked during my birthday\t\n",
      "😓\n",
      "😁\n",
      "My grandmother is the love of my life\t\n",
      "❤️\n",
      "❤️\n",
      "enjoy your break\t\n",
      "😁\n",
      "⚾\n",
      "valentine day is near\t\n",
      "❤️\n",
      "😁\n"
     ]
    }
   ],
   "source": [
    "for i in range(30):\n",
    "    print(X_test.iloc[i])\n",
    "    print(emoji.emojize(emoji_dictionary[str(np.argmax(y_test[i]))]))\n",
    "    print(emoji.emojize(emoji_dictionary[str(np.argmax(ypred[i]))]))"
   ]
  },
  {
   "cell_type": "code",
   "execution_count": null,
   "id": "3e9cb3ae-dbe0-4a86-8145-6783b6ec3a78",
   "metadata": {},
   "outputs": [],
   "source": []
  }
 ],
 "metadata": {
  "kernelspec": {
   "display_name": "Python 3 (ipykernel)",
   "language": "python",
   "name": "python3"
  },
  "language_info": {
   "codemirror_mode": {
    "name": "ipython",
    "version": 3
   },
   "file_extension": ".py",
   "mimetype": "text/x-python",
   "name": "python",
   "nbconvert_exporter": "python",
   "pygments_lexer": "ipython3",
   "version": "3.12.9"
  }
 },
 "nbformat": 4,
 "nbformat_minor": 5
}
