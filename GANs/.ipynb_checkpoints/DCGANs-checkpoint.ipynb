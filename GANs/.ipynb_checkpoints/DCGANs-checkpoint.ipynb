{
 "cells": [
  {
   "cell_type": "code",
   "execution_count": 1,
   "id": "ac9bbbbe-2e7d-4e1d-903d-2b14f6282e94",
   "metadata": {},
   "outputs": [],
   "source": [
    "import tensorflow as tf\n",
    "from tensorflow import keras\n",
    "import numpy as np\n",
    "from keras.datasets.mnist import load_data\n",
    "from tensorflow.keras.optimizers import Adam\n",
    "from keras.models import Sequential\n",
    "import matplotlib.pyplot as plt"
   ]
  },
  {
   "cell_type": "code",
   "execution_count": null,
   "id": "59f98b08-099a-4dfb-a718-e52c5b6a8ae2",
   "metadata": {},
   "outputs": [],
   "source": []
  },
  {
   "cell_type": "code",
   "execution_count": 5,
   "id": "ff18c75e-5ae9-4264-9ec3-f29f27c74281",
   "metadata": {},
   "outputs": [],
   "source": [
    "def discriminator(in_shape = (784,)):\n",
    "    model  = Sequential()\n",
    "    model.add(keras.Input(shape=in_shape))\n",
    "    model.add(keras.layers.Dense(256,activation='leaky_relu'))\n",
    "    model.add(keras.layers.Dropout(0.3))\n",
    "    model.add(keras.layers.Dense(64,activation='leaky_relu'))\n",
    "    model.add(keras.layers.Dropout(0.3))\n",
    "    model.add(keras.layers.Dense(8,activation='leaky_relu'))\n",
    "    model.add(keras.layers.Dense(1,activation='sigmoid'))\n",
    "\n",
    "    model.compile(loss='binary_crossentropy',\n",
    "                  optimizer=Adam(),\n",
    "                  metrics = ['accuracy'])\n",
    "\n",
    "    return model"
   ]
  },
  {
   "cell_type": "code",
   "execution_count": 6,
   "id": "05d49a57-fc38-4a1e-b994-3a51b8857021",
   "metadata": {
    "scrolled": true
   },
   "outputs": [
    {
     "data": {
      "text/html": [
       "<pre style=\"white-space:pre;overflow-x:auto;line-height:normal;font-family:Menlo,'DejaVu Sans Mono',consolas,'Courier New',monospace\"><span style=\"font-weight: bold\">Model: \"sequential_1\"</span>\n",
       "</pre>\n"
      ],
      "text/plain": [
       "\u001b[1mModel: \"sequential_1\"\u001b[0m\n"
      ]
     },
     "metadata": {},
     "output_type": "display_data"
    },
    {
     "data": {
      "text/html": [
       "<pre style=\"white-space:pre;overflow-x:auto;line-height:normal;font-family:Menlo,'DejaVu Sans Mono',consolas,'Courier New',monospace\">┏━━━━━━━━━━━━━━━━━━━━━━━━━━━━━━━━━━━━━━┳━━━━━━━━━━━━━━━━━━━━━━━━━━━━━┳━━━━━━━━━━━━━━━━━┓\n",
       "┃<span style=\"font-weight: bold\"> Layer (type)                         </span>┃<span style=\"font-weight: bold\"> Output Shape                </span>┃<span style=\"font-weight: bold\">         Param # </span>┃\n",
       "┡━━━━━━━━━━━━━━━━━━━━━━━━━━━━━━━━━━━━━━╇━━━━━━━━━━━━━━━━━━━━━━━━━━━━━╇━━━━━━━━━━━━━━━━━┩\n",
       "│ dense_4 (<span style=\"color: #0087ff; text-decoration-color: #0087ff\">Dense</span>)                      │ (<span style=\"color: #00d7ff; text-decoration-color: #00d7ff\">None</span>, <span style=\"color: #00af00; text-decoration-color: #00af00\">256</span>)                 │         <span style=\"color: #00af00; text-decoration-color: #00af00\">200,960</span> │\n",
       "├──────────────────────────────────────┼─────────────────────────────┼─────────────────┤\n",
       "│ dropout_2 (<span style=\"color: #0087ff; text-decoration-color: #0087ff\">Dropout</span>)                  │ (<span style=\"color: #00d7ff; text-decoration-color: #00d7ff\">None</span>, <span style=\"color: #00af00; text-decoration-color: #00af00\">256</span>)                 │               <span style=\"color: #00af00; text-decoration-color: #00af00\">0</span> │\n",
       "├──────────────────────────────────────┼─────────────────────────────┼─────────────────┤\n",
       "│ dense_5 (<span style=\"color: #0087ff; text-decoration-color: #0087ff\">Dense</span>)                      │ (<span style=\"color: #00d7ff; text-decoration-color: #00d7ff\">None</span>, <span style=\"color: #00af00; text-decoration-color: #00af00\">64</span>)                  │          <span style=\"color: #00af00; text-decoration-color: #00af00\">16,448</span> │\n",
       "├──────────────────────────────────────┼─────────────────────────────┼─────────────────┤\n",
       "│ dropout_3 (<span style=\"color: #0087ff; text-decoration-color: #0087ff\">Dropout</span>)                  │ (<span style=\"color: #00d7ff; text-decoration-color: #00d7ff\">None</span>, <span style=\"color: #00af00; text-decoration-color: #00af00\">64</span>)                  │               <span style=\"color: #00af00; text-decoration-color: #00af00\">0</span> │\n",
       "├──────────────────────────────────────┼─────────────────────────────┼─────────────────┤\n",
       "│ dense_6 (<span style=\"color: #0087ff; text-decoration-color: #0087ff\">Dense</span>)                      │ (<span style=\"color: #00d7ff; text-decoration-color: #00d7ff\">None</span>, <span style=\"color: #00af00; text-decoration-color: #00af00\">8</span>)                   │             <span style=\"color: #00af00; text-decoration-color: #00af00\">520</span> │\n",
       "├──────────────────────────────────────┼─────────────────────────────┼─────────────────┤\n",
       "│ dense_7 (<span style=\"color: #0087ff; text-decoration-color: #0087ff\">Dense</span>)                      │ (<span style=\"color: #00d7ff; text-decoration-color: #00d7ff\">None</span>, <span style=\"color: #00af00; text-decoration-color: #00af00\">1</span>)                   │               <span style=\"color: #00af00; text-decoration-color: #00af00\">9</span> │\n",
       "└──────────────────────────────────────┴─────────────────────────────┴─────────────────┘\n",
       "</pre>\n"
      ],
      "text/plain": [
       "┏━━━━━━━━━━━━━━━━━━━━━━━━━━━━━━━━━━━━━━┳━━━━━━━━━━━━━━━━━━━━━━━━━━━━━┳━━━━━━━━━━━━━━━━━┓\n",
       "┃\u001b[1m \u001b[0m\u001b[1mLayer (type)                        \u001b[0m\u001b[1m \u001b[0m┃\u001b[1m \u001b[0m\u001b[1mOutput Shape               \u001b[0m\u001b[1m \u001b[0m┃\u001b[1m \u001b[0m\u001b[1m        Param #\u001b[0m\u001b[1m \u001b[0m┃\n",
       "┡━━━━━━━━━━━━━━━━━━━━━━━━━━━━━━━━━━━━━━╇━━━━━━━━━━━━━━━━━━━━━━━━━━━━━╇━━━━━━━━━━━━━━━━━┩\n",
       "│ dense_4 (\u001b[38;5;33mDense\u001b[0m)                      │ (\u001b[38;5;45mNone\u001b[0m, \u001b[38;5;34m256\u001b[0m)                 │         \u001b[38;5;34m200,960\u001b[0m │\n",
       "├──────────────────────────────────────┼─────────────────────────────┼─────────────────┤\n",
       "│ dropout_2 (\u001b[38;5;33mDropout\u001b[0m)                  │ (\u001b[38;5;45mNone\u001b[0m, \u001b[38;5;34m256\u001b[0m)                 │               \u001b[38;5;34m0\u001b[0m │\n",
       "├──────────────────────────────────────┼─────────────────────────────┼─────────────────┤\n",
       "│ dense_5 (\u001b[38;5;33mDense\u001b[0m)                      │ (\u001b[38;5;45mNone\u001b[0m, \u001b[38;5;34m64\u001b[0m)                  │          \u001b[38;5;34m16,448\u001b[0m │\n",
       "├──────────────────────────────────────┼─────────────────────────────┼─────────────────┤\n",
       "│ dropout_3 (\u001b[38;5;33mDropout\u001b[0m)                  │ (\u001b[38;5;45mNone\u001b[0m, \u001b[38;5;34m64\u001b[0m)                  │               \u001b[38;5;34m0\u001b[0m │\n",
       "├──────────────────────────────────────┼─────────────────────────────┼─────────────────┤\n",
       "│ dense_6 (\u001b[38;5;33mDense\u001b[0m)                      │ (\u001b[38;5;45mNone\u001b[0m, \u001b[38;5;34m8\u001b[0m)                   │             \u001b[38;5;34m520\u001b[0m │\n",
       "├──────────────────────────────────────┼─────────────────────────────┼─────────────────┤\n",
       "│ dense_7 (\u001b[38;5;33mDense\u001b[0m)                      │ (\u001b[38;5;45mNone\u001b[0m, \u001b[38;5;34m1\u001b[0m)                   │               \u001b[38;5;34m9\u001b[0m │\n",
       "└──────────────────────────────────────┴─────────────────────────────┴─────────────────┘\n"
      ]
     },
     "metadata": {},
     "output_type": "display_data"
    },
    {
     "data": {
      "text/html": [
       "<pre style=\"white-space:pre;overflow-x:auto;line-height:normal;font-family:Menlo,'DejaVu Sans Mono',consolas,'Courier New',monospace\"><span style=\"font-weight: bold\"> Total params: </span><span style=\"color: #00af00; text-decoration-color: #00af00\">217,937</span> (851.32 KB)\n",
       "</pre>\n"
      ],
      "text/plain": [
       "\u001b[1m Total params: \u001b[0m\u001b[38;5;34m217,937\u001b[0m (851.32 KB)\n"
      ]
     },
     "metadata": {},
     "output_type": "display_data"
    },
    {
     "data": {
      "text/html": [
       "<pre style=\"white-space:pre;overflow-x:auto;line-height:normal;font-family:Menlo,'DejaVu Sans Mono',consolas,'Courier New',monospace\"><span style=\"font-weight: bold\"> Trainable params: </span><span style=\"color: #00af00; text-decoration-color: #00af00\">217,937</span> (851.32 KB)\n",
       "</pre>\n"
      ],
      "text/plain": [
       "\u001b[1m Trainable params: \u001b[0m\u001b[38;5;34m217,937\u001b[0m (851.32 KB)\n"
      ]
     },
     "metadata": {},
     "output_type": "display_data"
    },
    {
     "data": {
      "text/html": [
       "<pre style=\"white-space:pre;overflow-x:auto;line-height:normal;font-family:Menlo,'DejaVu Sans Mono',consolas,'Courier New',monospace\"><span style=\"font-weight: bold\"> Non-trainable params: </span><span style=\"color: #00af00; text-decoration-color: #00af00\">0</span> (0.00 B)\n",
       "</pre>\n"
      ],
      "text/plain": [
       "\u001b[1m Non-trainable params: \u001b[0m\u001b[38;5;34m0\u001b[0m (0.00 B)\n"
      ]
     },
     "metadata": {},
     "output_type": "display_data"
    },
    {
     "name": "stdout",
     "output_type": "stream",
     "text": [
      "None\n"
     ]
    }
   ],
   "source": [
    "print(discriminator().summary())"
   ]
  },
  {
   "cell_type": "code",
   "execution_count": 27,
   "id": "1b94f6e1-dfc8-44fc-9d01-86f81e5fbcd2",
   "metadata": {},
   "outputs": [],
   "source": [
    "def generator(rv_dim = 50):\n",
    "    model = Sequential()\n",
    "    model.add(keras.Input(shape=(rv_dim,)))\n",
    "    model.add(keras.layers.Dense(64,activation='leaky_relu'))\n",
    "    model.add(keras.layers.Dense(256,activation='leaky_relu'))\n",
    "    model.add(keras.layers.Dropout(0.2))\n",
    "    model.add(keras.layers.Dense(512,activation='leaky_relu'))\n",
    "    model.add(keras.layers.Dense(784,activation='tanh'))\n",
    "\n",
    "    model.compile(loss = 'mse',\n",
    "                  optimizer=Adam(),\n",
    "                  metrics=['accuracy'])\n",
    "\n",
    "    return model\n",
    "    "
   ]
  },
  {
   "cell_type": "code",
   "execution_count": 28,
   "id": "a7bbb942-1a93-4d63-a0f5-2418a8d6c3b3",
   "metadata": {
    "scrolled": true
   },
   "outputs": [
    {
     "data": {
      "text/html": [
       "<pre style=\"white-space:pre;overflow-x:auto;line-height:normal;font-family:Menlo,'DejaVu Sans Mono',consolas,'Courier New',monospace\"><span style=\"font-weight: bold\">Model: \"sequential_7\"</span>\n",
       "</pre>\n"
      ],
      "text/plain": [
       "\u001b[1mModel: \"sequential_7\"\u001b[0m\n"
      ]
     },
     "metadata": {},
     "output_type": "display_data"
    },
    {
     "data": {
      "text/html": [
       "<pre style=\"white-space:pre;overflow-x:auto;line-height:normal;font-family:Menlo,'DejaVu Sans Mono',consolas,'Courier New',monospace\">┏━━━━━━━━━━━━━━━━━━━━━━━━━━━━━━━━━━━━━━┳━━━━━━━━━━━━━━━━━━━━━━━━━━━━━┳━━━━━━━━━━━━━━━━━┓\n",
       "┃<span style=\"font-weight: bold\"> Layer (type)                         </span>┃<span style=\"font-weight: bold\"> Output Shape                </span>┃<span style=\"font-weight: bold\">         Param # </span>┃\n",
       "┡━━━━━━━━━━━━━━━━━━━━━━━━━━━━━━━━━━━━━━╇━━━━━━━━━━━━━━━━━━━━━━━━━━━━━╇━━━━━━━━━━━━━━━━━┩\n",
       "│ dense_24 (<span style=\"color: #0087ff; text-decoration-color: #0087ff\">Dense</span>)                     │ (<span style=\"color: #00d7ff; text-decoration-color: #00d7ff\">None</span>, <span style=\"color: #00af00; text-decoration-color: #00af00\">64</span>)                  │           <span style=\"color: #00af00; text-decoration-color: #00af00\">3,264</span> │\n",
       "├──────────────────────────────────────┼─────────────────────────────┼─────────────────┤\n",
       "│ dense_25 (<span style=\"color: #0087ff; text-decoration-color: #0087ff\">Dense</span>)                     │ (<span style=\"color: #00d7ff; text-decoration-color: #00d7ff\">None</span>, <span style=\"color: #00af00; text-decoration-color: #00af00\">256</span>)                 │          <span style=\"color: #00af00; text-decoration-color: #00af00\">16,640</span> │\n",
       "├──────────────────────────────────────┼─────────────────────────────┼─────────────────┤\n",
       "│ dropout_8 (<span style=\"color: #0087ff; text-decoration-color: #0087ff\">Dropout</span>)                  │ (<span style=\"color: #00d7ff; text-decoration-color: #00d7ff\">None</span>, <span style=\"color: #00af00; text-decoration-color: #00af00\">256</span>)                 │               <span style=\"color: #00af00; text-decoration-color: #00af00\">0</span> │\n",
       "├──────────────────────────────────────┼─────────────────────────────┼─────────────────┤\n",
       "│ dense_26 (<span style=\"color: #0087ff; text-decoration-color: #0087ff\">Dense</span>)                     │ (<span style=\"color: #00d7ff; text-decoration-color: #00d7ff\">None</span>, <span style=\"color: #00af00; text-decoration-color: #00af00\">512</span>)                 │         <span style=\"color: #00af00; text-decoration-color: #00af00\">131,584</span> │\n",
       "├──────────────────────────────────────┼─────────────────────────────┼─────────────────┤\n",
       "│ dense_27 (<span style=\"color: #0087ff; text-decoration-color: #0087ff\">Dense</span>)                     │ (<span style=\"color: #00d7ff; text-decoration-color: #00d7ff\">None</span>, <span style=\"color: #00af00; text-decoration-color: #00af00\">784</span>)                 │         <span style=\"color: #00af00; text-decoration-color: #00af00\">402,192</span> │\n",
       "└──────────────────────────────────────┴─────────────────────────────┴─────────────────┘\n",
       "</pre>\n"
      ],
      "text/plain": [
       "┏━━━━━━━━━━━━━━━━━━━━━━━━━━━━━━━━━━━━━━┳━━━━━━━━━━━━━━━━━━━━━━━━━━━━━┳━━━━━━━━━━━━━━━━━┓\n",
       "┃\u001b[1m \u001b[0m\u001b[1mLayer (type)                        \u001b[0m\u001b[1m \u001b[0m┃\u001b[1m \u001b[0m\u001b[1mOutput Shape               \u001b[0m\u001b[1m \u001b[0m┃\u001b[1m \u001b[0m\u001b[1m        Param #\u001b[0m\u001b[1m \u001b[0m┃\n",
       "┡━━━━━━━━━━━━━━━━━━━━━━━━━━━━━━━━━━━━━━╇━━━━━━━━━━━━━━━━━━━━━━━━━━━━━╇━━━━━━━━━━━━━━━━━┩\n",
       "│ dense_24 (\u001b[38;5;33mDense\u001b[0m)                     │ (\u001b[38;5;45mNone\u001b[0m, \u001b[38;5;34m64\u001b[0m)                  │           \u001b[38;5;34m3,264\u001b[0m │\n",
       "├──────────────────────────────────────┼─────────────────────────────┼─────────────────┤\n",
       "│ dense_25 (\u001b[38;5;33mDense\u001b[0m)                     │ (\u001b[38;5;45mNone\u001b[0m, \u001b[38;5;34m256\u001b[0m)                 │          \u001b[38;5;34m16,640\u001b[0m │\n",
       "├──────────────────────────────────────┼─────────────────────────────┼─────────────────┤\n",
       "│ dropout_8 (\u001b[38;5;33mDropout\u001b[0m)                  │ (\u001b[38;5;45mNone\u001b[0m, \u001b[38;5;34m256\u001b[0m)                 │               \u001b[38;5;34m0\u001b[0m │\n",
       "├──────────────────────────────────────┼─────────────────────────────┼─────────────────┤\n",
       "│ dense_26 (\u001b[38;5;33mDense\u001b[0m)                     │ (\u001b[38;5;45mNone\u001b[0m, \u001b[38;5;34m512\u001b[0m)                 │         \u001b[38;5;34m131,584\u001b[0m │\n",
       "├──────────────────────────────────────┼─────────────────────────────┼─────────────────┤\n",
       "│ dense_27 (\u001b[38;5;33mDense\u001b[0m)                     │ (\u001b[38;5;45mNone\u001b[0m, \u001b[38;5;34m784\u001b[0m)                 │         \u001b[38;5;34m402,192\u001b[0m │\n",
       "└──────────────────────────────────────┴─────────────────────────────┴─────────────────┘\n"
      ]
     },
     "metadata": {},
     "output_type": "display_data"
    },
    {
     "data": {
      "text/html": [
       "<pre style=\"white-space:pre;overflow-x:auto;line-height:normal;font-family:Menlo,'DejaVu Sans Mono',consolas,'Courier New',monospace\"><span style=\"font-weight: bold\"> Total params: </span><span style=\"color: #00af00; text-decoration-color: #00af00\">553,680</span> (2.11 MB)\n",
       "</pre>\n"
      ],
      "text/plain": [
       "\u001b[1m Total params: \u001b[0m\u001b[38;5;34m553,680\u001b[0m (2.11 MB)\n"
      ]
     },
     "metadata": {},
     "output_type": "display_data"
    },
    {
     "data": {
      "text/html": [
       "<pre style=\"white-space:pre;overflow-x:auto;line-height:normal;font-family:Menlo,'DejaVu Sans Mono',consolas,'Courier New',monospace\"><span style=\"font-weight: bold\"> Trainable params: </span><span style=\"color: #00af00; text-decoration-color: #00af00\">553,680</span> (2.11 MB)\n",
       "</pre>\n"
      ],
      "text/plain": [
       "\u001b[1m Trainable params: \u001b[0m\u001b[38;5;34m553,680\u001b[0m (2.11 MB)\n"
      ]
     },
     "metadata": {},
     "output_type": "display_data"
    },
    {
     "data": {
      "text/html": [
       "<pre style=\"white-space:pre;overflow-x:auto;line-height:normal;font-family:Menlo,'DejaVu Sans Mono',consolas,'Courier New',monospace\"><span style=\"font-weight: bold\"> Non-trainable params: </span><span style=\"color: #00af00; text-decoration-color: #00af00\">0</span> (0.00 B)\n",
       "</pre>\n"
      ],
      "text/plain": [
       "\u001b[1m Non-trainable params: \u001b[0m\u001b[38;5;34m0\u001b[0m (0.00 B)\n"
      ]
     },
     "metadata": {},
     "output_type": "display_data"
    },
    {
     "name": "stdout",
     "output_type": "stream",
     "text": [
      "None\n"
     ]
    }
   ],
   "source": [
    "print(generator().summary())"
   ]
  },
  {
   "cell_type": "code",
   "execution_count": 11,
   "id": "6b4e9bd0-bdd5-4621-a881-805cb91d0922",
   "metadata": {},
   "outputs": [],
   "source": [
    "def gan_model(g_model,d_model):\n",
    "    model = Sequential()\n",
    "    model.add(g_model)\n",
    "    model.add(d_model)\n",
    "\n",
    "    model.compile(loss='binary_crossentropy',\n",
    "                  optimizer=Adam(),\n",
    "                  metrics = ['accuracy'])\n",
    "    return model"
   ]
  },
  {
   "cell_type": "code",
   "execution_count": 12,
   "id": "3dc84fbf-7fa8-40b7-8f03-81820da2b8fb",
   "metadata": {
    "scrolled": true
   },
   "outputs": [
    {
     "data": {
      "text/html": [
       "<pre style=\"white-space:pre;overflow-x:auto;line-height:normal;font-family:Menlo,'DejaVu Sans Mono',consolas,'Courier New',monospace\"><span style=\"font-weight: bold\">Model: \"sequential_6\"</span>\n",
       "</pre>\n"
      ],
      "text/plain": [
       "\u001b[1mModel: \"sequential_6\"\u001b[0m\n"
      ]
     },
     "metadata": {},
     "output_type": "display_data"
    },
    {
     "data": {
      "text/html": [
       "<pre style=\"white-space:pre;overflow-x:auto;line-height:normal;font-family:Menlo,'DejaVu Sans Mono',consolas,'Courier New',monospace\">┏━━━━━━━━━━━━━━━━━━━━━━━━━━━━━━━━━━━━━━┳━━━━━━━━━━━━━━━━━━━━━━━━━━━━━┳━━━━━━━━━━━━━━━━━┓\n",
       "┃<span style=\"font-weight: bold\"> Layer (type)                         </span>┃<span style=\"font-weight: bold\"> Output Shape                </span>┃<span style=\"font-weight: bold\">         Param # </span>┃\n",
       "┡━━━━━━━━━━━━━━━━━━━━━━━━━━━━━━━━━━━━━━╇━━━━━━━━━━━━━━━━━━━━━━━━━━━━━╇━━━━━━━━━━━━━━━━━┩\n",
       "│ sequential_4 (<span style=\"color: #0087ff; text-decoration-color: #0087ff\">Sequential</span>)            │ (<span style=\"color: #00d7ff; text-decoration-color: #00d7ff\">None</span>, <span style=\"color: #00af00; text-decoration-color: #00af00\">784</span>)                 │         <span style=\"color: #00af00; text-decoration-color: #00af00\">553,680</span> │\n",
       "├──────────────────────────────────────┼─────────────────────────────┼─────────────────┤\n",
       "│ sequential_5 (<span style=\"color: #0087ff; text-decoration-color: #0087ff\">Sequential</span>)            │ (<span style=\"color: #00d7ff; text-decoration-color: #00d7ff\">None</span>, <span style=\"color: #00af00; text-decoration-color: #00af00\">1</span>)                   │         <span style=\"color: #00af00; text-decoration-color: #00af00\">217,937</span> │\n",
       "└──────────────────────────────────────┴─────────────────────────────┴─────────────────┘\n",
       "</pre>\n"
      ],
      "text/plain": [
       "┏━━━━━━━━━━━━━━━━━━━━━━━━━━━━━━━━━━━━━━┳━━━━━━━━━━━━━━━━━━━━━━━━━━━━━┳━━━━━━━━━━━━━━━━━┓\n",
       "┃\u001b[1m \u001b[0m\u001b[1mLayer (type)                        \u001b[0m\u001b[1m \u001b[0m┃\u001b[1m \u001b[0m\u001b[1mOutput Shape               \u001b[0m\u001b[1m \u001b[0m┃\u001b[1m \u001b[0m\u001b[1m        Param #\u001b[0m\u001b[1m \u001b[0m┃\n",
       "┡━━━━━━━━━━━━━━━━━━━━━━━━━━━━━━━━━━━━━━╇━━━━━━━━━━━━━━━━━━━━━━━━━━━━━╇━━━━━━━━━━━━━━━━━┩\n",
       "│ sequential_4 (\u001b[38;5;33mSequential\u001b[0m)            │ (\u001b[38;5;45mNone\u001b[0m, \u001b[38;5;34m784\u001b[0m)                 │         \u001b[38;5;34m553,680\u001b[0m │\n",
       "├──────────────────────────────────────┼─────────────────────────────┼─────────────────┤\n",
       "│ sequential_5 (\u001b[38;5;33mSequential\u001b[0m)            │ (\u001b[38;5;45mNone\u001b[0m, \u001b[38;5;34m1\u001b[0m)                   │         \u001b[38;5;34m217,937\u001b[0m │\n",
       "└──────────────────────────────────────┴─────────────────────────────┴─────────────────┘\n"
      ]
     },
     "metadata": {},
     "output_type": "display_data"
    },
    {
     "data": {
      "text/html": [
       "<pre style=\"white-space:pre;overflow-x:auto;line-height:normal;font-family:Menlo,'DejaVu Sans Mono',consolas,'Courier New',monospace\"><span style=\"font-weight: bold\"> Total params: </span><span style=\"color: #00af00; text-decoration-color: #00af00\">771,617</span> (2.94 MB)\n",
       "</pre>\n"
      ],
      "text/plain": [
       "\u001b[1m Total params: \u001b[0m\u001b[38;5;34m771,617\u001b[0m (2.94 MB)\n"
      ]
     },
     "metadata": {},
     "output_type": "display_data"
    },
    {
     "data": {
      "text/html": [
       "<pre style=\"white-space:pre;overflow-x:auto;line-height:normal;font-family:Menlo,'DejaVu Sans Mono',consolas,'Courier New',monospace\"><span style=\"font-weight: bold\"> Trainable params: </span><span style=\"color: #00af00; text-decoration-color: #00af00\">771,617</span> (2.94 MB)\n",
       "</pre>\n"
      ],
      "text/plain": [
       "\u001b[1m Trainable params: \u001b[0m\u001b[38;5;34m771,617\u001b[0m (2.94 MB)\n"
      ]
     },
     "metadata": {},
     "output_type": "display_data"
    },
    {
     "data": {
      "text/html": [
       "<pre style=\"white-space:pre;overflow-x:auto;line-height:normal;font-family:Menlo,'DejaVu Sans Mono',consolas,'Courier New',monospace\"><span style=\"font-weight: bold\"> Non-trainable params: </span><span style=\"color: #00af00; text-decoration-color: #00af00\">0</span> (0.00 B)\n",
       "</pre>\n"
      ],
      "text/plain": [
       "\u001b[1m Non-trainable params: \u001b[0m\u001b[38;5;34m0\u001b[0m (0.00 B)\n"
      ]
     },
     "metadata": {},
     "output_type": "display_data"
    },
    {
     "name": "stdout",
     "output_type": "stream",
     "text": [
      "None\n"
     ]
    }
   ],
   "source": [
    "print(gan_model(generator(),discriminator()).summary())"
   ]
  },
  {
   "cell_type": "code",
   "execution_count": 13,
   "id": "c1331560-bcfa-4a09-9e33-d04ed2fc7f26",
   "metadata": {},
   "outputs": [],
   "source": [
    "def load_real_data():\n",
    "    (X_train,_),(_,_) = load_data()\n",
    "    X_train = X_train.reshape(-1,784).astype('f8')-127.5\n",
    "    return X_train/127.5"
   ]
  },
  {
   "cell_type": "code",
   "execution_count": 20,
   "id": "edd0d2f0-2833-4173-ab7f-3a9ec2a23be1",
   "metadata": {},
   "outputs": [],
   "source": [
    "def generate_real_samples(data,n_samples = 100):\n",
    "    ix = np.random.randint(0,data.shape[0],n_samples)\n",
    "    X_train = data[ix]\n",
    "    y = np.ones(shape=(X_train.shape[0],1))\n",
    "    return X_train,y"
   ]
  },
  {
   "cell_type": "code",
   "execution_count": 21,
   "id": "d68fd9e6-5187-4b65-a68c-871de7eef96e",
   "metadata": {},
   "outputs": [],
   "source": [
    "# data = load_real_data()\n",
    "# generate_real_samples(data,1)"
   ]
  },
  {
   "cell_type": "code",
   "execution_count": 22,
   "id": "80a7be4a-f960-48a6-a76a-d61620bd51c4",
   "metadata": {},
   "outputs": [],
   "source": [
    "def generate_rv(rv_dim,n_sample=100):\n",
    "    return np.random.randn(n_sample,rv_dim)"
   ]
  },
  {
   "cell_type": "code",
   "execution_count": 23,
   "id": "77f4df66-2805-4f04-abcc-21832b84b70d",
   "metadata": {},
   "outputs": [],
   "source": [
    "def generate_fake_images(g_model,rv_dim,n_samples = 100):\n",
    "    rv = generate_rv(rv_dim,n_samples)\n",
    "    fimg = g_model.predict(rv)\n",
    "    y = np.zeros(shape = (n_samples,1))\n",
    "    return fimg,y"
   ]
  },
  {
   "cell_type": "code",
   "execution_count": 29,
   "id": "9abea03b-6772-4f12-bf34-a5092450ba6a",
   "metadata": {},
   "outputs": [],
   "source": [
    "def save_fig(g_model,rv_dim,epoch):\n",
    "    n = 10\n",
    "    rv = generate_rv(rv_dim,n*n)\n",
    "    f_imgs = g_model.predict(rv)\n",
    "    for i in range(n * n):\n",
    "        plt.subplot(n, n, 1+i)\n",
    "        plt.axis('off')\n",
    "        plt.imshow(f_imgs[i].reshape((28,28)), interpolation='nearest',cmap = 'gray')\n",
    "    filename = f'./GAN_output/generated_plot_e{epoch}.png'\n",
    "    plt.savefig(filename)\n",
    "    plt.close()"
   ]
  },
  {
   "cell_type": "code",
   "execution_count": 33,
   "id": "3df03df8-35ed-429d-9540-9686a8f6a942",
   "metadata": {},
   "outputs": [],
   "source": [
    "def train(data,g_model,d_model,gan_model,rv_dim,epochs = 51,batch_size = 256):\n",
    "    nbatchs = data.shape[0]//batch_size\n",
    "    half_batch = batch_size//2\n",
    "\n",
    "    for e in range(epochs):\n",
    "        for bn in range(nbatchs):\n",
    "            x_real,y_real = generate_real_samples(data,half_batch)\n",
    "            x_fake,y_fake = generate_fake_images(g_model,rv_dim,half_batch)\n",
    "\n",
    "            d_model.trainable = True\n",
    "\n",
    "            r_loss,_ = d_model.train_on_batch(x_real,y_real)\n",
    "            f_loss,_ = d_model.train_on_batch(x_fake,y_fake)\n",
    "\n",
    "            d_loss = 0.5*(r_loss+f_loss)\n",
    "\n",
    "            d_model.trainable = False\n",
    "\n",
    "            x_rv = generate_rv(rv_dim,batch_size)\n",
    "            y = np.ones(shape=(x_rv.shape[0],1))\n",
    "\n",
    "            g_loss,_ = gan_model.train_on_batch(x_rv,y)\n",
    "\n",
    "        print(f'Epoch: {e+1}, d_loss: {d_loss}, g_loss: {g_loss}')\n",
    "        if e%10 == 0:\n",
    "            save_fig(g_model,rv_dim,e)"
   ]
  },
  {
   "cell_type": "code",
   "execution_count": 34,
   "id": "7f3ee67d-82d9-44d5-a2c1-67e7ca750be8",
   "metadata": {},
   "outputs": [
    {
     "name": "stdout",
     "output_type": "stream",
     "text": [
      "Epoch: 1, d_loss: 0.16273373365402222, g_loss: 3.8132822513580322\n",
      "Epoch: 2, d_loss: 0.19393290579319, g_loss: 4.101649284362793\n",
      "Epoch: 3, d_loss: 0.23413152992725372, g_loss: 3.913792371749878\n",
      "Epoch: 4, d_loss: 0.23362623155117035, g_loss: 3.821084499359131\n",
      "Epoch: 5, d_loss: 0.24170395731925964, g_loss: 3.806110143661499\n",
      "Epoch: 6, d_loss: 0.22938503324985504, g_loss: 3.8057026863098145\n",
      "Epoch: 7, d_loss: 0.23645555973052979, g_loss: 3.7547895908355713\n",
      "Epoch: 8, d_loss: 0.2443949282169342, g_loss: 3.624877452850342\n",
      "Epoch: 9, d_loss: 0.25534456968307495, g_loss: 3.5069990158081055\n",
      "Epoch: 10, d_loss: 0.2648019790649414, g_loss: 3.4007954597473145\n",
      "Epoch: 11, d_loss: 0.27410632371902466, g_loss: 3.2989392280578613\n",
      "Epoch: 12, d_loss: 0.28568947315216064, g_loss: 3.194089651107788\n",
      "Epoch: 13, d_loss: 0.29776066541671753, g_loss: 3.077631950378418\n",
      "Epoch: 14, d_loss: 0.3095737397670746, g_loss: 2.977318286895752\n",
      "Epoch: 15, d_loss: 0.32097727060317993, g_loss: 2.886955976486206\n",
      "Epoch: 16, d_loss: 0.32873356342315674, g_loss: 2.8133740425109863\n",
      "Epoch: 17, d_loss: 0.33779412508010864, g_loss: 2.745593547821045\n",
      "Epoch: 18, d_loss: 0.3457774519920349, g_loss: 2.6878809928894043\n",
      "Epoch: 19, d_loss: 0.35136091709136963, g_loss: 2.640319347381592\n",
      "Epoch: 20, d_loss: 0.35666459798812866, g_loss: 2.592421531677246\n",
      "Epoch: 21, d_loss: 0.3626079559326172, g_loss: 2.5479798316955566\n",
      "Epoch: 22, d_loss: 0.36881905794143677, g_loss: 2.5007307529449463\n",
      "Epoch: 23, d_loss: 0.3738061785697937, g_loss: 2.4616615772247314\n",
      "Epoch: 24, d_loss: 0.379014253616333, g_loss: 2.424511194229126\n",
      "Epoch: 25, d_loss: 0.3835656940937042, g_loss: 2.3889851570129395\n",
      "Epoch: 26, d_loss: 0.38803231716156006, g_loss: 2.35886549949646\n",
      "Epoch: 27, d_loss: 0.39182400703430176, g_loss: 2.3309314250946045\n",
      "Epoch: 28, d_loss: 0.3939627707004547, g_loss: 2.309459686279297\n",
      "Epoch: 29, d_loss: 0.3967481851577759, g_loss: 2.2873029708862305\n",
      "Epoch: 30, d_loss: 0.3998609781265259, g_loss: 2.2669856548309326\n",
      "Epoch: 31, d_loss: 0.401841402053833, g_loss: 2.2495946884155273\n",
      "Epoch: 32, d_loss: 0.4039977788925171, g_loss: 2.2311158180236816\n",
      "Epoch: 33, d_loss: 0.40601134300231934, g_loss: 2.214900255203247\n",
      "Epoch: 34, d_loss: 0.4077104330062866, g_loss: 2.200881242752075\n",
      "Epoch: 35, d_loss: 0.4090520441532135, g_loss: 2.18888521194458\n",
      "Epoch: 36, d_loss: 0.4112556576728821, g_loss: 2.1744682788848877\n",
      "Epoch: 37, d_loss: 0.4131600856781006, g_loss: 2.1595942974090576\n",
      "Epoch: 38, d_loss: 0.41539067029953003, g_loss: 2.1439454555511475\n",
      "Epoch: 39, d_loss: 0.4176182150840759, g_loss: 2.128916025161743\n",
      "Epoch: 40, d_loss: 0.4201866686344147, g_loss: 2.111278772354126\n",
      "Epoch: 41, d_loss: 0.4227457046508789, g_loss: 2.093982458114624\n",
      "Epoch: 42, d_loss: 0.424894243478775, g_loss: 2.0790767669677734\n",
      "Epoch: 43, d_loss: 0.426886647939682, g_loss: 2.0658209323883057\n",
      "Epoch: 44, d_loss: 0.4282360076904297, g_loss: 2.053524971008301\n",
      "Epoch: 45, d_loss: 0.4303221106529236, g_loss: 2.0402657985687256\n",
      "Epoch: 46, d_loss: 0.43233251571655273, g_loss: 2.0266711711883545\n",
      "Epoch: 47, d_loss: 0.4343244135379791, g_loss: 2.0139989852905273\n",
      "Epoch: 48, d_loss: 0.4359178841114044, g_loss: 2.0020787715911865\n",
      "Epoch: 49, d_loss: 0.43773049116134644, g_loss: 1.9900370836257935\n",
      "Epoch: 50, d_loss: 0.43900084495544434, g_loss: 1.9802393913269043\n",
      "Epoch: 51, d_loss: 0.44038206338882446, g_loss: 1.971551537513733\n"
     ]
    }
   ],
   "source": [
    "keras.utils.disable_interactive_logging()\n",
    "rv_dim = 50\n",
    "g_model = generator(rv_dim)\n",
    "d_model = discriminator()\n",
    "gan = gan_model(g_model,d_model)\n",
    "data = load_real_data()\n",
    "train(data,g_model,d_model,gan,rv_dim)\n",
    "keras.utils.enable_interactive_logging()"
   ]
  },
  {
   "cell_type": "code",
   "execution_count": null,
   "id": "b8fdfa01-d092-49c3-b947-f10b6d0f91ad",
   "metadata": {},
   "outputs": [],
   "source": []
  },
  {
   "cell_type": "code",
   "execution_count": null,
   "id": "df467eb5-432c-41b6-8eb8-4b94af8e9e2d",
   "metadata": {},
   "outputs": [],
   "source": []
  },
  {
   "cell_type": "code",
   "execution_count": null,
   "id": "ae520ac1-b3fa-4875-bfb4-be9fffb29d01",
   "metadata": {},
   "outputs": [],
   "source": []
  },
  {
   "cell_type": "code",
   "execution_count": null,
   "id": "eeed4907-e426-400c-8468-8d88dd490f50",
   "metadata": {},
   "outputs": [],
   "source": []
  },
  {
   "cell_type": "code",
   "execution_count": null,
   "id": "0db30e46-a353-4d57-af62-2b7f8b8b0109",
   "metadata": {},
   "outputs": [],
   "source": []
  },
  {
   "cell_type": "code",
   "execution_count": null,
   "id": "ef9db5d7-6938-48c1-baeb-75e00ae3b027",
   "metadata": {},
   "outputs": [],
   "source": []
  }
 ],
 "metadata": {
  "kernelspec": {
   "display_name": "Python 3 (ipykernel)",
   "language": "python",
   "name": "python3"
  },
  "language_info": {
   "codemirror_mode": {
    "name": "ipython",
    "version": 3
   },
   "file_extension": ".py",
   "mimetype": "text/x-python",
   "name": "python",
   "nbconvert_exporter": "python",
   "pygments_lexer": "ipython3",
   "version": "3.12.9"
  }
 },
 "nbformat": 4,
 "nbformat_minor": 5
}
