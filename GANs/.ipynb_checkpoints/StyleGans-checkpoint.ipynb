{
 "cells": [
  {
   "cell_type": "code",
   "execution_count": 9,
   "id": "ea9e7499-e6b1-4928-a259-9393ba077eb8",
   "metadata": {},
   "outputs": [],
   "source": [
    "#git clone https://github.com/NVlabs/stylegan2-ada-pytorch.git\n",
    "#pip install torch torchvision numpy pillow requests tqdm click scipy ninja imageio\n",
    "#Download pickle https://nvlabs-fi-cdn.nvidia.com/stylegan2-ada-pytorch/pretrained/"
   ]
  },
  {
   "cell_type": "code",
   "execution_count": 1,
   "id": "e07daa03-7ca1-484f-9381-85ae85e9e0eb",
   "metadata": {},
   "outputs": [],
   "source": [
    "# stylegan_generate.py\n",
    "\n",
    "import torch\n",
    "import legacy\n",
    "import numpy as np\n",
    "from torchvision.utils import save_image\n",
    "\n",
    "# Load pre-trained network\n",
    "network_pkl = 'ffhq.pkl'  # or your path\n",
    "device = torch.device('cuda' if torch.cuda.is_available() else 'cpu')\n",
    "\n",
    "with open(network_pkl, 'rb') as f:\n",
    "    G = legacy.load_network_pkl(f)['G_ema'].to(device)  # G_ema = averaged generator\n",
    "\n",
    "# Generate random latent vector z\n",
    "z = torch.randn([1, G.z_dim], device=device)  # (1, 512)\n",
    "label = torch.zeros([1, G.c_dim], device=device)  # No conditional class\n",
    "\n",
    "# Generate image\n",
    "img = G(z, label, truncation_psi=0.7, noise_mode='const')  # (1, 3, 1024, 1024)\n",
    "save_image((img + 1) / 2, 'generated_face.png')  # Normalize from [-1,1] to [0,1]\n"
   ]
  },
  {
   "cell_type": "code",
   "execution_count": 5,
   "id": "8ac447bd-2ca4-4c1f-9188-bf518ae40e7b",
   "metadata": {},
   "outputs": [],
   "source": [
    "z1 = torch.randn([1, G.z_dim], device=device)\n",
    "z2 = torch.randn([1, G.z_dim], device=device)\n",
    "w1 = G.mapping(z1, label, truncation_psi=0.7)\n",
    "w2 = G.mapping(z2, label, truncation_psi=0.7)\n",
    "\n",
    "# Mix first 8 layers from w1, rest from w2\n",
    "w_mixed = torch.cat([w1[:, :8], w2[:, 8:]], dim=1)\n",
    "img_mixed = G.synthesis(w_mixed, noise_mode='const')\n",
    "save_image((img_mixed + 1) / 2, 'style_mixed.png')\n"
   ]
  },
  {
   "cell_type": "code",
   "execution_count": null,
   "id": "2f06ccd1-4fb6-4f83-889f-665d9e979cba",
   "metadata": {},
   "outputs": [],
   "source": []
  },
  {
   "cell_type": "raw",
   "id": "71bc827d-4511-4030-8111-7fcba5450acb",
   "metadata": {},
   "source": [
    "python projector.py --outdir=projected_faces --target=./my_faces/testIMG.jpg --network=ffhq.pkl\n"
   ]
  },
  {
   "cell_type": "code",
   "execution_count": 8,
   "id": "a207d054-8e88-43a5-891b-20534042a119",
   "metadata": {},
   "outputs": [],
   "source": [
    "# # Load your projected latent\n",
    "# import numpy as np\n",
    "# projected = np.load('projected_faces/projected_w.npz')['w']  # Shape: (1, 18, 512)\n",
    "\n",
    "# # Load second style (random)\n",
    "# w_random = G.mapping(torch.randn(1, G.z_dim).to(device), None)\n",
    "\n",
    "# # Style mix at layer cutoff = 8\n",
    "# w_mixed = projected.copy()\n",
    "# w_mixed[:, 8:] = w_random[:, 8:]\n",
    "\n",
    "# # Generate new image\n",
    "# img = G.synthesis(torch.from_numpy(w_mixed).to(device), noise_mode='const')\n"
   ]
  },
  {
   "cell_type": "code",
   "execution_count": null,
   "id": "b3f9569a-951b-4317-97f2-631f19fee2bd",
   "metadata": {},
   "outputs": [],
   "source": []
  }
 ],
 "metadata": {
  "kernelspec": {
   "display_name": "Python 3 (ipykernel)",
   "language": "python",
   "name": "python3"
  },
  "language_info": {
   "codemirror_mode": {
    "name": "ipython",
    "version": 3
   },
   "file_extension": ".py",
   "mimetype": "text/x-python",
   "name": "python",
   "nbconvert_exporter": "python",
   "pygments_lexer": "ipython3",
   "version": "3.12.9"
  }
 },
 "nbformat": 4,
 "nbformat_minor": 5
}
