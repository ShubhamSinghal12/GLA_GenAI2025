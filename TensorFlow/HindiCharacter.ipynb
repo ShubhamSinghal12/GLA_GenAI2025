{
 "cells": [
  {
   "cell_type": "code",
   "execution_count": 4,
   "id": "6c531092-2b66-4be1-aba6-20b8dff60d0c",
   "metadata": {},
   "outputs": [],
   "source": [
    "import tensorflow as tf\n",
    "from tensorflow import keras #Sequential and functional API\n",
    "from tensorflow.keras import layers\n",
    "from tensorflow.keras.datasets import mnist\n",
    "from tensorflow.keras.datasets import fashion_mnist\n",
    "import numpy as np\n",
    "import matplotlib.pyplot as plt\n",
    "import os\n",
    "import cv2"
   ]
  },
  {
   "cell_type": "code",
   "execution_count": 10,
   "id": "2a84e268-da7f-4457-9425-a03e4602f9dd",
   "metadata": {},
   "outputs": [],
   "source": [
    "def import_data(path):\n",
    "    data = []\n",
    "    label = []\n",
    "    label_encoding_name = {}\n",
    "    label_encoding_num = {}\n",
    "    lnum = 0\n",
    "    for folder in os.listdir(path):\n",
    "        label_encoding_name[folder] = lnum\n",
    "        label_encoding_num[lnum] = folder\n",
    "        label_path = os.path.join(path,folder)\n",
    "        for imgP in os.listdir(label_path):\n",
    "            img = cv2.imread(os.path.join(label_path,imgP),cv2.IMREAD_GRAYSCALE)\n",
    "            if img is not None:\n",
    "                data.append(img)\n",
    "                label.append(lnum)\n",
    "        lnum += 1\n",
    "        print(folder)\n",
    "    return np.array(data),np.array(label),label_encoding_name,label_encoding_num\n"
   ]
  },
  {
   "cell_type": "code",
   "execution_count": 11,
   "id": "05e0e1fe-28aa-43e3-a108-2562e0bf554d",
   "metadata": {
    "scrolled": true
   },
   "outputs": [
    {
     "name": "stdout",
     "output_type": "stream",
     "text": [
      "character_10_yna\n",
      "character_11_taamatar\n",
      "character_12_thaa\n",
      "character_13_daa\n",
      "character_14_dhaa\n",
      "character_15_adna\n",
      "character_16_tabala\n",
      "character_17_tha\n",
      "character_18_da\n",
      "character_19_dha\n",
      "character_1_ka\n",
      "character_20_na\n",
      "character_21_pa\n",
      "character_22_pha\n",
      "character_23_ba\n",
      "character_24_bha\n",
      "character_25_ma\n",
      "character_26_yaw\n",
      "character_27_ra\n",
      "character_28_la\n",
      "character_29_waw\n",
      "character_2_kha\n",
      "character_30_motosaw\n",
      "character_31_petchiryakha\n",
      "character_32_patalosaw\n",
      "character_33_ha\n",
      "character_34_chhya\n",
      "character_35_tra\n",
      "character_36_gya\n",
      "character_3_ga\n",
      "character_4_gha\n",
      "character_5_kna\n",
      "character_6_cha\n",
      "character_7_chha\n",
      "character_8_ja\n",
      "character_9_jha\n",
      "digit_0\n",
      "digit_1\n",
      "digit_2\n",
      "digit_3\n",
      "digit_4\n",
      "digit_5\n",
      "digit_6\n",
      "digit_7\n",
      "digit_8\n",
      "digit_9\n"
     ]
    }
   ],
   "source": [
    "train_data,train_label,label_encoding_name,label_encoding_num = import_data('E:/Projects/HindiCharacterRecognition/DevanagariHandwrittenCharacterDataset/Train')"
   ]
  },
  {
   "cell_type": "code",
   "execution_count": 12,
   "id": "831a4745-e015-4bbd-914b-d5389c01242e",
   "metadata": {},
   "outputs": [
    {
     "name": "stdout",
     "output_type": "stream",
     "text": [
      "(78200, 32, 32)\n"
     ]
    }
   ],
   "source": [
    "print(train_data.shape)"
   ]
  },
  {
   "cell_type": "code",
   "execution_count": 13,
   "id": "fb64ba20-d3ab-46cf-9fb5-6baacd85cb96",
   "metadata": {},
   "outputs": [
    {
     "name": "stdout",
     "output_type": "stream",
     "text": [
      "(78200,)\n",
      "[ 0  1  2  3  4  5  6  7  8  9 10 11 12 13 14 15 16 17 18 19 20 21 22 23\n",
      " 24 25 26 27 28 29 30 31 32 33 34 35 36 37 38 39 40 41 42 43 44 45]\n"
     ]
    }
   ],
   "source": [
    "print(train_label.shape)\n",
    "print(np.unique(train_label))"
   ]
  },
  {
   "cell_type": "code",
   "execution_count": 14,
   "id": "f0a34557-c618-4153-a21c-2dc1cc526ab5",
   "metadata": {
    "scrolled": true
   },
   "outputs": [
    {
     "data": {
      "text/plain": [
       "{0: 'character_10_yna',\n",
       " 1: 'character_11_taamatar',\n",
       " 2: 'character_12_thaa',\n",
       " 3: 'character_13_daa',\n",
       " 4: 'character_14_dhaa',\n",
       " 5: 'character_15_adna',\n",
       " 6: 'character_16_tabala',\n",
       " 7: 'character_17_tha',\n",
       " 8: 'character_18_da',\n",
       " 9: 'character_19_dha',\n",
       " 10: 'character_1_ka',\n",
       " 11: 'character_20_na',\n",
       " 12: 'character_21_pa',\n",
       " 13: 'character_22_pha',\n",
       " 14: 'character_23_ba',\n",
       " 15: 'character_24_bha',\n",
       " 16: 'character_25_ma',\n",
       " 17: 'character_26_yaw',\n",
       " 18: 'character_27_ra',\n",
       " 19: 'character_28_la',\n",
       " 20: 'character_29_waw',\n",
       " 21: 'character_2_kha',\n",
       " 22: 'character_30_motosaw',\n",
       " 23: 'character_31_petchiryakha',\n",
       " 24: 'character_32_patalosaw',\n",
       " 25: 'character_33_ha',\n",
       " 26: 'character_34_chhya',\n",
       " 27: 'character_35_tra',\n",
       " 28: 'character_36_gya',\n",
       " 29: 'character_3_ga',\n",
       " 30: 'character_4_gha',\n",
       " 31: 'character_5_kna',\n",
       " 32: 'character_6_cha',\n",
       " 33: 'character_7_chha',\n",
       " 34: 'character_8_ja',\n",
       " 35: 'character_9_jha',\n",
       " 36: 'digit_0',\n",
       " 37: 'digit_1',\n",
       " 38: 'digit_2',\n",
       " 39: 'digit_3',\n",
       " 40: 'digit_4',\n",
       " 41: 'digit_5',\n",
       " 42: 'digit_6',\n",
       " 43: 'digit_7',\n",
       " 44: 'digit_8',\n",
       " 45: 'digit_9'}"
      ]
     },
     "execution_count": 14,
     "metadata": {},
     "output_type": "execute_result"
    }
   ],
   "source": [
    "label_encoding_num"
   ]
  },
  {
   "cell_type": "code",
   "execution_count": 15,
   "id": "df1f2f71-5cd7-41cd-8133-e9cdce5d522a",
   "metadata": {
    "scrolled": true
   },
   "outputs": [
    {
     "name": "stdout",
     "output_type": "stream",
     "text": [
      "character_10_yna\n",
      "character_11_taamatar\n",
      "character_12_thaa\n",
      "character_13_daa\n",
      "character_14_dhaa\n",
      "character_15_adna\n",
      "character_16_tabala\n",
      "character_17_tha\n",
      "character_18_da\n",
      "character_19_dha\n",
      "character_1_ka\n",
      "character_20_na\n",
      "character_21_pa\n",
      "character_22_pha\n",
      "character_23_ba\n",
      "character_24_bha\n",
      "character_25_ma\n",
      "character_26_yaw\n",
      "character_27_ra\n",
      "character_28_la\n",
      "character_29_waw\n",
      "character_2_kha\n",
      "character_30_motosaw\n",
      "character_31_petchiryakha\n",
      "character_32_patalosaw\n",
      "character_33_ha\n",
      "character_34_chhya\n",
      "character_35_tra\n",
      "character_36_gya\n",
      "character_3_ga\n",
      "character_4_gha\n",
      "character_5_kna\n",
      "character_6_cha\n",
      "character_7_chha\n",
      "character_8_ja\n",
      "character_9_jha\n",
      "digit_0\n",
      "digit_1\n",
      "digit_2\n",
      "digit_3\n",
      "digit_4\n",
      "digit_5\n",
      "digit_6\n",
      "digit_7\n",
      "digit_8\n",
      "digit_9\n"
     ]
    }
   ],
   "source": [
    "test_data,test_label,_,_ = import_data('E:/Projects/HindiCharacterRecognition/DevanagariHandwrittenCharacterDataset/Test')"
   ]
  },
  {
   "cell_type": "code",
   "execution_count": 16,
   "id": "1153b31f-71df-4268-b141-5b28c7364b02",
   "metadata": {},
   "outputs": [
    {
     "name": "stdout",
     "output_type": "stream",
     "text": [
      "(13800, 32, 32)\n",
      "(13800,)\n"
     ]
    }
   ],
   "source": [
    "print(test_data.shape)\n",
    "print(test_label.shape)"
   ]
  },
  {
   "cell_type": "code",
   "execution_count": 17,
   "id": "96082ab6-0c60-4f7c-9935-638daa8c79ec",
   "metadata": {},
   "outputs": [
    {
     "name": "stdout",
     "output_type": "stream",
     "text": [
      "(78200, 32, 32, 1)\n",
      "(13800, 32, 32, 1)\n"
     ]
    }
   ],
   "source": [
    "x_train = np.expand_dims(train_data,-1)/255\n",
    "x_test = np.expand_dims(test_data,-1)/255\n",
    "print(x_train.shape)\n",
    "print(x_test.shape)"
   ]
  },
  {
   "cell_type": "code",
   "execution_count": 18,
   "id": "73056a71-67c8-4773-8872-ecdc0d42585b",
   "metadata": {},
   "outputs": [],
   "source": [
    "input_shape = (32,32,1)\n",
    "num_classes = 46\n",
    "model = keras.Sequential(\n",
    "    [\n",
    "        keras.Input(shape=input_shape),\n",
    "        keras.layers.Conv2D(32,kernel_size = (3,3),activation='relu'),\n",
    "        keras.layers.MaxPool2D(pool_size = (2,2)),\n",
    "        keras.layers.BatchNormalization(),\n",
    "        keras.layers.Conv2D(64,kernel_size = (3,3),activation='relu'),\n",
    "        keras.layers.MaxPool2D(pool_size = (2,2)),\n",
    "        keras.layers.BatchNormalization(),\n",
    "        keras.layers.Conv2D(128,kernel_size = (3,3),activation='relu'),\n",
    "        keras.layers.MaxPool2D(pool_size = (2,2)),\n",
    "        keras.layers.Flatten(),\n",
    "        keras.layers.Dense(256,activation='relu'),\n",
    "        keras.layers.Dropout(0.5),\n",
    "        keras.layers.Dense(num_classes,activation='softmax')\n",
    "    ]\n",
    ")"
   ]
  },
  {
   "cell_type": "code",
   "execution_count": 25,
   "id": "6c6f6f80-7bc6-4ffd-accf-b1f71966ba6d",
   "metadata": {},
   "outputs": [],
   "source": []
  },
  {
   "cell_type": "code",
   "execution_count": 19,
   "id": "87eb0cf6-5f45-4152-a097-179495aceed0",
   "metadata": {},
   "outputs": [
    {
     "data": {
      "text/html": [
       "<pre style=\"white-space:pre;overflow-x:auto;line-height:normal;font-family:Menlo,'DejaVu Sans Mono',consolas,'Courier New',monospace\"><span style=\"font-weight: bold\">Model: \"sequential\"</span>\n",
       "</pre>\n"
      ],
      "text/plain": [
       "\u001b[1mModel: \"sequential\"\u001b[0m\n"
      ]
     },
     "metadata": {},
     "output_type": "display_data"
    },
    {
     "data": {
      "text/html": [
       "<pre style=\"white-space:pre;overflow-x:auto;line-height:normal;font-family:Menlo,'DejaVu Sans Mono',consolas,'Courier New',monospace\">┏━━━━━━━━━━━━━━━━━━━━━━━━━━━━━━━━━━━━━━┳━━━━━━━━━━━━━━━━━━━━━━━━━━━━━┳━━━━━━━━━━━━━━━━━┓\n",
       "┃<span style=\"font-weight: bold\"> Layer (type)                         </span>┃<span style=\"font-weight: bold\"> Output Shape                </span>┃<span style=\"font-weight: bold\">         Param # </span>┃\n",
       "┡━━━━━━━━━━━━━━━━━━━━━━━━━━━━━━━━━━━━━━╇━━━━━━━━━━━━━━━━━━━━━━━━━━━━━╇━━━━━━━━━━━━━━━━━┩\n",
       "│ conv2d (<span style=\"color: #0087ff; text-decoration-color: #0087ff\">Conv2D</span>)                      │ (<span style=\"color: #00d7ff; text-decoration-color: #00d7ff\">None</span>, <span style=\"color: #00af00; text-decoration-color: #00af00\">30</span>, <span style=\"color: #00af00; text-decoration-color: #00af00\">30</span>, <span style=\"color: #00af00; text-decoration-color: #00af00\">32</span>)          │             <span style=\"color: #00af00; text-decoration-color: #00af00\">320</span> │\n",
       "├──────────────────────────────────────┼─────────────────────────────┼─────────────────┤\n",
       "│ max_pooling2d (<span style=\"color: #0087ff; text-decoration-color: #0087ff\">MaxPooling2D</span>)         │ (<span style=\"color: #00d7ff; text-decoration-color: #00d7ff\">None</span>, <span style=\"color: #00af00; text-decoration-color: #00af00\">15</span>, <span style=\"color: #00af00; text-decoration-color: #00af00\">15</span>, <span style=\"color: #00af00; text-decoration-color: #00af00\">32</span>)          │               <span style=\"color: #00af00; text-decoration-color: #00af00\">0</span> │\n",
       "├──────────────────────────────────────┼─────────────────────────────┼─────────────────┤\n",
       "│ batch_normalization                  │ (<span style=\"color: #00d7ff; text-decoration-color: #00d7ff\">None</span>, <span style=\"color: #00af00; text-decoration-color: #00af00\">15</span>, <span style=\"color: #00af00; text-decoration-color: #00af00\">15</span>, <span style=\"color: #00af00; text-decoration-color: #00af00\">32</span>)          │             <span style=\"color: #00af00; text-decoration-color: #00af00\">128</span> │\n",
       "│ (<span style=\"color: #0087ff; text-decoration-color: #0087ff\">BatchNormalization</span>)                 │                             │                 │\n",
       "├──────────────────────────────────────┼─────────────────────────────┼─────────────────┤\n",
       "│ conv2d_1 (<span style=\"color: #0087ff; text-decoration-color: #0087ff\">Conv2D</span>)                    │ (<span style=\"color: #00d7ff; text-decoration-color: #00d7ff\">None</span>, <span style=\"color: #00af00; text-decoration-color: #00af00\">13</span>, <span style=\"color: #00af00; text-decoration-color: #00af00\">13</span>, <span style=\"color: #00af00; text-decoration-color: #00af00\">64</span>)          │          <span style=\"color: #00af00; text-decoration-color: #00af00\">18,496</span> │\n",
       "├──────────────────────────────────────┼─────────────────────────────┼─────────────────┤\n",
       "│ max_pooling2d_1 (<span style=\"color: #0087ff; text-decoration-color: #0087ff\">MaxPooling2D</span>)       │ (<span style=\"color: #00d7ff; text-decoration-color: #00d7ff\">None</span>, <span style=\"color: #00af00; text-decoration-color: #00af00\">6</span>, <span style=\"color: #00af00; text-decoration-color: #00af00\">6</span>, <span style=\"color: #00af00; text-decoration-color: #00af00\">64</span>)            │               <span style=\"color: #00af00; text-decoration-color: #00af00\">0</span> │\n",
       "├──────────────────────────────────────┼─────────────────────────────┼─────────────────┤\n",
       "│ batch_normalization_1                │ (<span style=\"color: #00d7ff; text-decoration-color: #00d7ff\">None</span>, <span style=\"color: #00af00; text-decoration-color: #00af00\">6</span>, <span style=\"color: #00af00; text-decoration-color: #00af00\">6</span>, <span style=\"color: #00af00; text-decoration-color: #00af00\">64</span>)            │             <span style=\"color: #00af00; text-decoration-color: #00af00\">256</span> │\n",
       "│ (<span style=\"color: #0087ff; text-decoration-color: #0087ff\">BatchNormalization</span>)                 │                             │                 │\n",
       "├──────────────────────────────────────┼─────────────────────────────┼─────────────────┤\n",
       "│ conv2d_2 (<span style=\"color: #0087ff; text-decoration-color: #0087ff\">Conv2D</span>)                    │ (<span style=\"color: #00d7ff; text-decoration-color: #00d7ff\">None</span>, <span style=\"color: #00af00; text-decoration-color: #00af00\">4</span>, <span style=\"color: #00af00; text-decoration-color: #00af00\">4</span>, <span style=\"color: #00af00; text-decoration-color: #00af00\">128</span>)           │          <span style=\"color: #00af00; text-decoration-color: #00af00\">73,856</span> │\n",
       "├──────────────────────────────────────┼─────────────────────────────┼─────────────────┤\n",
       "│ max_pooling2d_2 (<span style=\"color: #0087ff; text-decoration-color: #0087ff\">MaxPooling2D</span>)       │ (<span style=\"color: #00d7ff; text-decoration-color: #00d7ff\">None</span>, <span style=\"color: #00af00; text-decoration-color: #00af00\">2</span>, <span style=\"color: #00af00; text-decoration-color: #00af00\">2</span>, <span style=\"color: #00af00; text-decoration-color: #00af00\">128</span>)           │               <span style=\"color: #00af00; text-decoration-color: #00af00\">0</span> │\n",
       "├──────────────────────────────────────┼─────────────────────────────┼─────────────────┤\n",
       "│ flatten (<span style=\"color: #0087ff; text-decoration-color: #0087ff\">Flatten</span>)                    │ (<span style=\"color: #00d7ff; text-decoration-color: #00d7ff\">None</span>, <span style=\"color: #00af00; text-decoration-color: #00af00\">512</span>)                 │               <span style=\"color: #00af00; text-decoration-color: #00af00\">0</span> │\n",
       "├──────────────────────────────────────┼─────────────────────────────┼─────────────────┤\n",
       "│ dense (<span style=\"color: #0087ff; text-decoration-color: #0087ff\">Dense</span>)                        │ (<span style=\"color: #00d7ff; text-decoration-color: #00d7ff\">None</span>, <span style=\"color: #00af00; text-decoration-color: #00af00\">256</span>)                 │         <span style=\"color: #00af00; text-decoration-color: #00af00\">131,328</span> │\n",
       "├──────────────────────────────────────┼─────────────────────────────┼─────────────────┤\n",
       "│ dropout (<span style=\"color: #0087ff; text-decoration-color: #0087ff\">Dropout</span>)                    │ (<span style=\"color: #00d7ff; text-decoration-color: #00d7ff\">None</span>, <span style=\"color: #00af00; text-decoration-color: #00af00\">256</span>)                 │               <span style=\"color: #00af00; text-decoration-color: #00af00\">0</span> │\n",
       "├──────────────────────────────────────┼─────────────────────────────┼─────────────────┤\n",
       "│ dense_1 (<span style=\"color: #0087ff; text-decoration-color: #0087ff\">Dense</span>)                      │ (<span style=\"color: #00d7ff; text-decoration-color: #00d7ff\">None</span>, <span style=\"color: #00af00; text-decoration-color: #00af00\">46</span>)                  │          <span style=\"color: #00af00; text-decoration-color: #00af00\">11,822</span> │\n",
       "└──────────────────────────────────────┴─────────────────────────────┴─────────────────┘\n",
       "</pre>\n"
      ],
      "text/plain": [
       "┏━━━━━━━━━━━━━━━━━━━━━━━━━━━━━━━━━━━━━━┳━━━━━━━━━━━━━━━━━━━━━━━━━━━━━┳━━━━━━━━━━━━━━━━━┓\n",
       "┃\u001b[1m \u001b[0m\u001b[1mLayer (type)                        \u001b[0m\u001b[1m \u001b[0m┃\u001b[1m \u001b[0m\u001b[1mOutput Shape               \u001b[0m\u001b[1m \u001b[0m┃\u001b[1m \u001b[0m\u001b[1m        Param #\u001b[0m\u001b[1m \u001b[0m┃\n",
       "┡━━━━━━━━━━━━━━━━━━━━━━━━━━━━━━━━━━━━━━╇━━━━━━━━━━━━━━━━━━━━━━━━━━━━━╇━━━━━━━━━━━━━━━━━┩\n",
       "│ conv2d (\u001b[38;5;33mConv2D\u001b[0m)                      │ (\u001b[38;5;45mNone\u001b[0m, \u001b[38;5;34m30\u001b[0m, \u001b[38;5;34m30\u001b[0m, \u001b[38;5;34m32\u001b[0m)          │             \u001b[38;5;34m320\u001b[0m │\n",
       "├──────────────────────────────────────┼─────────────────────────────┼─────────────────┤\n",
       "│ max_pooling2d (\u001b[38;5;33mMaxPooling2D\u001b[0m)         │ (\u001b[38;5;45mNone\u001b[0m, \u001b[38;5;34m15\u001b[0m, \u001b[38;5;34m15\u001b[0m, \u001b[38;5;34m32\u001b[0m)          │               \u001b[38;5;34m0\u001b[0m │\n",
       "├──────────────────────────────────────┼─────────────────────────────┼─────────────────┤\n",
       "│ batch_normalization                  │ (\u001b[38;5;45mNone\u001b[0m, \u001b[38;5;34m15\u001b[0m, \u001b[38;5;34m15\u001b[0m, \u001b[38;5;34m32\u001b[0m)          │             \u001b[38;5;34m128\u001b[0m │\n",
       "│ (\u001b[38;5;33mBatchNormalization\u001b[0m)                 │                             │                 │\n",
       "├──────────────────────────────────────┼─────────────────────────────┼─────────────────┤\n",
       "│ conv2d_1 (\u001b[38;5;33mConv2D\u001b[0m)                    │ (\u001b[38;5;45mNone\u001b[0m, \u001b[38;5;34m13\u001b[0m, \u001b[38;5;34m13\u001b[0m, \u001b[38;5;34m64\u001b[0m)          │          \u001b[38;5;34m18,496\u001b[0m │\n",
       "├──────────────────────────────────────┼─────────────────────────────┼─────────────────┤\n",
       "│ max_pooling2d_1 (\u001b[38;5;33mMaxPooling2D\u001b[0m)       │ (\u001b[38;5;45mNone\u001b[0m, \u001b[38;5;34m6\u001b[0m, \u001b[38;5;34m6\u001b[0m, \u001b[38;5;34m64\u001b[0m)            │               \u001b[38;5;34m0\u001b[0m │\n",
       "├──────────────────────────────────────┼─────────────────────────────┼─────────────────┤\n",
       "│ batch_normalization_1                │ (\u001b[38;5;45mNone\u001b[0m, \u001b[38;5;34m6\u001b[0m, \u001b[38;5;34m6\u001b[0m, \u001b[38;5;34m64\u001b[0m)            │             \u001b[38;5;34m256\u001b[0m │\n",
       "│ (\u001b[38;5;33mBatchNormalization\u001b[0m)                 │                             │                 │\n",
       "├──────────────────────────────────────┼─────────────────────────────┼─────────────────┤\n",
       "│ conv2d_2 (\u001b[38;5;33mConv2D\u001b[0m)                    │ (\u001b[38;5;45mNone\u001b[0m, \u001b[38;5;34m4\u001b[0m, \u001b[38;5;34m4\u001b[0m, \u001b[38;5;34m128\u001b[0m)           │          \u001b[38;5;34m73,856\u001b[0m │\n",
       "├──────────────────────────────────────┼─────────────────────────────┼─────────────────┤\n",
       "│ max_pooling2d_2 (\u001b[38;5;33mMaxPooling2D\u001b[0m)       │ (\u001b[38;5;45mNone\u001b[0m, \u001b[38;5;34m2\u001b[0m, \u001b[38;5;34m2\u001b[0m, \u001b[38;5;34m128\u001b[0m)           │               \u001b[38;5;34m0\u001b[0m │\n",
       "├──────────────────────────────────────┼─────────────────────────────┼─────────────────┤\n",
       "│ flatten (\u001b[38;5;33mFlatten\u001b[0m)                    │ (\u001b[38;5;45mNone\u001b[0m, \u001b[38;5;34m512\u001b[0m)                 │               \u001b[38;5;34m0\u001b[0m │\n",
       "├──────────────────────────────────────┼─────────────────────────────┼─────────────────┤\n",
       "│ dense (\u001b[38;5;33mDense\u001b[0m)                        │ (\u001b[38;5;45mNone\u001b[0m, \u001b[38;5;34m256\u001b[0m)                 │         \u001b[38;5;34m131,328\u001b[0m │\n",
       "├──────────────────────────────────────┼─────────────────────────────┼─────────────────┤\n",
       "│ dropout (\u001b[38;5;33mDropout\u001b[0m)                    │ (\u001b[38;5;45mNone\u001b[0m, \u001b[38;5;34m256\u001b[0m)                 │               \u001b[38;5;34m0\u001b[0m │\n",
       "├──────────────────────────────────────┼─────────────────────────────┼─────────────────┤\n",
       "│ dense_1 (\u001b[38;5;33mDense\u001b[0m)                      │ (\u001b[38;5;45mNone\u001b[0m, \u001b[38;5;34m46\u001b[0m)                  │          \u001b[38;5;34m11,822\u001b[0m │\n",
       "└──────────────────────────────────────┴─────────────────────────────┴─────────────────┘\n"
      ]
     },
     "metadata": {},
     "output_type": "display_data"
    },
    {
     "data": {
      "text/html": [
       "<pre style=\"white-space:pre;overflow-x:auto;line-height:normal;font-family:Menlo,'DejaVu Sans Mono',consolas,'Courier New',monospace\"><span style=\"font-weight: bold\"> Total params: </span><span style=\"color: #00af00; text-decoration-color: #00af00\">236,206</span> (922.68 KB)\n",
       "</pre>\n"
      ],
      "text/plain": [
       "\u001b[1m Total params: \u001b[0m\u001b[38;5;34m236,206\u001b[0m (922.68 KB)\n"
      ]
     },
     "metadata": {},
     "output_type": "display_data"
    },
    {
     "data": {
      "text/html": [
       "<pre style=\"white-space:pre;overflow-x:auto;line-height:normal;font-family:Menlo,'DejaVu Sans Mono',consolas,'Courier New',monospace\"><span style=\"font-weight: bold\"> Trainable params: </span><span style=\"color: #00af00; text-decoration-color: #00af00\">236,014</span> (921.93 KB)\n",
       "</pre>\n"
      ],
      "text/plain": [
       "\u001b[1m Trainable params: \u001b[0m\u001b[38;5;34m236,014\u001b[0m (921.93 KB)\n"
      ]
     },
     "metadata": {},
     "output_type": "display_data"
    },
    {
     "data": {
      "text/html": [
       "<pre style=\"white-space:pre;overflow-x:auto;line-height:normal;font-family:Menlo,'DejaVu Sans Mono',consolas,'Courier New',monospace\"><span style=\"font-weight: bold\"> Non-trainable params: </span><span style=\"color: #00af00; text-decoration-color: #00af00\">192</span> (768.00 B)\n",
       "</pre>\n"
      ],
      "text/plain": [
       "\u001b[1m Non-trainable params: \u001b[0m\u001b[38;5;34m192\u001b[0m (768.00 B)\n"
      ]
     },
     "metadata": {},
     "output_type": "display_data"
    },
    {
     "name": "stdout",
     "output_type": "stream",
     "text": [
      "None\n"
     ]
    }
   ],
   "source": [
    "print(model.summary())"
   ]
  },
  {
   "cell_type": "code",
   "execution_count": 20,
   "id": "fa46b9ec-042e-4a83-8c92-baa8c8fd5d07",
   "metadata": {},
   "outputs": [],
   "source": [
    "model.compile(\n",
    "    optimizer = keras.optimizers.Adam(),\n",
    "    loss = 'sparse_categorical_crossentropy',\n",
    "    metrics=['accuracy']\n",
    ")   "
   ]
  },
  {
   "cell_type": "code",
   "execution_count": 21,
   "id": "97205d4e-3088-4690-9c8e-b0d2b6be8538",
   "metadata": {},
   "outputs": [],
   "source": [
    "from sklearn.model_selection import train_test_split\n",
    "X_train, X_val, y_train, y_val = train_test_split(x_train, train_label, test_size = 0.2)"
   ]
  },
  {
   "cell_type": "code",
   "execution_count": 22,
   "id": "8b219c74-8b95-452b-8759-5df9803a77db",
   "metadata": {},
   "outputs": [
    {
     "name": "stdout",
     "output_type": "stream",
     "text": [
      "Epoch 1/20\n",
      "\u001b[1m1955/1955\u001b[0m \u001b[32m━━━━━━━━━━━━━━━━━━━━\u001b[0m\u001b[37m\u001b[0m \u001b[1m24s\u001b[0m 11ms/step - accuracy: 0.5908 - loss: 1.5008 - val_accuracy: 0.9522 - val_loss: 0.1568\n",
      "Epoch 2/20\n",
      "\u001b[1m1955/1955\u001b[0m \u001b[32m━━━━━━━━━━━━━━━━━━━━\u001b[0m\u001b[37m\u001b[0m \u001b[1m20s\u001b[0m 10ms/step - accuracy: 0.9193 - loss: 0.2598 - val_accuracy: 0.9627 - val_loss: 0.1220\n",
      "Epoch 3/20\n",
      "\u001b[1m1955/1955\u001b[0m \u001b[32m━━━━━━━━━━━━━━━━━━━━\u001b[0m\u001b[37m\u001b[0m \u001b[1m20s\u001b[0m 10ms/step - accuracy: 0.9465 - loss: 0.1757 - val_accuracy: 0.9735 - val_loss: 0.0924\n",
      "Epoch 4/20\n",
      "\u001b[1m1955/1955\u001b[0m \u001b[32m━━━━━━━━━━━━━━━━━━━━\u001b[0m\u001b[37m\u001b[0m \u001b[1m20s\u001b[0m 10ms/step - accuracy: 0.9596 - loss: 0.1311 - val_accuracy: 0.9697 - val_loss: 0.1071\n",
      "Epoch 5/20\n",
      "\u001b[1m1955/1955\u001b[0m \u001b[32m━━━━━━━━━━━━━━━━━━━━\u001b[0m\u001b[37m\u001b[0m \u001b[1m20s\u001b[0m 10ms/step - accuracy: 0.9696 - loss: 0.1024 - val_accuracy: 0.9744 - val_loss: 0.0948\n",
      "Epoch 6/20\n",
      "\u001b[1m1955/1955\u001b[0m \u001b[32m━━━━━━━━━━━━━━━━━━━━\u001b[0m\u001b[37m\u001b[0m \u001b[1m20s\u001b[0m 10ms/step - accuracy: 0.9718 - loss: 0.0902 - val_accuracy: 0.9751 - val_loss: 0.0988\n",
      "Epoch 7/20\n",
      "\u001b[1m1955/1955\u001b[0m \u001b[32m━━━━━━━━━━━━━━━━━━━━\u001b[0m\u001b[37m\u001b[0m \u001b[1m20s\u001b[0m 10ms/step - accuracy: 0.9749 - loss: 0.0831 - val_accuracy: 0.9760 - val_loss: 0.0933\n",
      "Epoch 8/20\n",
      "\u001b[1m1955/1955\u001b[0m \u001b[32m━━━━━━━━━━━━━━━━━━━━\u001b[0m\u001b[37m\u001b[0m \u001b[1m20s\u001b[0m 10ms/step - accuracy: 0.9784 - loss: 0.0730 - val_accuracy: 0.9780 - val_loss: 0.0989\n",
      "Epoch 9/20\n",
      "\u001b[1m1955/1955\u001b[0m \u001b[32m━━━━━━━━━━━━━━━━━━━━\u001b[0m\u001b[37m\u001b[0m \u001b[1m21s\u001b[0m 10ms/step - accuracy: 0.9781 - loss: 0.0734 - val_accuracy: 0.9828 - val_loss: 0.0791\n",
      "Epoch 10/20\n",
      "\u001b[1m1955/1955\u001b[0m \u001b[32m━━━━━━━━━━━━━━━━━━━━\u001b[0m\u001b[37m\u001b[0m \u001b[1m21s\u001b[0m 10ms/step - accuracy: 0.9825 - loss: 0.0598 - val_accuracy: 0.9801 - val_loss: 0.0977\n",
      "Epoch 11/20\n",
      "\u001b[1m1955/1955\u001b[0m \u001b[32m━━━━━━━━━━━━━━━━━━━━\u001b[0m\u001b[37m\u001b[0m \u001b[1m21s\u001b[0m 11ms/step - accuracy: 0.9820 - loss: 0.0612 - val_accuracy: 0.9825 - val_loss: 0.0836\n",
      "Epoch 12/20\n",
      "\u001b[1m1955/1955\u001b[0m \u001b[32m━━━━━━━━━━━━━━━━━━━━\u001b[0m\u001b[37m\u001b[0m \u001b[1m21s\u001b[0m 11ms/step - accuracy: 0.9847 - loss: 0.0548 - val_accuracy: 0.9806 - val_loss: 0.0954\n",
      "Epoch 13/20\n",
      "\u001b[1m1955/1955\u001b[0m \u001b[32m━━━━━━━━━━━━━━━━━━━━\u001b[0m\u001b[37m\u001b[0m \u001b[1m20s\u001b[0m 10ms/step - accuracy: 0.9859 - loss: 0.0490 - val_accuracy: 0.9832 - val_loss: 0.0783\n",
      "Epoch 14/20\n",
      "\u001b[1m1955/1955\u001b[0m \u001b[32m━━━━━━━━━━━━━━━━━━━━\u001b[0m\u001b[37m\u001b[0m \u001b[1m19s\u001b[0m 10ms/step - accuracy: 0.9863 - loss: 0.0467 - val_accuracy: 0.9800 - val_loss: 0.0991\n",
      "Epoch 15/20\n",
      "\u001b[1m1955/1955\u001b[0m \u001b[32m━━━━━━━━━━━━━━━━━━━━\u001b[0m\u001b[37m\u001b[0m \u001b[1m19s\u001b[0m 10ms/step - accuracy: 0.9865 - loss: 0.0453 - val_accuracy: 0.9827 - val_loss: 0.0901\n",
      "Epoch 16/20\n",
      "\u001b[1m1955/1955\u001b[0m \u001b[32m━━━━━━━━━━━━━━━━━━━━\u001b[0m\u001b[37m\u001b[0m \u001b[1m19s\u001b[0m 10ms/step - accuracy: 0.9882 - loss: 0.0410 - val_accuracy: 0.9827 - val_loss: 0.0924\n",
      "Epoch 17/20\n",
      "\u001b[1m1955/1955\u001b[0m \u001b[32m━━━━━━━━━━━━━━━━━━━━\u001b[0m\u001b[37m\u001b[0m \u001b[1m19s\u001b[0m 10ms/step - accuracy: 0.9879 - loss: 0.0412 - val_accuracy: 0.9824 - val_loss: 0.0913\n",
      "Epoch 18/20\n",
      "\u001b[1m1955/1955\u001b[0m \u001b[32m━━━━━━━━━━━━━━━━━━━━\u001b[0m\u001b[37m\u001b[0m \u001b[1m19s\u001b[0m 10ms/step - accuracy: 0.9894 - loss: 0.0380 - val_accuracy: 0.9838 - val_loss: 0.0917\n",
      "Epoch 19/20\n",
      "\u001b[1m1955/1955\u001b[0m \u001b[32m━━━━━━━━━━━━━━━━━━━━\u001b[0m\u001b[37m\u001b[0m \u001b[1m19s\u001b[0m 10ms/step - accuracy: 0.9901 - loss: 0.0331 - val_accuracy: 0.9844 - val_loss: 0.0907\n",
      "Epoch 20/20\n",
      "\u001b[1m1955/1955\u001b[0m \u001b[32m━━━━━━━━━━━━━━━━━━━━\u001b[0m\u001b[37m\u001b[0m \u001b[1m19s\u001b[0m 10ms/step - accuracy: 0.9888 - loss: 0.0412 - val_accuracy: 0.9834 - val_loss: 0.1011\n"
     ]
    }
   ],
   "source": [
    "history = model.fit(X_train, y_train,batch_size = 32, epochs = 20, validation_data = (X_val, y_val))"
   ]
  },
  {
   "cell_type": "code",
   "execution_count": 23,
   "id": "4fd7bb63-773b-437c-8b01-e529940445e7",
   "metadata": {},
   "outputs": [
    {
     "name": "stdout",
     "output_type": "stream",
     "text": [
      "\u001b[1m432/432\u001b[0m \u001b[32m━━━━━━━━━━━━━━━━━━━━\u001b[0m\u001b[37m\u001b[0m \u001b[1m2s\u001b[0m 4ms/step - accuracy: 0.9823 - loss: 0.1129\n"
     ]
    },
    {
     "data": {
      "text/plain": [
       "[0.10068108886480331, 0.984710156917572]"
      ]
     },
     "execution_count": 23,
     "metadata": {},
     "output_type": "execute_result"
    }
   ],
   "source": [
    "model.evaluate(x_test,test_label)"
   ]
  },
  {
   "cell_type": "code",
   "execution_count": null,
   "id": "c40aebdc-cbfe-4437-a713-67c5884ad2e8",
   "metadata": {},
   "outputs": [],
   "source": []
  },
  {
   "cell_type": "code",
   "execution_count": null,
   "id": "a935bf42-2664-45d8-a072-fbf60f548c61",
   "metadata": {},
   "outputs": [],
   "source": []
  },
  {
   "cell_type": "code",
   "execution_count": null,
   "id": "be3e3ade-4b1d-4c70-a444-58fbc6ebfb5d",
   "metadata": {},
   "outputs": [],
   "source": []
  }
 ],
 "metadata": {
  "kernelspec": {
   "display_name": "Python 3 (ipykernel)",
   "language": "python",
   "name": "python3"
  },
  "language_info": {
   "codemirror_mode": {
    "name": "ipython",
    "version": 3
   },
   "file_extension": ".py",
   "mimetype": "text/x-python",
   "name": "python",
   "nbconvert_exporter": "python",
   "pygments_lexer": "ipython3",
   "version": "3.12.9"
  }
 },
 "nbformat": 4,
 "nbformat_minor": 5
}
