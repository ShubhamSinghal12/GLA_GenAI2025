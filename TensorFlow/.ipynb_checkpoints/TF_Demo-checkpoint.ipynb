{
 "cells": [
  {
   "cell_type": "markdown",
   "id": "3239758e-22a5-49ec-b3b8-45e3ff4edf57",
   "metadata": {},
   "source": [
    "# TensorFlow\n",
    "\n",
    "```\n",
    "pip install TensorFlow\n",
    "```\n",
    "\n",
    "- Uses Tensors\n",
    "- Difference b/w Tensor and Numpy\n",
    "- Tensor Creation: constant, variable(assign fn)\n",
    "- Shape\n",
    "- indexing\n",
    "- slicing\n",
    "- data types: (https://www.tensorflow.org/api_docs/python/tf/dtypes)\n",
    "- more creation methods: range, linspace, ones, zeros, eye\n",
    "- random numbers: Numpy Random Module\n",
    "    - uniform: Random values in given shape\n",
    "    - normal: Return samples from the Standard normal distribution\n",
    "    - Shuffle: Shuffle the contents of the sequence. Discuss np.random.seed()\n",
    "- reshape: -1 for unknown\n",
    "- operators(Element wise operations)\n",
    "- and: &, or: |, not: ~ (Bitwise works same as logical in case of boolean Values)\n",
    "- shape mismatch\n",
    "- Basic reductions: reduce_sum, reduce_min, reduce_max, reduce_any, reduce_all,reduce_argmax, reduce_argmin\n",
    "- Some More Numpy Functions - Statistics(Math Module): mean, median, variance, standard deviation\n",
    "- Broadcasting"
   ]
  },
  {
   "cell_type": "code",
   "execution_count": null,
   "id": "4b9bbf22-00a0-4bb4-811f-bed44d1f46f6",
   "metadata": {},
   "outputs": [],
   "source": []
  },
  {
   "cell_type": "code",
   "execution_count": 2,
   "id": "382e4ba1-3ef8-4c5b-aa18-1eebe4b79c9c",
   "metadata": {},
   "outputs": [],
   "source": [
    "import tensorflow as tf"
   ]
  },
  {
   "cell_type": "code",
   "execution_count": 3,
   "id": "caf7349e-0ff7-4566-ac93-e89b2299896e",
   "metadata": {},
   "outputs": [
    {
     "data": {
      "text/plain": [
       "[]"
      ]
     },
     "execution_count": 3,
     "metadata": {},
     "output_type": "execute_result"
    }
   ],
   "source": [
    "tf.config.list_physical_devices('GPU')"
   ]
  },
  {
   "cell_type": "code",
   "execution_count": 4,
   "id": "74384d56-5895-480d-bad1-885a2e6a280b",
   "metadata": {},
   "outputs": [
    {
     "name": "stdout",
     "output_type": "stream",
     "text": [
      "[name: \"/device:CPU:0\"\n",
      "device_type: \"CPU\"\n",
      "memory_limit: 268435456\n",
      "locality {\n",
      "}\n",
      "incarnation: 3199512133508889031\n",
      "xla_global_id: -1\n",
      "]\n"
     ]
    }
   ],
   "source": [
    "from tensorflow.python.client import device_lib\n",
    "print(device_lib.list_local_devices())"
   ]
  },
  {
   "cell_type": "code",
   "execution_count": 5,
   "id": "a1444081-4abc-4104-af98-1b4e6ddbd475",
   "metadata": {},
   "outputs": [
    {
     "data": {
      "text/plain": [
       "'2.19.0'"
      ]
     },
     "execution_count": 5,
     "metadata": {},
     "output_type": "execute_result"
    }
   ],
   "source": [
    "tf.__version__"
   ]
  },
  {
   "cell_type": "code",
   "execution_count": 27,
   "id": "3d47dd56-51b3-4723-a7c8-4bccfd2fbdea",
   "metadata": {},
   "outputs": [],
   "source": [
    "# a = tf.constant(1) #Scaler\n",
    "a = tf.constant([1,2,3,4]) #1D array\n",
    "a = tf.constant([[1,2,3],[4,5,6]]) #2D Tensor\n",
    "a = tf.constant([[[1,2],[3,4]],[[10,20],[30,40]],[[100,200],[300,400]]])"
   ]
  },
  {
   "cell_type": "code",
   "execution_count": 32,
   "id": "f77eba55-a578-42c1-8fb6-17cd3d965d64",
   "metadata": {},
   "outputs": [
    {
     "data": {
      "text/plain": [
       "TensorShape([3, 2, 2])"
      ]
     },
     "execution_count": 32,
     "metadata": {},
     "output_type": "execute_result"
    }
   ],
   "source": [
    "a.shape"
   ]
  },
  {
   "cell_type": "code",
   "execution_count": 29,
   "id": "acca860a-f962-46dc-9ad4-150f129e777a",
   "metadata": {},
   "outputs": [
    {
     "data": {
      "text/plain": [
       "<tf.Tensor: shape=(3,), dtype=int32, numpy=array([3, 2, 2], dtype=int32)>"
      ]
     },
     "execution_count": 29,
     "metadata": {},
     "output_type": "execute_result"
    }
   ],
   "source": [
    "tf.shape(a)"
   ]
  },
  {
   "cell_type": "code",
   "execution_count": 33,
   "id": "d90cf89c-603f-4a6c-a9a7-34b1470fe2e0",
   "metadata": {},
   "outputs": [
    {
     "data": {
      "text/plain": [
       "<tf.Tensor: shape=(3, 2, 2), dtype=int32, numpy=\n",
       "array([[[  1,   2],\n",
       "        [  3,   4]],\n",
       "\n",
       "       [[ 10,  20],\n",
       "        [ 30,  40]],\n",
       "\n",
       "       [[100, 200],\n",
       "        [300, 400]]], dtype=int32)>"
      ]
     },
     "execution_count": 33,
     "metadata": {},
     "output_type": "execute_result"
    }
   ],
   "source": [
    "a"
   ]
  },
  {
   "cell_type": "code",
   "execution_count": 36,
   "id": "6a652cba-36a2-4a1d-b024-e729b4e6a582",
   "metadata": {},
   "outputs": [
    {
     "data": {
      "text/plain": [
       "<tf.Tensor: shape=(), dtype=int32, numpy=20>"
      ]
     },
     "execution_count": 36,
     "metadata": {},
     "output_type": "execute_result"
    }
   ],
   "source": [
    "a[1,0,1]"
   ]
  },
  {
   "cell_type": "code",
   "execution_count": 40,
   "id": "6c8e6cc0-abc4-42a6-a836-223450dd65a2",
   "metadata": {},
   "outputs": [
    {
     "data": {
      "text/plain": [
       "<tf.Tensor: shape=(2, 2), dtype=int32, numpy=\n",
       "array([[ 1,  2],\n",
       "       [10, 20]], dtype=int32)>"
      ]
     },
     "execution_count": 40,
     "metadata": {},
     "output_type": "execute_result"
    }
   ],
   "source": [
    "a[0:2,0,:]"
   ]
  },
  {
   "cell_type": "code",
   "execution_count": 41,
   "id": "a9bbf382-8b3c-4b62-8f75-2698fdbf055a",
   "metadata": {},
   "outputs": [],
   "source": [
    "b = tf.Variable([1,2,3,4,5],dtype = tf.float16)"
   ]
  },
  {
   "cell_type": "code",
   "execution_count": 46,
   "id": "52aefc84-43a0-4a5f-a651-ec9fcd5c69df",
   "metadata": {},
   "outputs": [
    {
     "data": {
      "text/plain": [
       "<tf.Tensor: shape=(), dtype=float16, numpy=10.0>"
      ]
     },
     "execution_count": 46,
     "metadata": {},
     "output_type": "execute_result"
    }
   ],
   "source": [
    "b[0]"
   ]
  },
  {
   "cell_type": "code",
   "execution_count": 45,
   "id": "9ed9b773-d9d8-4b79-a172-76febb1488d1",
   "metadata": {},
   "outputs": [
    {
     "data": {
      "text/plain": [
       "<tf.Variable 'UnreadVariable' shape=(5,) dtype=float16, numpy=array([10., 20., 30., 40., 50.], dtype=float16)>"
      ]
     },
     "execution_count": 45,
     "metadata": {},
     "output_type": "execute_result"
    }
   ],
   "source": [
    "b.assign([10,20,30,40,50])"
   ]
  },
  {
   "cell_type": "code",
   "execution_count": 51,
   "id": "922cf10d-dc5d-49a7-9992-3d01e172085e",
   "metadata": {},
   "outputs": [
    {
     "data": {
      "text/plain": [
       "<tf.Variable 'Variable:0' shape=(5,) dtype=float16, numpy=array([10., 20., 30., 40., 50.], dtype=float16)>"
      ]
     },
     "execution_count": 51,
     "metadata": {},
     "output_type": "execute_result"
    }
   ],
   "source": [
    "b"
   ]
  },
  {
   "cell_type": "code",
   "execution_count": null,
   "id": "b6476d05-d3dc-473a-b9bd-3bbaaaf8102b",
   "metadata": {},
   "outputs": [],
   "source": []
  },
  {
   "cell_type": "code",
   "execution_count": 47,
   "id": "329dd06e-7264-4fa2-84cc-ad14ba0e28e5",
   "metadata": {},
   "outputs": [
    {
     "data": {
      "text/plain": [
       "<tf.Tensor: shape=(10, 3), dtype=float32, numpy=\n",
       "array([[1., 1., 1.],\n",
       "       [1., 1., 1.],\n",
       "       [1., 1., 1.],\n",
       "       [1., 1., 1.],\n",
       "       [1., 1., 1.],\n",
       "       [1., 1., 1.],\n",
       "       [1., 1., 1.],\n",
       "       [1., 1., 1.],\n",
       "       [1., 1., 1.],\n",
       "       [1., 1., 1.]], dtype=float32)>"
      ]
     },
     "execution_count": 47,
     "metadata": {},
     "output_type": "execute_result"
    }
   ],
   "source": [
    "tf.ones((10,3))"
   ]
  },
  {
   "cell_type": "code",
   "execution_count": 48,
   "id": "18beb8dd-56c9-4bf1-b375-de3784c6117f",
   "metadata": {},
   "outputs": [
    {
     "data": {
      "text/plain": [
       "<tf.Tensor: shape=(10, 10), dtype=float32, numpy=\n",
       "array([[0., 0., 0., 0., 0., 0., 0., 0., 0., 0.],\n",
       "       [0., 0., 0., 0., 0., 0., 0., 0., 0., 0.],\n",
       "       [0., 0., 0., 0., 0., 0., 0., 0., 0., 0.],\n",
       "       [0., 0., 0., 0., 0., 0., 0., 0., 0., 0.],\n",
       "       [0., 0., 0., 0., 0., 0., 0., 0., 0., 0.],\n",
       "       [0., 0., 0., 0., 0., 0., 0., 0., 0., 0.],\n",
       "       [0., 0., 0., 0., 0., 0., 0., 0., 0., 0.],\n",
       "       [0., 0., 0., 0., 0., 0., 0., 0., 0., 0.],\n",
       "       [0., 0., 0., 0., 0., 0., 0., 0., 0., 0.],\n",
       "       [0., 0., 0., 0., 0., 0., 0., 0., 0., 0.]], dtype=float32)>"
      ]
     },
     "execution_count": 48,
     "metadata": {},
     "output_type": "execute_result"
    }
   ],
   "source": [
    "tf.zeros((10,10))"
   ]
  },
  {
   "cell_type": "code",
   "execution_count": 49,
   "id": "cdb93a78-ae4f-4213-962f-b64170b61b63",
   "metadata": {},
   "outputs": [
    {
     "data": {
      "text/plain": [
       "<tf.Tensor: shape=(5,), dtype=int32, numpy=array([1, 3, 5, 7, 9], dtype=int32)>"
      ]
     },
     "execution_count": 49,
     "metadata": {},
     "output_type": "execute_result"
    }
   ],
   "source": [
    "tf.range(1,10,2)"
   ]
  },
  {
   "cell_type": "code",
   "execution_count": 50,
   "id": "4eb444ba-91f2-4d9f-8083-e7ae3eca6d30",
   "metadata": {},
   "outputs": [
    {
     "data": {
      "text/plain": [
       "<tf.Tensor: shape=(5,), dtype=float64, numpy=array([1.  , 1.25, 1.5 , 1.75, 2.  ])>"
      ]
     },
     "execution_count": 50,
     "metadata": {},
     "output_type": "execute_result"
    }
   ],
   "source": [
    "tf.linspace(1,2,5)"
   ]
  },
  {
   "cell_type": "code",
   "execution_count": 51,
   "id": "fb42fca1-325f-4672-8490-29fd7791f1f9",
   "metadata": {},
   "outputs": [
    {
     "data": {
      "text/plain": [
       "<tf.Tensor: shape=(4, 4), dtype=float32, numpy=\n",
       "array([[1., 0., 0., 0.],\n",
       "       [0., 1., 0., 0.],\n",
       "       [0., 0., 1., 0.],\n",
       "       [0., 0., 0., 1.]], dtype=float32)>"
      ]
     },
     "execution_count": 51,
     "metadata": {},
     "output_type": "execute_result"
    }
   ],
   "source": [
    "tf.eye(4)"
   ]
  },
  {
   "cell_type": "code",
   "execution_count": 72,
   "id": "bf8c7e27-a874-4089-9c52-dfe2aa979978",
   "metadata": {},
   "outputs": [],
   "source": [
    "tf.random.set_seed(5)\n",
    "a = tf.random.uniform((2,3),100,200,dtype=tf.int32)\n",
    "tf.random.set_seed(5)\n",
    "b = tf.random.uniform((2,3),100,200,dtype=tf.int32)"
   ]
  },
  {
   "cell_type": "code",
   "execution_count": 73,
   "id": "9460e189-8dac-4f86-ad95-552b4bc3bd5d",
   "metadata": {},
   "outputs": [
    {
     "data": {
      "text/plain": [
       "<tf.Tensor: shape=(2, 3), dtype=int32, numpy=\n",
       "array([[170, 171, 168],\n",
       "       [166, 147, 196]], dtype=int32)>"
      ]
     },
     "execution_count": 73,
     "metadata": {},
     "output_type": "execute_result"
    }
   ],
   "source": [
    "a"
   ]
  },
  {
   "cell_type": "code",
   "execution_count": 74,
   "id": "321115ff-b101-4c66-a76f-76870e0019d1",
   "metadata": {},
   "outputs": [
    {
     "data": {
      "text/plain": [
       "<tf.Tensor: shape=(2, 3), dtype=int32, numpy=\n",
       "array([[170, 171, 168],\n",
       "       [166, 147, 196]], dtype=int32)>"
      ]
     },
     "execution_count": 74,
     "metadata": {},
     "output_type": "execute_result"
    }
   ],
   "source": [
    "b"
   ]
  },
  {
   "cell_type": "code",
   "execution_count": 76,
   "id": "b44f09a6-0685-4631-b85a-8d921b6e0b71",
   "metadata": {},
   "outputs": [
    {
     "data": {
      "text/plain": [
       "<tf.Tensor: shape=(5, 5), dtype=float32, numpy=\n",
       "array([[ 1.4665463e+00, -1.0248139e+00,  8.6743289e-01, -2.2424309e+00,\n",
       "         8.9757569e-02],\n",
       "       [-1.1256858e-01, -1.6262239e-01, -3.1064131e-04, -2.0654018e+00,\n",
       "         9.5980637e-02],\n",
       "       [-1.1647935e+00, -5.9716773e-01, -1.6130395e+00,  5.5149215e-01,\n",
       "        -2.1156819e+00],\n",
       "       [ 1.2274351e+00, -2.1617559e-01, -2.1591003e+00,  8.7623733e-01,\n",
       "        -1.4944816e-01],\n",
       "       [-1.0972142e+00,  4.4351053e-01, -3.7323128e-02,  1.6468747e+00,\n",
       "         5.8475316e-01]], dtype=float32)>"
      ]
     },
     "execution_count": 76,
     "metadata": {},
     "output_type": "execute_result"
    }
   ],
   "source": [
    "tf.random.normal((5,5),0,1)"
   ]
  },
  {
   "cell_type": "code",
   "execution_count": 77,
   "id": "36d34718-f36b-42a5-bad6-77efae024d6f",
   "metadata": {},
   "outputs": [
    {
     "data": {
      "text/plain": [
       "<tf.Tensor: shape=(2, 3), dtype=int32, numpy=\n",
       "array([[166, 147, 196],\n",
       "       [170, 171, 168]], dtype=int32)>"
      ]
     },
     "execution_count": 77,
     "metadata": {},
     "output_type": "execute_result"
    }
   ],
   "source": [
    "tf.random.shuffle(a)"
   ]
  },
  {
   "cell_type": "code",
   "execution_count": 78,
   "id": "3b186e16-732c-4de8-9918-a41ab0962215",
   "metadata": {},
   "outputs": [
    {
     "data": {
      "text/plain": [
       "<tf.Tensor: shape=(2, 3), dtype=int32, numpy=\n",
       "array([[170, 171, 168],\n",
       "       [166, 147, 196]], dtype=int32)>"
      ]
     },
     "execution_count": 78,
     "metadata": {},
     "output_type": "execute_result"
    }
   ],
   "source": [
    "a"
   ]
  },
  {
   "cell_type": "code",
   "execution_count": 83,
   "id": "f95b596c-1372-492c-ad21-3a31a385e716",
   "metadata": {},
   "outputs": [
    {
     "data": {
      "text/plain": [
       "<tf.Tensor: shape=(3, 2, 1), dtype=int32, numpy=\n",
       "array([[[170],\n",
       "        [171]],\n",
       "\n",
       "       [[168],\n",
       "        [166]],\n",
       "\n",
       "       [[147],\n",
       "        [196]]], dtype=int32)>"
      ]
     },
     "execution_count": 83,
     "metadata": {},
     "output_type": "execute_result"
    }
   ],
   "source": [
    "tf.reshape(a,(3,-1,1))"
   ]
  },
  {
   "cell_type": "code",
   "execution_count": 84,
   "id": "1331bb22-def5-4d46-821b-6a3f9a671361",
   "metadata": {},
   "outputs": [
    {
     "data": {
      "text/plain": [
       "<tf.Tensor: shape=(6,), dtype=int32, numpy=array([170, 171, 168, 166, 147, 196], dtype=int32)>"
      ]
     },
     "execution_count": 84,
     "metadata": {},
     "output_type": "execute_result"
    }
   ],
   "source": [
    "tf.reshape(a,(-1,))"
   ]
  },
  {
   "cell_type": "code",
   "execution_count": 85,
   "id": "75379ed9-4079-4ae3-ac7c-d1cc6c748bb8",
   "metadata": {},
   "outputs": [],
   "source": [
    "a = tf.constant([1,2,3,4,5])\n",
    "b = tf.constant([10,20,30,40,50])"
   ]
  },
  {
   "cell_type": "code",
   "execution_count": 86,
   "id": "f4df7fb0-f980-4b54-ab75-026fe8d3324a",
   "metadata": {},
   "outputs": [
    {
     "data": {
      "text/plain": [
       "<tf.Tensor: shape=(5,), dtype=int32, numpy=array([ 6,  7,  8,  9, 10], dtype=int32)>"
      ]
     },
     "execution_count": 86,
     "metadata": {},
     "output_type": "execute_result"
    }
   ],
   "source": [
    "a+5"
   ]
  },
  {
   "cell_type": "code",
   "execution_count": 87,
   "id": "32ddb4b9-b30c-4751-8d37-d6b03a21fad0",
   "metadata": {},
   "outputs": [
    {
     "data": {
      "text/plain": [
       "<tf.Tensor: shape=(5,), dtype=int32, numpy=array([ 5, 10, 15, 20, 25], dtype=int32)>"
      ]
     },
     "execution_count": 87,
     "metadata": {},
     "output_type": "execute_result"
    }
   ],
   "source": [
    "a*5"
   ]
  },
  {
   "cell_type": "code",
   "execution_count": 88,
   "id": "e5755d48-cadf-4b81-8e3b-708f4f1395d4",
   "metadata": {},
   "outputs": [
    {
     "data": {
      "text/plain": [
       "<tf.Tensor: shape=(5,), dtype=int32, numpy=array([-4, -3, -2, -1,  0], dtype=int32)>"
      ]
     },
     "execution_count": 88,
     "metadata": {},
     "output_type": "execute_result"
    }
   ],
   "source": [
    "a-5"
   ]
  },
  {
   "cell_type": "code",
   "execution_count": 89,
   "id": "5149d4a0-6898-4342-903d-ff776bbf8658",
   "metadata": {},
   "outputs": [
    {
     "data": {
      "text/plain": [
       "<tf.Tensor: shape=(5,), dtype=float64, numpy=array([0.2, 0.4, 0.6, 0.8, 1. ])>"
      ]
     },
     "execution_count": 89,
     "metadata": {},
     "output_type": "execute_result"
    }
   ],
   "source": [
    "a/5"
   ]
  },
  {
   "cell_type": "code",
   "execution_count": 90,
   "id": "82df4949-9464-4778-8c36-f56e69279734",
   "metadata": {},
   "outputs": [
    {
     "data": {
      "text/plain": [
       "<tf.Tensor: shape=(5,), dtype=int32, numpy=array([0, 0, 0, 0, 1], dtype=int32)>"
      ]
     },
     "execution_count": 90,
     "metadata": {},
     "output_type": "execute_result"
    }
   ],
   "source": [
    "a//5"
   ]
  },
  {
   "cell_type": "code",
   "execution_count": 91,
   "id": "1f003ef0-f499-4dc2-8da5-5395ce56265a",
   "metadata": {},
   "outputs": [
    {
     "data": {
      "text/plain": [
       "<tf.Tensor: shape=(5,), dtype=int32, numpy=array([1, 2, 3, 4, 0], dtype=int32)>"
      ]
     },
     "execution_count": 91,
     "metadata": {},
     "output_type": "execute_result"
    }
   ],
   "source": [
    "a%5"
   ]
  },
  {
   "cell_type": "code",
   "execution_count": 92,
   "id": "f46b19cb-4661-4ab2-a7f3-e40b3b1f8297",
   "metadata": {},
   "outputs": [
    {
     "data": {
      "text/plain": [
       "<tf.Tensor: shape=(5,), dtype=bool, numpy=array([False, False, False, False,  True])>"
      ]
     },
     "execution_count": 92,
     "metadata": {},
     "output_type": "execute_result"
    }
   ],
   "source": [
    "a == 5"
   ]
  },
  {
   "cell_type": "code",
   "execution_count": 93,
   "id": "3bf906dc-f075-45ed-9666-9c2dbb85fec1",
   "metadata": {},
   "outputs": [
    {
     "data": {
      "text/plain": [
       "<tf.Tensor: shape=(5,), dtype=bool, numpy=array([False, False, False, False,  True])>"
      ]
     },
     "execution_count": 93,
     "metadata": {},
     "output_type": "execute_result"
    }
   ],
   "source": [
    "b == 50"
   ]
  },
  {
   "cell_type": "code",
   "execution_count": 94,
   "id": "75c75a31-fd70-4d3b-940b-a877e67a319a",
   "metadata": {},
   "outputs": [
    {
     "data": {
      "text/plain": [
       "<tf.Tensor: shape=(5,), dtype=bool, numpy=array([False, False, False, False,  True])>"
      ]
     },
     "execution_count": 94,
     "metadata": {},
     "output_type": "execute_result"
    }
   ],
   "source": [
    "tf.logical_and(a==5,b==50)"
   ]
  },
  {
   "cell_type": "code",
   "execution_count": 95,
   "id": "31945744-a536-451c-b98a-6baebe7a374f",
   "metadata": {},
   "outputs": [
    {
     "data": {
      "text/plain": [
       "<tf.Tensor: shape=(5,), dtype=int32, numpy=array([11, 22, 33, 44, 55], dtype=int32)>"
      ]
     },
     "execution_count": 95,
     "metadata": {},
     "output_type": "execute_result"
    }
   ],
   "source": [
    "a+b"
   ]
  },
  {
   "cell_type": "code",
   "execution_count": 96,
   "id": "ac20943c-4d4d-44e5-a10f-fd98b76c196f",
   "metadata": {},
   "outputs": [
    {
     "data": {
      "text/plain": [
       "<tf.Tensor: shape=(5,), dtype=int32, numpy=array([ -9, -18, -27, -36, -45], dtype=int32)>"
      ]
     },
     "execution_count": 96,
     "metadata": {},
     "output_type": "execute_result"
    }
   ],
   "source": [
    "a-b"
   ]
  },
  {
   "cell_type": "code",
   "execution_count": 97,
   "id": "762d86eb-8a3b-4963-9617-10f476273992",
   "metadata": {},
   "outputs": [
    {
     "data": {
      "text/plain": [
       "<tf.Tensor: shape=(5,), dtype=int32, numpy=array([ 10,  40,  90, 160, 250], dtype=int32)>"
      ]
     },
     "execution_count": 97,
     "metadata": {},
     "output_type": "execute_result"
    }
   ],
   "source": [
    "a*b"
   ]
  },
  {
   "cell_type": "code",
   "execution_count": 98,
   "id": "f5bd1f50-1709-46a8-9a20-c2c0b83a9e2f",
   "metadata": {},
   "outputs": [
    {
     "data": {
      "text/plain": [
       "<tf.Tensor: shape=(5,), dtype=float64, numpy=array([0.1, 0.1, 0.1, 0.1, 0.1])>"
      ]
     },
     "execution_count": 98,
     "metadata": {},
     "output_type": "execute_result"
    }
   ],
   "source": [
    "a/b"
   ]
  },
  {
   "cell_type": "code",
   "execution_count": 99,
   "id": "f891592a-85f6-43e5-b981-b33c9c374b65",
   "metadata": {},
   "outputs": [],
   "source": [
    "a = tf.constant([[1,2,3],[4,5,6],[7,8,9],[1,2,3]])"
   ]
  },
  {
   "cell_type": "code",
   "execution_count": 100,
   "id": "1d531bef-8e39-49ec-8519-79e56fa2164e",
   "metadata": {},
   "outputs": [
    {
     "data": {
      "text/plain": [
       "<tf.Tensor: shape=(4, 3), dtype=int32, numpy=\n",
       "array([[1, 2, 3],\n",
       "       [4, 5, 6],\n",
       "       [7, 8, 9],\n",
       "       [1, 2, 3]], dtype=int32)>"
      ]
     },
     "execution_count": 100,
     "metadata": {},
     "output_type": "execute_result"
    }
   ],
   "source": [
    "a"
   ]
  },
  {
   "cell_type": "code",
   "execution_count": 104,
   "id": "1297e7c2-ec43-4aa7-87d3-fc58443a9d50",
   "metadata": {},
   "outputs": [
    {
     "data": {
      "text/plain": [
       "<tf.Tensor: shape=(4,), dtype=int32, numpy=array([3, 6, 9, 3], dtype=int32)>"
      ]
     },
     "execution_count": 104,
     "metadata": {},
     "output_type": "execute_result"
    }
   ],
   "source": [
    "tf.reduce_max(a,axis=1)"
   ]
  },
  {
   "cell_type": "code",
   "execution_count": 105,
   "id": "f5964e95-649d-45ac-8a59-d92855608ce4",
   "metadata": {},
   "outputs": [
    {
     "data": {
      "text/plain": [
       "<tf.Tensor: shape=(4, 3), dtype=int32, numpy=\n",
       "array([[1, 2, 3],\n",
       "       [4, 5, 6],\n",
       "       [7, 8, 9],\n",
       "       [1, 2, 3]], dtype=int32)>"
      ]
     },
     "execution_count": 105,
     "metadata": {},
     "output_type": "execute_result"
    }
   ],
   "source": [
    "a"
   ]
  },
  {
   "cell_type": "code",
   "execution_count": 106,
   "id": "55aa2674-bcbe-4c95-871d-ac1f16d782c2",
   "metadata": {},
   "outputs": [
    {
     "data": {
      "text/plain": [
       "<tf.Tensor: shape=(3,), dtype=int32, numpy=array([10, 20, 30], dtype=int32)>"
      ]
     },
     "execution_count": 106,
     "metadata": {},
     "output_type": "execute_result"
    }
   ],
   "source": [
    "b = tf.constant([10,20,30])\n",
    "b"
   ]
  },
  {
   "cell_type": "code",
   "execution_count": 107,
   "id": "d3a2e4b4-2192-4e64-9e16-815fe4f477ce",
   "metadata": {},
   "outputs": [
    {
     "data": {
      "text/plain": [
       "<tf.Tensor: shape=(4, 3), dtype=int32, numpy=\n",
       "array([[11, 22, 33],\n",
       "       [14, 25, 36],\n",
       "       [17, 28, 39],\n",
       "       [11, 22, 33]], dtype=int32)>"
      ]
     },
     "execution_count": 107,
     "metadata": {},
     "output_type": "execute_result"
    }
   ],
   "source": [
    "a+b"
   ]
  },
  {
   "cell_type": "code",
   "execution_count": 108,
   "id": "ad066d66-0d6b-4f8b-a0cb-d2e10b835276",
   "metadata": {},
   "outputs": [
    {
     "data": {
      "text/plain": [
       "<tf.Tensor: shape=(4, 1), dtype=int32, numpy=\n",
       "array([[10],\n",
       "       [20],\n",
       "       [30],\n",
       "       [40]], dtype=int32)>"
      ]
     },
     "execution_count": 108,
     "metadata": {},
     "output_type": "execute_result"
    }
   ],
   "source": [
    "b = tf.constant([[10],[20],[30],[40]])\n",
    "b"
   ]
  },
  {
   "cell_type": "code",
   "execution_count": 109,
   "id": "b5491e90-d597-4ef1-9b60-ca2b2a29598e",
   "metadata": {},
   "outputs": [
    {
     "data": {
      "text/plain": [
       "<tf.Tensor: shape=(4, 3), dtype=int32, numpy=\n",
       "array([[11, 12, 13],\n",
       "       [24, 25, 26],\n",
       "       [37, 38, 39],\n",
       "       [41, 42, 43]], dtype=int32)>"
      ]
     },
     "execution_count": 109,
     "metadata": {},
     "output_type": "execute_result"
    }
   ],
   "source": [
    "a+b"
   ]
  },
  {
   "cell_type": "code",
   "execution_count": 110,
   "id": "0c62a452-2711-4d79-9f99-4499f7f6fc63",
   "metadata": {},
   "outputs": [
    {
     "data": {
      "text/plain": [
       "<tf.Tensor: shape=(4, 3), dtype=int32, numpy=\n",
       "array([[11, 12, 13],\n",
       "       [21, 22, 23],\n",
       "       [31, 32, 33],\n",
       "       [41, 42, 43]], dtype=int32)>"
      ]
     },
     "execution_count": 110,
     "metadata": {},
     "output_type": "execute_result"
    }
   ],
   "source": [
    "a[0] + b"
   ]
  },
  {
   "cell_type": "code",
   "execution_count": 111,
   "id": "82192394-20c9-46ea-be22-f156fe7ee613",
   "metadata": {},
   "outputs": [],
   "source": [
    "a = tf.constant([[1,2,3],[4,5,6]])\n",
    "b = tf.constant([[10,20],[30,40],[50,60]])"
   ]
  },
  {
   "cell_type": "code",
   "execution_count": 112,
   "id": "f9707ff6-a388-45b1-9096-d3afe08da0a5",
   "metadata": {},
   "outputs": [],
   "source": [
    "# tf.tensordot(a,b,1)"
   ]
  },
  {
   "cell_type": "code",
   "execution_count": 113,
   "id": "4dae0cda-830f-4150-bd06-9b911a069d0d",
   "metadata": {},
   "outputs": [],
   "source": [
    "# tf.reduce_sum(a*b)"
   ]
  },
  {
   "cell_type": "code",
   "execution_count": 114,
   "id": "54c15936-b3f9-4397-a750-10a7b00b1bb8",
   "metadata": {},
   "outputs": [
    {
     "data": {
      "text/plain": [
       "<tf.Tensor: shape=(2, 2), dtype=int32, numpy=\n",
       "array([[220, 280],\n",
       "       [490, 640]], dtype=int32)>"
      ]
     },
     "execution_count": 114,
     "metadata": {},
     "output_type": "execute_result"
    }
   ],
   "source": [
    "a@b"
   ]
  },
  {
   "cell_type": "code",
   "execution_count": 115,
   "id": "30e80740-a3d1-4189-b1e9-2adda573327b",
   "metadata": {},
   "outputs": [
    {
     "data": {
      "text/plain": [
       "<tf.Tensor: shape=(2, 2), dtype=int32, numpy=\n",
       "array([[220, 280],\n",
       "       [490, 640]], dtype=int32)>"
      ]
     },
     "execution_count": 115,
     "metadata": {},
     "output_type": "execute_result"
    }
   ],
   "source": [
    "tf.matmul(a,b)"
   ]
  },
  {
   "cell_type": "code",
   "execution_count": null,
   "id": "8918900f-df43-4f24-b257-992f782bbf23",
   "metadata": {},
   "outputs": [],
   "source": []
  }
 ],
 "metadata": {
  "kernelspec": {
   "display_name": "Python 3 (ipykernel)",
   "language": "python",
   "name": "python3"
  },
  "language_info": {
   "codemirror_mode": {
    "name": "ipython",
    "version": 3
   },
   "file_extension": ".py",
   "mimetype": "text/x-python",
   "name": "python",
   "nbconvert_exporter": "python",
   "pygments_lexer": "ipython3",
   "version": "3.12.9"
  }
 },
 "nbformat": 4,
 "nbformat_minor": 5
}
