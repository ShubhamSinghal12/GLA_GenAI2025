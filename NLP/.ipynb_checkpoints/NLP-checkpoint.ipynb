{
 "cells": [
  {
   "cell_type": "code",
   "execution_count": 1,
   "id": "4e41046d-76b1-42a3-a1ad-ca1713cd143b",
   "metadata": {},
   "outputs": [],
   "source": [
    "import nltk"
   ]
  },
  {
   "cell_type": "code",
   "execution_count": 2,
   "id": "e5400985-84e1-44f0-9687-dba8b276ad13",
   "metadata": {},
   "outputs": [],
   "source": [
    "document = \"\"\"It was a very pleasant day. The weather was cool and there were light showers. \n",
    "I went to the market to buy some fruits.\"\"\"\n",
    "\n",
    "sentence = \"Send all the 50 documents  related to chapters 1,2,3 at shubham@cb.com\""
   ]
  },
  {
   "cell_type": "code",
   "execution_count": 3,
   "id": "db14ef01-8f7c-4729-9716-b4ddc4aaebeb",
   "metadata": {},
   "outputs": [],
   "source": [
    "from nltk.tokenize import sent_tokenize,word_tokenize"
   ]
  },
  {
   "cell_type": "code",
   "execution_count": 4,
   "id": "5cff0de1-cd51-422d-836d-5284ecb147a3",
   "metadata": {},
   "outputs": [
    {
     "name": "stdout",
     "output_type": "stream",
     "text": [
      "['It was a very pleasant day.', 'The weather was cool and there were light showers.', 'I went to the market to buy some fruits.']\n"
     ]
    }
   ],
   "source": [
    "sents = sent_tokenize(document)\n",
    "print(sents)"
   ]
  },
  {
   "cell_type": "code",
   "execution_count": 5,
   "id": "5cdc3d44-ca81-48f3-add4-bb6c29ee604d",
   "metadata": {},
   "outputs": [
    {
     "name": "stdout",
     "output_type": "stream",
     "text": [
      "['Send', 'all', 'the', '50', 'documents', 'related', 'to', 'chapters', '1,2,3', 'at', 'shubham', '@', 'cb.com']\n"
     ]
    }
   ],
   "source": [
    "words = word_tokenize(sentence)\n",
    "print(words)"
   ]
  },
  {
   "cell_type": "code",
   "execution_count": 6,
   "id": "33ff4d2f-89cf-492c-99d0-c644942ba750",
   "metadata": {},
   "outputs": [],
   "source": [
    "import re"
   ]
  },
  {
   "cell_type": "code",
   "execution_count": 38,
   "id": "b3b7969e-e7a3-4e4d-83b3-211826de98ee",
   "metadata": {},
   "outputs": [
    {
     "data": {
      "text/plain": [
       "['Send',\n",
       " 'all',\n",
       " 'the',\n",
       " '50',\n",
       " 'documents',\n",
       " 'related',\n",
       " 'to',\n",
       " 'chapters',\n",
       " '1',\n",
       " '2',\n",
       " '3',\n",
       " 'at',\n",
       " 'shubham@cb.com']"
      ]
     },
     "execution_count": 38,
     "metadata": {},
     "output_type": "execute_result"
    }
   ],
   "source": [
    "re.split(r'[,\\s]+',sentence)"
   ]
  },
  {
   "cell_type": "code",
   "execution_count": 7,
   "id": "0c985be6-2172-4a89-b0ce-bb226f99a978",
   "metadata": {},
   "outputs": [
    {
     "data": {
      "text/plain": [
       "'Send all the  documents  related to chapters  at shubhamcbcom'"
      ]
     },
     "execution_count": 7,
     "metadata": {},
     "output_type": "execute_result"
    }
   ],
   "source": [
    "re.sub(r'[^a-zA-Z\\s]+','',sentence)"
   ]
  },
  {
   "cell_type": "code",
   "execution_count": 9,
   "id": "0fed47e6-5e72-4c46-a9ae-656b226ebd66",
   "metadata": {},
   "outputs": [],
   "source": [
    "from nltk.corpus import stopwords\n",
    "\n",
    "sw = set(stopwords.words('english'))"
   ]
  },
  {
   "cell_type": "code",
   "execution_count": 10,
   "id": "827c1ccf-a38d-42b9-820b-269aedd61708",
   "metadata": {
    "scrolled": true
   },
   "outputs": [
    {
     "name": "stdout",
     "output_type": "stream",
     "text": [
      "{'she', \"we're\", \"they'd\", 'whom', 'here', 'a', 'because', \"hadn't\", 'too', 'weren', 'be', \"you'll\", 'am', 'its', 'few', 'have', \"wasn't\", 'again', 'his', \"they'll\", \"she's\", \"aren't\", 'not', 'at', 'wouldn', 'itself', 'against', 'such', 'were', \"that'll\", 'the', 'shan', 'your', 'don', 'up', 'why', 'for', 'after', 'then', 'hers', \"he's\", 'y', 'was', 'out', 'all', 'both', 'their', 'same', 've', 'during', \"he'd\", 'each', 'about', 'that', 'does', 'there', \"they're\", 'those', 'what', \"won't\", \"i'd\", 'which', \"didn't\", 'very', 'has', 'and', 'd', 'do', \"we'll\", 'are', 'hasn', 'him', 'some', 'any', 'off', 'himself', 'hadn', 'can', 'i', 'needn', 'where', \"weren't\", 'so', 'with', 's', 'by', 'how', 'o', 'or', 'under', 'ourselves', \"should've\", 'until', 'than', 'in', 're', 'should', \"wouldn't\", 'only', 'when', 'isn', 'doing', 'ma', \"doesn't\", 'will', \"mightn't\", 'm', 'further', \"hasn't\", \"you'd\", 'it', 'more', 'he', 'you', 'if', 'mightn', 'me', 'into', 'they', 'we', 'most', 'haven', \"isn't\", 'who', \"i've\", 'did', 'myself', 'an', 'shouldn', \"she'll\", \"couldn't\", 'them', 'her', 'but', \"he'll\", \"you're\", 'herself', 'between', \"i'm\", \"they've\", \"mustn't\", \"i'll\", 'having', 't', 'being', \"haven't\", 'theirs', 'themselves', 'as', 'down', 'these', \"you've\", \"don't\", 'my', 'been', \"it's\", 'once', \"it'd\", 'aren', 'couldn', 'ours', 'nor', 'our', 'didn', 'is', 'from', 'won', 'had', 'on', \"shan't\", 'no', 'below', \"she'd\", 'yours', \"we've\", 'yourself', \"shouldn't\", 'ain', 'before', 'yourselves', \"it'll\", 'mustn', 'll', 'own', 'other', 'this', \"needn't\", 'just', 'now', 'wasn', 'of', 'doesn', 'through', \"we'd\", 'above', 'while', 'to', 'over'}\n"
     ]
    }
   ],
   "source": [
    "print(sw)"
   ]
  },
  {
   "cell_type": "code",
   "execution_count": null,
   "id": "45df740f-0107-4b46-a00b-367fdeebfe11",
   "metadata": {},
   "outputs": [],
   "source": []
  },
  {
   "cell_type": "code",
   "execution_count": null,
   "id": "2b91d8be-1f18-40c7-b2ac-32ae02fbe0b5",
   "metadata": {},
   "outputs": [],
   "source": []
  },
  {
   "cell_type": "code",
   "execution_count": 20,
   "id": "8ca68d23-10eb-4136-8470-6a42495957a7",
   "metadata": {},
   "outputs": [],
   "source": [
    "sentence = re.sub(r'[^a-zA-Z\\s@.]+','',sentence)\n",
    "tokens = re.split(r'[,\\s]+',sentence)\n",
    "tokens = [sst.stem(w) for w in tokens if w not in sw]\n"
   ]
  },
  {
   "cell_type": "code",
   "execution_count": 21,
   "id": "618532e5-18c9-44ac-bfdc-cdcb60410b90",
   "metadata": {},
   "outputs": [
    {
     "data": {
      "text/plain": [
       "['send', 'document', 'relat', 'chapter', 'shubham@cb.com']"
      ]
     },
     "execution_count": 21,
     "metadata": {},
     "output_type": "execute_result"
    }
   ],
   "source": [
    "tokens"
   ]
  },
  {
   "cell_type": "code",
   "execution_count": 13,
   "id": "42127212-b66c-47f2-97fa-17bd7983e57b",
   "metadata": {},
   "outputs": [],
   "source": [
    "from nltk.stem.snowball import SnowballStemmer, PorterStemmer\n",
    "from nltk.stem.lancaster import LancasterStemmer"
   ]
  },
  {
   "cell_type": "code",
   "execution_count": 14,
   "id": "db76c0db-27a8-44bc-a373-5cfdbaa9f714",
   "metadata": {},
   "outputs": [
    {
     "data": {
      "text/plain": [
       "'deafeat'"
      ]
     },
     "execution_count": 14,
     "metadata": {},
     "output_type": "execute_result"
    }
   ],
   "source": [
    "sst = SnowballStemmer('english')\n",
    "sst.stem('deafeated')"
   ]
  },
  {
   "cell_type": "code",
   "execution_count": 17,
   "id": "969571f6-65d9-40ce-a2f6-a024e76bfe01",
   "metadata": {},
   "outputs": [
    {
     "data": {
      "text/plain": [
       "'curl'"
      ]
     },
     "execution_count": 17,
     "metadata": {},
     "output_type": "execute_result"
    }
   ],
   "source": [
    "sst.stem('curled')"
   ]
  },
  {
   "cell_type": "code",
   "execution_count": 19,
   "id": "d04228ed-1c01-43ad-9596-0bcdb2dfeb8f",
   "metadata": {},
   "outputs": [
    {
     "data": {
      "text/plain": [
       "'shubham@cb.com'"
      ]
     },
     "execution_count": 19,
     "metadata": {},
     "output_type": "execute_result"
    }
   ],
   "source": [
    "sst.stem('shubham@cb.com')"
   ]
  },
  {
   "cell_type": "code",
   "execution_count": 60,
   "id": "a2c1a223-ea0e-4803-b520-244111f5f71d",
   "metadata": {},
   "outputs": [],
   "source": [
    "ps = PorterStemmer()"
   ]
  },
  {
   "cell_type": "code",
   "execution_count": 61,
   "id": "eae91127-a401-48f5-accb-6d6797673f28",
   "metadata": {},
   "outputs": [
    {
     "data": {
      "text/plain": [
       "'curl'"
      ]
     },
     "execution_count": 61,
     "metadata": {},
     "output_type": "execute_result"
    }
   ],
   "source": [
    "ps.stem('curl')"
   ]
  },
  {
   "cell_type": "code",
   "execution_count": 62,
   "id": "f9bd7fb1-7637-4d0a-8b5f-f7206a2e6a61",
   "metadata": {},
   "outputs": [
    {
     "data": {
      "text/plain": [
       "'curli'"
      ]
     },
     "execution_count": 62,
     "metadata": {},
     "output_type": "execute_result"
    }
   ],
   "source": [
    "ps.stem('curly')"
   ]
  },
  {
   "cell_type": "code",
   "execution_count": 22,
   "id": "822dd5a5-8a8a-4ef5-94f9-ce6979725b63",
   "metadata": {},
   "outputs": [],
   "source": [
    "from sklearn.feature_extraction.text import CountVectorizer,TfidfVectorizer\n",
    "import pandas as pd"
   ]
  },
  {
   "cell_type": "code",
   "execution_count": 23,
   "id": "2db642ca-0f49-48e6-b2a5-35fa7306f30e",
   "metadata": {},
   "outputs": [],
   "source": [
    "data = pd.read_csv('emails.csv')"
   ]
  },
  {
   "cell_type": "code",
   "execution_count": 24,
   "id": "8cdd88c4-5dee-41ae-8469-63c4aff30561",
   "metadata": {},
   "outputs": [
    {
     "data": {
      "text/html": [
       "<div>\n",
       "<style scoped>\n",
       "    .dataframe tbody tr th:only-of-type {\n",
       "        vertical-align: middle;\n",
       "    }\n",
       "\n",
       "    .dataframe tbody tr th {\n",
       "        vertical-align: top;\n",
       "    }\n",
       "\n",
       "    .dataframe thead th {\n",
       "        text-align: right;\n",
       "    }\n",
       "</style>\n",
       "<table border=\"1\" class=\"dataframe\">\n",
       "  <thead>\n",
       "    <tr style=\"text-align: right;\">\n",
       "      <th></th>\n",
       "      <th>text</th>\n",
       "      <th>spam</th>\n",
       "    </tr>\n",
       "  </thead>\n",
       "  <tbody>\n",
       "    <tr>\n",
       "      <th>0</th>\n",
       "      <td>Subject: naturally irresistible your corporate...</td>\n",
       "      <td>1</td>\n",
       "    </tr>\n",
       "    <tr>\n",
       "      <th>1</th>\n",
       "      <td>Subject: the stock trading gunslinger  fanny i...</td>\n",
       "      <td>1</td>\n",
       "    </tr>\n",
       "    <tr>\n",
       "      <th>2</th>\n",
       "      <td>Subject: unbelievable new homes made easy  im ...</td>\n",
       "      <td>1</td>\n",
       "    </tr>\n",
       "    <tr>\n",
       "      <th>3</th>\n",
       "      <td>Subject: 4 color printing special  request add...</td>\n",
       "      <td>1</td>\n",
       "    </tr>\n",
       "    <tr>\n",
       "      <th>4</th>\n",
       "      <td>Subject: do not have money , get software cds ...</td>\n",
       "      <td>1</td>\n",
       "    </tr>\n",
       "    <tr>\n",
       "      <th>...</th>\n",
       "      <td>...</td>\n",
       "      <td>...</td>\n",
       "    </tr>\n",
       "    <tr>\n",
       "      <th>5723</th>\n",
       "      <td>Subject: re : research and development charges...</td>\n",
       "      <td>0</td>\n",
       "    </tr>\n",
       "    <tr>\n",
       "      <th>5724</th>\n",
       "      <td>Subject: re : receipts from visit  jim ,  than...</td>\n",
       "      <td>0</td>\n",
       "    </tr>\n",
       "    <tr>\n",
       "      <th>5725</th>\n",
       "      <td>Subject: re : enron case study update  wow ! a...</td>\n",
       "      <td>0</td>\n",
       "    </tr>\n",
       "    <tr>\n",
       "      <th>5726</th>\n",
       "      <td>Subject: re : interest  david ,  please , call...</td>\n",
       "      <td>0</td>\n",
       "    </tr>\n",
       "    <tr>\n",
       "      <th>5727</th>\n",
       "      <td>Subject: news : aurora 5 . 2 update  aurora ve...</td>\n",
       "      <td>0</td>\n",
       "    </tr>\n",
       "  </tbody>\n",
       "</table>\n",
       "<p>5728 rows × 2 columns</p>\n",
       "</div>"
      ],
      "text/plain": [
       "                                                   text  spam\n",
       "0     Subject: naturally irresistible your corporate...     1\n",
       "1     Subject: the stock trading gunslinger  fanny i...     1\n",
       "2     Subject: unbelievable new homes made easy  im ...     1\n",
       "3     Subject: 4 color printing special  request add...     1\n",
       "4     Subject: do not have money , get software cds ...     1\n",
       "...                                                 ...   ...\n",
       "5723  Subject: re : research and development charges...     0\n",
       "5724  Subject: re : receipts from visit  jim ,  than...     0\n",
       "5725  Subject: re : enron case study update  wow ! a...     0\n",
       "5726  Subject: re : interest  david ,  please , call...     0\n",
       "5727  Subject: news : aurora 5 . 2 update  aurora ve...     0\n",
       "\n",
       "[5728 rows x 2 columns]"
      ]
     },
     "execution_count": 24,
     "metadata": {},
     "output_type": "execute_result"
    }
   ],
   "source": [
    "data"
   ]
  },
  {
   "cell_type": "code",
   "execution_count": 25,
   "id": "b8f6f493-a03c-41e0-ad5b-f2b276de7674",
   "metadata": {},
   "outputs": [],
   "source": [
    "def process_text(text):\n",
    "    text = text.lower()[9:]\n",
    "    sentence = re.sub(r'[^a-zA-Z\\s]+','',text)\n",
    "    tokens = re.split(r'[,\\s]+',sentence)\n",
    "    tokens = [sst.stem(w) for w in tokens if w not in sw]\n",
    "\n",
    "    return ' '.join(tokens)\n"
   ]
  },
  {
   "cell_type": "code",
   "execution_count": 26,
   "id": "5342d426-7f6c-45ac-9457-06b892dee080",
   "metadata": {},
   "outputs": [],
   "source": [
    "data['text'] = data['text'].apply(process_text)"
   ]
  },
  {
   "cell_type": "code",
   "execution_count": 28,
   "id": "94f3317f-488a-43fa-8c76-744ee5121535",
   "metadata": {},
   "outputs": [
    {
     "data": {
      "text/plain": [
       "0       natur irresist corpor ident lt realli hard rec...\n",
       "1       stock trade gunsling fanni merril muzo colza a...\n",
       "2       unbeliev new home made easi im want show homeo...\n",
       "3        color print special request addit inform clic...\n",
       "4       money get softwar cds softwar compat great gro...\n",
       "                              ...                        \n",
       "5723    research develop charg gpg forward shirley cre...\n",
       "5724    receipt visit jim thank invit visit lsu shirle...\n",
       "5725    enron case studi updat wow day super thank muc...\n",
       "5726    interest david pleas call shirley crenshaw ass...\n",
       "5727    news aurora updat aurora version fastest model...\n",
       "Name: text, Length: 5728, dtype: object"
      ]
     },
     "execution_count": 28,
     "metadata": {},
     "output_type": "execute_result"
    }
   ],
   "source": [
    "data['text']"
   ]
  },
  {
   "cell_type": "code",
   "execution_count": 29,
   "id": "6c18a9a0-0a85-43dc-a254-a87ae3917240",
   "metadata": {},
   "outputs": [],
   "source": [
    "X = data['text'].values\n",
    "y = data['spam'].values"
   ]
  },
  {
   "cell_type": "code",
   "execution_count": 30,
   "id": "680b03a0-c7da-465f-bd59-f721ce70432d",
   "metadata": {},
   "outputs": [],
   "source": [
    "cv = CountVectorizer()"
   ]
  },
  {
   "cell_type": "code",
   "execution_count": 31,
   "id": "6e363bee-0369-45a6-a854-d782a7c31953",
   "metadata": {},
   "outputs": [],
   "source": [
    "x_data = cv.fit_transform(X)"
   ]
  },
  {
   "cell_type": "code",
   "execution_count": 32,
   "id": "5dc166d9-ede6-4704-b641-dffd26ff4972",
   "metadata": {},
   "outputs": [
    {
     "data": {
      "text/plain": [
       "(5728, 25635)"
      ]
     },
     "execution_count": 32,
     "metadata": {},
     "output_type": "execute_result"
    }
   ],
   "source": [
    "x_data.shape"
   ]
  },
  {
   "cell_type": "code",
   "execution_count": 33,
   "id": "eaeac323-1ae5-4ae6-989e-e319ebcf37da",
   "metadata": {
    "scrolled": true
   },
   "outputs": [
    {
     "name": "stdout",
     "output_type": "stream",
     "text": [
      "  (0, 14969)\t1\n",
      "  (0, 11203)\t1\n",
      "  (0, 4736)\t1\n",
      "  (0, 10473)\t1\n",
      "  (0, 13147)\t1\n",
      "  (0, 18496)\t1\n",
      "  (0, 9637)\t1\n",
      "  (0, 18578)\t1\n",
      "  (0, 4314)\t3\n",
      "  (0, 13564)\t4\n",
      "  (0, 8602)\t1\n",
      "  (0, 21821)\t1\n",
      "  (0, 10836)\t1\n",
      "  (0, 11241)\t1\n",
      "  (0, 9154)\t2\n",
      "  (0, 3362)\t1\n",
      "  (0, 12993)\t4\n",
      "  (0, 21632)\t1\n",
      "  (0, 21373)\t1\n",
      "  (0, 16154)\t1\n",
      "  (0, 24557)\t2\n",
      "  (0, 13395)\t2\n",
      "  (0, 22164)\t1\n",
      "  (0, 14684)\t2\n",
      "  (0, 6598)\t1\n",
      "  :\t:\n",
      "  (0, 7504)\t1\n",
      "  (0, 21592)\t1\n",
      "  (0, 17834)\t1\n",
      "  (0, 20030)\t1\n",
      "  (0, 6331)\t1\n",
      "  (0, 24897)\t1\n",
      "  (0, 22590)\t1\n",
      "  (0, 5368)\t1\n",
      "  (0, 370)\t1\n",
      "  (0, 2671)\t1\n",
      "  (0, 8720)\t1\n",
      "  (0, 2869)\t1\n",
      "  (0, 19765)\t1\n",
      "  (0, 9405)\t1\n",
      "  (0, 23561)\t1\n",
      "  (0, 811)\t1\n",
      "  (0, 7684)\t1\n",
      "  (0, 7912)\t1\n",
      "  (0, 21835)\t1\n",
      "  (0, 13105)\t1\n",
      "  (0, 18971)\t1\n",
      "  (0, 4194)\t1\n",
      "  (0, 13035)\t1\n",
      "  (0, 17350)\t1\n",
      "  (0, 11007)\t1\n"
     ]
    }
   ],
   "source": [
    "print(x_data[0])"
   ]
  },
  {
   "cell_type": "code",
   "execution_count": 35,
   "id": "e2cec671-c0e0-4fa2-b207-5a103d1efc89",
   "metadata": {},
   "outputs": [
    {
     "data": {
      "text/plain": [
       "<5728x25635 sparse matrix of type '<class 'numpy.int64'>'\n",
       "\twith 471434 stored elements in Compressed Sparse Row format>"
      ]
     },
     "execution_count": 35,
     "metadata": {},
     "output_type": "execute_result"
    }
   ],
   "source": [
    "x_data"
   ]
  },
  {
   "cell_type": "code",
   "execution_count": null,
   "id": "6470a8b8-9584-463d-927c-3b79b4cddd7e",
   "metadata": {},
   "outputs": [],
   "source": []
  },
  {
   "cell_type": "code",
   "execution_count": null,
   "id": "39645189-3993-489d-b8ae-e18f2e30afcc",
   "metadata": {},
   "outputs": [],
   "source": []
  },
  {
   "cell_type": "code",
   "execution_count": null,
   "id": "4de800df-fff5-440e-8c29-5064a348ba4f",
   "metadata": {},
   "outputs": [],
   "source": []
  },
  {
   "cell_type": "code",
   "execution_count": null,
   "id": "3fd70a4c-608b-4cda-a5ff-ecb1e36b4ebc",
   "metadata": {},
   "outputs": [],
   "source": []
  },
  {
   "cell_type": "code",
   "execution_count": null,
   "id": "f263fee9-a148-45b6-aebc-743b8ccbb064",
   "metadata": {},
   "outputs": [],
   "source": []
  }
 ],
 "metadata": {
  "kernelspec": {
   "display_name": "Python 3 (ipykernel)",
   "language": "python",
   "name": "python3"
  },
  "language_info": {
   "codemirror_mode": {
    "name": "ipython",
    "version": 3
   },
   "file_extension": ".py",
   "mimetype": "text/x-python",
   "name": "python",
   "nbconvert_exporter": "python",
   "pygments_lexer": "ipython3",
   "version": "3.12.8"
  }
 },
 "nbformat": 4,
 "nbformat_minor": 5
}
