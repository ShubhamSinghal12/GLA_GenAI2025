{
 "cells": [
  {
   "cell_type": "markdown",
   "metadata": {},
   "source": [
    "\n",
    "## Word2Vec Model\n",
    "- Word2Vec Google's Pretrained Model\n",
    "- Contains vector representations of 50 billion words\n",
    "\n",
    "- Words which are similar in context have similar vectors\n",
    "- Distance/Similarity between two words can be measured using Cosine Distance\n"
   ]
  },
  {
   "cell_type": "markdown",
   "metadata": {},
   "source": [
    "### Applications\n",
    "- Text Similarity\n",
    "- Language Translation\n",
    "- Finding Odd Words\n",
    "- Word Analogies\n"
   ]
  },
  {
   "cell_type": "markdown",
   "metadata": {},
   "source": [
    "### Word Embeddings\n",
    "- Word embeddings are numerical representation of words, in the form of vectors.\n",
    "\n",
    "- Word2Vec Model represents each word as 300 Dimensional Vector\n",
    "\n",
    "- In this tutorial we are going to see how to use pre-trained word2vec model.\n",
    "- Model size is around 3.5 GB\n",
    "- We will work using Gensim, which is popular NLP Package.\n"
   ]
  },
  {
   "cell_type": "markdown",
   "metadata": {},
   "source": [
    "Gensim's Word2Vec Model provides optimum implementation of \n",
    "\n",
    "1) **CBOW** Model \n",
    "\n",
    "2) **SkipGram Model**\n",
    "\n",
    "\n",
    "Paper 1 [Efficient Estimation of Word Representations in\n",
    "Vector Space](https://arxiv.org/pdf/1301.3781.pdf)\n",
    "\n",
    "\n",
    "Paper 2 [Distributed Representations of Words and Phrases and their Compositionality\n",
    "](https://arxiv.org/abs/1310.4546)"
   ]
  },
  {
   "cell_type": "markdown",
   "metadata": {},
   "source": [
    "### Word2Vec using Gensim\n",
    "`Link https://radimrehurek.com/gensim/models/word2vec.html`"
   ]
  },
  {
   "cell_type": "markdown",
   "metadata": {},
   "source": [
    "### CODE ##"
   ]
  },
  {
   "cell_type": "markdown",
   "metadata": {},
   "source": [
    "##### Load Word2Vec Model"
   ]
  },
  {
   "cell_type": "markdown",
   "metadata": {},
   "source": [
    "\n",
    "**KeyedVectors** - This object essentially contains the mapping between words and embeddings. After training, it can be used directly to query those embeddings in various ways"
   ]
  },
  {
   "cell_type": "code",
   "execution_count": 1,
   "metadata": {},
   "outputs": [],
   "source": [
    "import gensim\n",
    "from gensim.models import word2vec\n",
    "from gensim.models import KeyedVectors\n",
    "from sklearn.metrics.pairwise import cosine_similarity\n",
    "import scipy\n",
    "import numpy"
   ]
  },
  {
   "cell_type": "code",
   "execution_count": 2,
   "metadata": {},
   "outputs": [
    {
     "name": "stdout",
     "output_type": "stream",
     "text": [
      "4.3.3\n"
     ]
    }
   ],
   "source": [
    "print(gensim.__version__)"
   ]
  },
  {
   "cell_type": "code",
   "execution_count": 3,
   "metadata": {},
   "outputs": [
    {
     "name": "stdout",
     "output_type": "stream",
     "text": [
      "1.13.1 1.26.4\n"
     ]
    }
   ],
   "source": [
    "print(scipy.__version__,numpy.__version__)"
   ]
  },
  {
   "cell_type": "code",
   "execution_count": 4,
   "metadata": {},
   "outputs": [],
   "source": [
    "path = r\"C:\\Users\\abhis\\Downloads\\GoogleNews-vectors-negative300.bin\\GoogleNews-vectors-negative300.bin\""
   ]
  },
  {
   "cell_type": "code",
   "execution_count": 5,
   "metadata": {},
   "outputs": [],
   "source": [
    "word_vectors = KeyedVectors.load_word2vec_format(path,binary=True)"
   ]
  },
  {
   "cell_type": "code",
   "execution_count": 21,
   "metadata": {},
   "outputs": [],
   "source": [
    "v_apple = word_vectors[\"India\"] \n",
    "v_mango = word_vectors[\"Moscow\"]"
   ]
  },
  {
   "cell_type": "code",
   "execution_count": 22,
   "metadata": {
    "scrolled": true
   },
   "outputs": [
    {
     "name": "stdout",
     "output_type": "stream",
     "text": [
      "(300,)\n",
      "(300,)\n",
      "[-3.24707031e-02  6.10351562e-02  1.72851562e-01  2.53906250e-01\n",
      " -1.97265625e-01 -1.55273438e-01  1.06933594e-01 -2.31445312e-01\n",
      " -2.09960938e-01 -2.58789062e-02 -1.32812500e-01 -1.04492188e-01\n",
      "  3.32031250e-01 -1.74804688e-01  1.45874023e-02 -7.12890625e-02\n",
      "  1.62353516e-02  6.59179688e-02 -1.54418945e-02  5.12695312e-02\n",
      "  7.05718994e-05 -1.47460938e-01  2.57873535e-03 -1.23046875e-01\n",
      "  1.02539062e-01  1.39648438e-01 -3.88671875e-01 -1.63085938e-01\n",
      " -8.93554688e-02  7.27539062e-02 -9.66796875e-02 -2.79296875e-01\n",
      " -4.23828125e-01  4.24804688e-02  2.74658203e-02 -8.74023438e-02\n",
      " -2.17773438e-01 -5.34667969e-02  2.91015625e-01  3.44238281e-02\n",
      "  8.44726562e-02  8.15429688e-02 -3.78417969e-02  2.40234375e-01\n",
      " -2.89306641e-02 -2.33154297e-02 -2.27539062e-01  7.51953125e-02\n",
      "  1.80664062e-01  2.92968750e-02  5.20019531e-02  1.51367188e-01\n",
      "  1.47247314e-03 -2.85644531e-02  2.56347656e-02  3.12500000e-02\n",
      " -1.76757812e-01 -1.55273438e-01  2.92968750e-02 -2.12890625e-01\n",
      "  1.16577148e-02 -2.09960938e-02 -4.51660156e-02 -1.06933594e-01\n",
      " -1.21093750e-01  2.19726562e-01  5.76171875e-02  8.59375000e-02\n",
      "  2.63671875e-02 -1.18164062e-01 -3.39843750e-01  4.41894531e-02\n",
      " -5.98144531e-02 -2.86865234e-02 -1.37329102e-02 -3.16406250e-01\n",
      "  8.78906250e-03  1.25976562e-01 -1.59179688e-01  1.63085938e-01\n",
      "  8.77380371e-04  2.39257812e-02  2.09960938e-02 -4.93164062e-02\n",
      " -9.27734375e-02 -1.02996826e-03 -8.48388672e-03 -8.00781250e-02\n",
      "  9.52148438e-02  3.01513672e-02  6.73828125e-02  1.01562500e-01\n",
      " -3.35937500e-01 -5.49316406e-02 -1.42578125e-01 -2.47802734e-02\n",
      "  1.51367188e-01 -1.01074219e-01  2.57812500e-01  3.90625000e-02\n",
      " -1.57226562e-01 -5.63964844e-02  1.33666992e-02  4.32128906e-02\n",
      "  1.64794922e-02 -8.44726562e-02  1.16699219e-01 -4.37011719e-02\n",
      " -2.60009766e-02  1.47460938e-01 -8.20312500e-02  2.81982422e-02\n",
      " -9.76562500e-02 -1.45507812e-01  2.36328125e-01  1.44531250e-01\n",
      " -5.68847656e-02 -2.29492188e-01  4.14062500e-01  1.03515625e-01\n",
      " -8.00781250e-02  6.49414062e-02 -1.74804688e-01  1.26953125e-01\n",
      " -4.19921875e-01  1.68945312e-01  7.76367188e-02 -2.31933594e-02\n",
      " -2.27539062e-01 -6.49414062e-02 -2.13867188e-01  2.55859375e-01\n",
      " -3.05175781e-02 -2.08984375e-01 -2.55126953e-02 -9.57031250e-02\n",
      " -3.19824219e-02  1.25000000e-01 -7.95898438e-02  4.32128906e-02\n",
      "  2.30468750e-01 -1.63085938e-01  1.05468750e-01  3.36914062e-02\n",
      " -1.43554688e-01  3.97949219e-02  1.32812500e-01  9.37500000e-02\n",
      "  1.58203125e-01  8.25195312e-02  1.89453125e-01 -3.04687500e-01\n",
      "  9.17968750e-02 -2.33398438e-01 -1.17187500e-01 -4.29687500e-01\n",
      " -4.51171875e-01 -3.19824219e-02  1.48437500e-01  9.71679688e-02\n",
      " -1.80664062e-01 -3.61328125e-01 -5.00488281e-03 -1.57226562e-01\n",
      "  2.12890625e-01 -3.90625000e-01  1.63574219e-02 -5.90820312e-02\n",
      "  1.44531250e-01  1.45507812e-01 -2.63671875e-01  1.56250000e-01\n",
      "  8.83789062e-02 -2.07031250e-01  1.99218750e-01 -3.35937500e-01\n",
      "  2.71484375e-01 -3.02734375e-01 -2.08007812e-01 -2.37304688e-01\n",
      "  8.30078125e-03 -7.91015625e-02 -9.03320312e-02 -1.52343750e-01\n",
      "  2.17773438e-01  8.05664062e-02  2.89062500e-01  1.68945312e-01\n",
      "  2.03125000e-01  9.91210938e-02 -2.73437500e-01 -5.37109375e-02\n",
      " -3.71093750e-01 -1.07910156e-01  9.17968750e-02  1.92382812e-01\n",
      "  8.44726562e-02 -1.24023438e-01  6.83593750e-02 -2.45117188e-01\n",
      "  1.36718750e-01 -2.03125000e-01  9.17968750e-02 -1.03027344e-01\n",
      " -4.76074219e-03  2.37304688e-01 -1.98242188e-01 -3.37890625e-01\n",
      "  2.88085938e-02 -4.80957031e-02 -7.03125000e-02  7.75146484e-03\n",
      "  5.21850586e-03 -1.92871094e-02 -4.83398438e-02  1.06445312e-01\n",
      "  3.73535156e-02  3.63281250e-01 -8.59375000e-02 -7.37304688e-02\n",
      " -8.34960938e-02  3.78417969e-02 -2.08984375e-01  1.67968750e-01\n",
      " -1.95312500e-01 -1.06811523e-02 -1.19018555e-03 -1.72851562e-01\n",
      "  2.27539062e-01  4.78515625e-02 -3.14453125e-01  9.91210938e-02\n",
      "  3.16406250e-01 -6.68945312e-02  1.45507812e-01  3.41796875e-02\n",
      " -4.37011719e-02  7.66601562e-02 -6.44531250e-02 -1.04003906e-01\n",
      "  1.45507812e-01  6.54296875e-02  4.22363281e-02 -1.73339844e-02\n",
      " -2.30712891e-02  2.42919922e-02 -9.57031250e-02 -2.94921875e-01\n",
      "  1.37695312e-01 -2.79541016e-02  1.18652344e-01 -1.08398438e-01\n",
      "  1.33789062e-01  1.33789062e-01  7.51953125e-02  2.05078125e-01\n",
      "  1.24511719e-01 -6.34765625e-02 -3.73535156e-02 -1.31835938e-01\n",
      "  3.51562500e-02  8.74023438e-02  2.73437500e-01 -5.61523438e-02\n",
      "  1.40625000e-01  6.20117188e-02 -2.34375000e-01 -6.88476562e-02\n",
      "  1.82617188e-01 -2.05078125e-02 -1.10839844e-01 -3.88183594e-02\n",
      "  1.11816406e-01 -1.53320312e-01  2.04101562e-01 -6.22558594e-02\n",
      " -3.11279297e-02  1.40625000e-01 -1.05957031e-01 -2.83203125e-02\n",
      "  5.66406250e-02 -9.08203125e-02 -1.17675781e-01  8.54492188e-03\n",
      " -4.34570312e-02 -4.07714844e-02 -5.54199219e-02  1.83105469e-02\n",
      " -1.20605469e-01  1.83593750e-01  1.58203125e-01 -4.71191406e-02\n",
      " -2.06298828e-02 -1.72119141e-02 -1.20605469e-01 -9.03320312e-02\n",
      " -6.78710938e-02  1.31835938e-01 -1.19628906e-01 -8.44726562e-02]\n"
     ]
    }
   ],
   "source": [
    "print(v_apple.shape)\n",
    "print(v_mango.shape)\n",
    "print(v_apple)"
   ]
  },
  {
   "cell_type": "code",
   "execution_count": 24,
   "metadata": {},
   "outputs": [
    {
     "data": {
      "text/plain": [
       "array([[0.22440825]], dtype=float32)"
      ]
     },
     "execution_count": 24,
     "metadata": {},
     "output_type": "execute_result"
    }
   ],
   "source": [
    "cosine_similarity([v_mango],[v_apple])"
   ]
  },
  {
   "cell_type": "code",
   "execution_count": 25,
   "metadata": {},
   "outputs": [],
   "source": [
    "import numpy as np"
   ]
  },
  {
   "cell_type": "markdown",
   "metadata": {},
   "source": [
    "## 1. Find the Odd One Out"
   ]
  },
  {
   "cell_type": "code",
   "execution_count": 26,
   "metadata": {},
   "outputs": [],
   "source": [
    "def odd_one_out(words):\n",
    "    \"\"\"Accepts a list of words and returns the odd word\"\"\"\n",
    "    \n",
    "    # Generate all word embeddings for the given list\n",
    "    all_word_vectors = [word_vectors[w] for w in words]\n",
    "    avg_vector = np.mean(all_word_vectors,axis=0)\n",
    "    print(avg_vector.shape)\n",
    "    \n",
    "    #Iterate over every word and find similarity\n",
    "    odd_one_out = None\n",
    "    min_similarity = 1.0 #Very high value\n",
    "    \n",
    "    for w in words:\n",
    "        sim = cosine_similarity([word_vectors[w]],[avg_vector])\n",
    "        if sim < min_similarity:\n",
    "            min_similarity = sim\n",
    "            odd_one_out = w\n",
    "    \n",
    "        print(\"Similairy btw %s and avg vector is %.2f\"%(w,sim[0][0]))\n",
    "            \n",
    "    return odd_one_out"
   ]
  },
  {
   "cell_type": "code",
   "execution_count": 31,
   "metadata": {},
   "outputs": [],
   "source": [
    "input_1 = [\"apple\",\"mango\",\"juice\",\"party\",\"orange\"] \n",
    "input_2 = [\"music\",\"dance\",\"sleep\",\"dancer\",\"food\"]        \n",
    "input_3  = [\"match\",\"player\",\"football\",\"cricket\",\"dancer\"]\n",
    "input_4 = [\"india\",\"italy\",\"england\",\"france\",\"germany\"]"
   ]
  },
  {
   "cell_type": "code",
   "execution_count": 28,
   "metadata": {},
   "outputs": [
    {
     "name": "stdout",
     "output_type": "stream",
     "text": [
      "(300,)\n",
      "Similairy btw apple and avg vector is 0.78\n",
      "Similairy btw mango and avg vector is 0.76\n",
      "Similairy btw juice and avg vector is 0.71\n",
      "Similairy btw party and avg vector is 0.36\n",
      "Similairy btw orange and avg vector is 0.65\n"
     ]
    },
    {
     "data": {
      "text/plain": [
       "'party'"
      ]
     },
     "execution_count": 28,
     "metadata": {},
     "output_type": "execute_result"
    }
   ],
   "source": [
    "odd_one_out(input_1) "
   ]
  },
  {
   "cell_type": "code",
   "execution_count": 29,
   "metadata": {},
   "outputs": [
    {
     "name": "stdout",
     "output_type": "stream",
     "text": [
      "(300,)\n",
      "Similairy btw music and avg vector is 0.66\n",
      "Similairy btw dance and avg vector is 0.81\n",
      "Similairy btw sleep and avg vector is 0.51\n",
      "Similairy btw dancer and avg vector is 0.72\n",
      "Similairy btw food and avg vector is 0.52\n"
     ]
    },
    {
     "data": {
      "text/plain": [
       "'sleep'"
      ]
     },
     "execution_count": 29,
     "metadata": {},
     "output_type": "execute_result"
    }
   ],
   "source": [
    "odd_one_out(input_2) "
   ]
  },
  {
   "cell_type": "code",
   "execution_count": 30,
   "metadata": {},
   "outputs": [
    {
     "name": "stdout",
     "output_type": "stream",
     "text": [
      "(300,)\n",
      "Similairy btw match and avg vector is 0.58\n",
      "Similairy btw player and avg vector is 0.68\n",
      "Similairy btw football and avg vector is 0.72\n",
      "Similairy btw cricket and avg vector is 0.70\n",
      "Similairy btw dancer and avg vector is 0.53\n"
     ]
    },
    {
     "data": {
      "text/plain": [
       "'dancer'"
      ]
     },
     "execution_count": 30,
     "metadata": {},
     "output_type": "execute_result"
    }
   ],
   "source": [
    "odd_one_out(input_3)"
   ]
  },
  {
   "cell_type": "code",
   "execution_count": 32,
   "metadata": {},
   "outputs": [
    {
     "name": "stdout",
     "output_type": "stream",
     "text": [
      "(300,)\n",
      "Similairy btw india and avg vector is 0.79\n",
      "Similairy btw italy and avg vector is 0.81\n",
      "Similairy btw england and avg vector is 0.84\n",
      "Similairy btw france and avg vector is 0.83\n",
      "Similairy btw germany and avg vector is 0.83\n"
     ]
    },
    {
     "data": {
      "text/plain": [
       "'india'"
      ]
     },
     "execution_count": 32,
     "metadata": {},
     "output_type": "execute_result"
    }
   ],
   "source": [
    "odd_one_out(input_4)"
   ]
  },
  {
   "cell_type": "markdown",
   "metadata": {},
   "source": [
    "### 2. Word Analogies Task"
   ]
  },
  {
   "cell_type": "markdown",
   "metadata": {},
   "source": [
    "In the word analogy task, we complete the sentence \"a is to b as c is to __\". An example is 'man is to woman as king is to queen' . In detail, we are trying to find a word d, such that the associated word vectors `ea,eb,ec,ed` are related in the following manner: `eb−ea≈ed−ec`. We will measure the similarity between `eb−ea` and `ed−ec` using cosine similarity. \n",
    "\n",
    "![Word2Vec](./images/word2vec.png)"
   ]
  },
  {
   "cell_type": "markdown",
   "metadata": {},
   "source": [
    "`man -> woman :: \tprince -> princess`  \n",
    "`italy -> italian :: \tspain -> spanish`  \n",
    "`india -> delhi :: \tjapan -> tokyo`  \n",
    "`man -> woman :: \tboy -> girl`  \n",
    "`small -> smaller :: \tlarge -> larger`  \n",
    "\n",
    "#### Try it out \n",
    "\n",
    "\n",
    "`man -> coder :: woman -> ______?`\n"
   ]
  },
  {
   "cell_type": "code",
   "execution_count": 33,
   "metadata": {},
   "outputs": [
    {
     "data": {
      "text/plain": [
       "3000000"
      ]
     },
     "execution_count": 33,
     "metadata": {},
     "output_type": "execute_result"
    }
   ],
   "source": [
    "len(word_vectors.index_to_key)"
   ]
  },
  {
   "cell_type": "code",
   "execution_count": 34,
   "metadata": {},
   "outputs": [
    {
     "data": {
      "text/plain": [
       "(300,)"
      ]
     },
     "execution_count": 34,
     "metadata": {},
     "output_type": "execute_result"
    }
   ],
   "source": [
    "word_vectors[\"man\"].shape"
   ]
  },
  {
   "cell_type": "code",
   "execution_count": 35,
   "metadata": {},
   "outputs": [],
   "source": [
    "def predict_word(a,b,c,word_vectors):\n",
    "    \"\"\"Accepts a triad of words, a,b,c and returns d such that a is to b : c is to d\"\"\"\n",
    "    a,b,c = a.lower(),b.lower(),c.lower()\n",
    "    \n",
    "    # similarity |b-a| = |d-c| should be max\n",
    "    max_similarity = -100 \n",
    "    \n",
    "    d = None\n",
    "    \n",
    "    words = list(word_vectors.index_to_key)\n",
    "    \n",
    "    wa,wb,wc = word_vectors[a],word_vectors[b],word_vectors[c]\n",
    "    \n",
    "    #to find d s.t similarity(|b-a|,|d-c|) should be max\n",
    "    \n",
    "    for w in words:\n",
    "        if w in [a,b,c]:\n",
    "            continue\n",
    "        \n",
    "        wv = word_vectors[w]\n",
    "        sim = cosine_similarity([wb-wa],[wv-wc])\n",
    "        \n",
    "        if sim > max_similarity:\n",
    "            max_similarity = sim\n",
    "            d = w\n",
    "            \n",
    "    return d    "
   ]
  },
  {
   "cell_type": "code",
   "execution_count": 59,
   "metadata": {
    "scrolled": true
   },
   "outputs": [
    {
     "ename": "KeyboardInterrupt",
     "evalue": "",
     "output_type": "error",
     "traceback": [
      "\u001b[1;31m---------------------------------------------------------------------------\u001b[0m",
      "\u001b[1;31mKeyboardInterrupt\u001b[0m                         Traceback (most recent call last)",
      "Cell \u001b[1;32mIn[59], line 2\u001b[0m\n\u001b[0;32m      1\u001b[0m triad_2 \u001b[38;5;241m=\u001b[39m (\u001b[38;5;124m\"\u001b[39m\u001b[38;5;124mman\u001b[39m\u001b[38;5;124m\"\u001b[39m,\u001b[38;5;124m\"\u001b[39m\u001b[38;5;124mwoman\u001b[39m\u001b[38;5;124m\"\u001b[39m,\u001b[38;5;124m\"\u001b[39m\u001b[38;5;124mprince\u001b[39m\u001b[38;5;124m\"\u001b[39m)\n\u001b[1;32m----> 2\u001b[0m \u001b[43mpredict_word\u001b[49m\u001b[43m(\u001b[49m\u001b[38;5;241;43m*\u001b[39;49m\u001b[43mtriad_2\u001b[49m\u001b[43m,\u001b[49m\u001b[43mword_vectors\u001b[49m\u001b[43m)\u001b[49m\n",
      "Cell \u001b[1;32mIn[58], line 21\u001b[0m, in \u001b[0;36mpredict_word\u001b[1;34m(a, b, c, word_vectors)\u001b[0m\n\u001b[0;32m     18\u001b[0m     \u001b[38;5;28;01mcontinue\u001b[39;00m\n\u001b[0;32m     20\u001b[0m wv \u001b[38;5;241m=\u001b[39m word_vectors[w]\n\u001b[1;32m---> 21\u001b[0m sim \u001b[38;5;241m=\u001b[39m \u001b[43mcosine_similarity\u001b[49m\u001b[43m(\u001b[49m\u001b[43m[\u001b[49m\u001b[43mwb\u001b[49m\u001b[38;5;241;43m-\u001b[39;49m\u001b[43mwa\u001b[49m\u001b[43m]\u001b[49m\u001b[43m,\u001b[49m\u001b[43m[\u001b[49m\u001b[43mwv\u001b[49m\u001b[38;5;241;43m-\u001b[39;49m\u001b[43mwc\u001b[49m\u001b[43m]\u001b[49m\u001b[43m)\u001b[49m\n\u001b[0;32m     23\u001b[0m \u001b[38;5;28;01mif\u001b[39;00m sim \u001b[38;5;241m>\u001b[39m max_similarity:\n\u001b[0;32m     24\u001b[0m     max_similarity \u001b[38;5;241m=\u001b[39m sim\n",
      "File \u001b[1;32m~\\AppData\\Local\\Programs\\Python\\Python312\\Lib\\site-packages\\sklearn\\utils\\_param_validation.py:216\u001b[0m, in \u001b[0;36mvalidate_params.<locals>.decorator.<locals>.wrapper\u001b[1;34m(*args, **kwargs)\u001b[0m\n\u001b[0;32m    210\u001b[0m \u001b[38;5;28;01mtry\u001b[39;00m:\n\u001b[0;32m    211\u001b[0m     \u001b[38;5;28;01mwith\u001b[39;00m config_context(\n\u001b[0;32m    212\u001b[0m         skip_parameter_validation\u001b[38;5;241m=\u001b[39m(\n\u001b[0;32m    213\u001b[0m             prefer_skip_nested_validation \u001b[38;5;129;01mor\u001b[39;00m global_skip_validation\n\u001b[0;32m    214\u001b[0m         )\n\u001b[0;32m    215\u001b[0m     ):\n\u001b[1;32m--> 216\u001b[0m         \u001b[38;5;28;01mreturn\u001b[39;00m \u001b[43mfunc\u001b[49m\u001b[43m(\u001b[49m\u001b[38;5;241;43m*\u001b[39;49m\u001b[43margs\u001b[49m\u001b[43m,\u001b[49m\u001b[43m \u001b[49m\u001b[38;5;241;43m*\u001b[39;49m\u001b[38;5;241;43m*\u001b[39;49m\u001b[43mkwargs\u001b[49m\u001b[43m)\u001b[49m\n\u001b[0;32m    217\u001b[0m \u001b[38;5;28;01mexcept\u001b[39;00m InvalidParameterError \u001b[38;5;28;01mas\u001b[39;00m e:\n\u001b[0;32m    218\u001b[0m     \u001b[38;5;66;03m# When the function is just a wrapper around an estimator, we allow\u001b[39;00m\n\u001b[0;32m    219\u001b[0m     \u001b[38;5;66;03m# the function to delegate validation to the estimator, but we replace\u001b[39;00m\n\u001b[0;32m    220\u001b[0m     \u001b[38;5;66;03m# the name of the estimator by the name of the function in the error\u001b[39;00m\n\u001b[0;32m    221\u001b[0m     \u001b[38;5;66;03m# message to avoid confusion.\u001b[39;00m\n\u001b[0;32m    222\u001b[0m     msg \u001b[38;5;241m=\u001b[39m re\u001b[38;5;241m.\u001b[39msub(\n\u001b[0;32m    223\u001b[0m         \u001b[38;5;124mr\u001b[39m\u001b[38;5;124m\"\u001b[39m\u001b[38;5;124mparameter of \u001b[39m\u001b[38;5;124m\\\u001b[39m\u001b[38;5;124mw+ must be\u001b[39m\u001b[38;5;124m\"\u001b[39m,\n\u001b[0;32m    224\u001b[0m         \u001b[38;5;124mf\u001b[39m\u001b[38;5;124m\"\u001b[39m\u001b[38;5;124mparameter of \u001b[39m\u001b[38;5;132;01m{\u001b[39;00mfunc\u001b[38;5;241m.\u001b[39m\u001b[38;5;18m__qualname__\u001b[39m\u001b[38;5;132;01m}\u001b[39;00m\u001b[38;5;124m must be\u001b[39m\u001b[38;5;124m\"\u001b[39m,\n\u001b[0;32m    225\u001b[0m         \u001b[38;5;28mstr\u001b[39m(e),\n\u001b[0;32m    226\u001b[0m     )\n",
      "File \u001b[1;32m~\\AppData\\Local\\Programs\\Python\\Python312\\Lib\\site-packages\\sklearn\\metrics\\pairwise.py:1743\u001b[0m, in \u001b[0;36mcosine_similarity\u001b[1;34m(X, Y, dense_output)\u001b[0m\n\u001b[0;32m   1739\u001b[0m \u001b[38;5;66;03m# to avoid recursive import\u001b[39;00m\n\u001b[0;32m   1741\u001b[0m X, Y \u001b[38;5;241m=\u001b[39m check_pairwise_arrays(X, Y)\n\u001b[1;32m-> 1743\u001b[0m X_normalized \u001b[38;5;241m=\u001b[39m \u001b[43mnormalize\u001b[49m\u001b[43m(\u001b[49m\u001b[43mX\u001b[49m\u001b[43m,\u001b[49m\u001b[43m \u001b[49m\u001b[43mcopy\u001b[49m\u001b[38;5;241;43m=\u001b[39;49m\u001b[38;5;28;43;01mTrue\u001b[39;49;00m\u001b[43m)\u001b[49m\n\u001b[0;32m   1744\u001b[0m \u001b[38;5;28;01mif\u001b[39;00m X \u001b[38;5;129;01mis\u001b[39;00m Y:\n\u001b[0;32m   1745\u001b[0m     Y_normalized \u001b[38;5;241m=\u001b[39m X_normalized\n",
      "File \u001b[1;32m~\\AppData\\Local\\Programs\\Python\\Python312\\Lib\\site-packages\\sklearn\\utils\\_param_validation.py:189\u001b[0m, in \u001b[0;36mvalidate_params.<locals>.decorator.<locals>.wrapper\u001b[1;34m(*args, **kwargs)\u001b[0m\n\u001b[0;32m    187\u001b[0m global_skip_validation \u001b[38;5;241m=\u001b[39m get_config()[\u001b[38;5;124m\"\u001b[39m\u001b[38;5;124mskip_parameter_validation\u001b[39m\u001b[38;5;124m\"\u001b[39m]\n\u001b[0;32m    188\u001b[0m \u001b[38;5;28;01mif\u001b[39;00m global_skip_validation:\n\u001b[1;32m--> 189\u001b[0m     \u001b[38;5;28;01mreturn\u001b[39;00m \u001b[43mfunc\u001b[49m\u001b[43m(\u001b[49m\u001b[38;5;241;43m*\u001b[39;49m\u001b[43margs\u001b[49m\u001b[43m,\u001b[49m\u001b[43m \u001b[49m\u001b[38;5;241;43m*\u001b[39;49m\u001b[38;5;241;43m*\u001b[39;49m\u001b[43mkwargs\u001b[49m\u001b[43m)\u001b[49m\n\u001b[0;32m    191\u001b[0m func_sig \u001b[38;5;241m=\u001b[39m signature(func)\n\u001b[0;32m    193\u001b[0m \u001b[38;5;66;03m# Map *args/**kwargs to the function signature\u001b[39;00m\n",
      "File \u001b[1;32m~\\AppData\\Local\\Programs\\Python\\Python312\\Lib\\site-packages\\sklearn\\preprocessing\\_data.py:1962\u001b[0m, in \u001b[0;36mnormalize\u001b[1;34m(X, norm, axis, copy, return_norm)\u001b[0m\n\u001b[0;32m   1958\u001b[0m     sparse_format \u001b[38;5;241m=\u001b[39m \u001b[38;5;124m\"\u001b[39m\u001b[38;5;124mcsr\u001b[39m\u001b[38;5;124m\"\u001b[39m\n\u001b[0;32m   1960\u001b[0m xp, _ \u001b[38;5;241m=\u001b[39m get_namespace(X)\n\u001b[1;32m-> 1962\u001b[0m X \u001b[38;5;241m=\u001b[39m \u001b[43mcheck_array\u001b[49m\u001b[43m(\u001b[49m\n\u001b[0;32m   1963\u001b[0m \u001b[43m    \u001b[49m\u001b[43mX\u001b[49m\u001b[43m,\u001b[49m\n\u001b[0;32m   1964\u001b[0m \u001b[43m    \u001b[49m\u001b[43maccept_sparse\u001b[49m\u001b[38;5;241;43m=\u001b[39;49m\u001b[43msparse_format\u001b[49m\u001b[43m,\u001b[49m\n\u001b[0;32m   1965\u001b[0m \u001b[43m    \u001b[49m\u001b[43mcopy\u001b[49m\u001b[38;5;241;43m=\u001b[39;49m\u001b[43mcopy\u001b[49m\u001b[43m,\u001b[49m\n\u001b[0;32m   1966\u001b[0m \u001b[43m    \u001b[49m\u001b[43mestimator\u001b[49m\u001b[38;5;241;43m=\u001b[39;49m\u001b[38;5;124;43m\"\u001b[39;49m\u001b[38;5;124;43mthe normalize function\u001b[39;49m\u001b[38;5;124;43m\"\u001b[39;49m\u001b[43m,\u001b[49m\n\u001b[0;32m   1967\u001b[0m \u001b[43m    \u001b[49m\u001b[43mdtype\u001b[49m\u001b[38;5;241;43m=\u001b[39;49m\u001b[43m_array_api\u001b[49m\u001b[38;5;241;43m.\u001b[39;49m\u001b[43msupported_float_dtypes\u001b[49m\u001b[43m(\u001b[49m\u001b[43mxp\u001b[49m\u001b[43m)\u001b[49m\u001b[43m,\u001b[49m\n\u001b[0;32m   1968\u001b[0m \u001b[43m    \u001b[49m\u001b[43mforce_writeable\u001b[49m\u001b[38;5;241;43m=\u001b[39;49m\u001b[38;5;28;43;01mTrue\u001b[39;49;00m\u001b[43m,\u001b[49m\n\u001b[0;32m   1969\u001b[0m \u001b[43m\u001b[49m\u001b[43m)\u001b[49m\n\u001b[0;32m   1970\u001b[0m \u001b[38;5;28;01mif\u001b[39;00m axis \u001b[38;5;241m==\u001b[39m \u001b[38;5;241m0\u001b[39m:\n\u001b[0;32m   1971\u001b[0m     X \u001b[38;5;241m=\u001b[39m X\u001b[38;5;241m.\u001b[39mT\n",
      "File \u001b[1;32m~\\AppData\\Local\\Programs\\Python\\Python312\\Lib\\site-packages\\sklearn\\utils\\validation.py:1118\u001b[0m, in \u001b[0;36mcheck_array\u001b[1;34m(array, accept_sparse, accept_large_sparse, dtype, order, copy, force_writeable, force_all_finite, ensure_all_finite, ensure_non_negative, ensure_2d, allow_nd, ensure_min_samples, ensure_min_features, estimator, input_name)\u001b[0m\n\u001b[0;32m   1115\u001b[0m \u001b[38;5;28;01mif\u001b[39;00m _is_numpy_namespace(xp):\n\u001b[0;32m   1116\u001b[0m     \u001b[38;5;66;03m# only make a copy if `array` and `array_orig` may share memory`\u001b[39;00m\n\u001b[0;32m   1117\u001b[0m     \u001b[38;5;28;01mif\u001b[39;00m np\u001b[38;5;241m.\u001b[39mmay_share_memory(array, array_orig):\n\u001b[1;32m-> 1118\u001b[0m         array \u001b[38;5;241m=\u001b[39m \u001b[43m_asarray_with_order\u001b[49m\u001b[43m(\u001b[49m\n\u001b[0;32m   1119\u001b[0m \u001b[43m            \u001b[49m\u001b[43marray\u001b[49m\u001b[43m,\u001b[49m\u001b[43m \u001b[49m\u001b[43mdtype\u001b[49m\u001b[38;5;241;43m=\u001b[39;49m\u001b[43mdtype\u001b[49m\u001b[43m,\u001b[49m\u001b[43m \u001b[49m\u001b[43morder\u001b[49m\u001b[38;5;241;43m=\u001b[39;49m\u001b[43morder\u001b[49m\u001b[43m,\u001b[49m\u001b[43m \u001b[49m\u001b[43mcopy\u001b[49m\u001b[38;5;241;43m=\u001b[39;49m\u001b[38;5;28;43;01mTrue\u001b[39;49;00m\u001b[43m,\u001b[49m\u001b[43m \u001b[49m\u001b[43mxp\u001b[49m\u001b[38;5;241;43m=\u001b[39;49m\u001b[43mxp\u001b[49m\n\u001b[0;32m   1120\u001b[0m \u001b[43m        \u001b[49m\u001b[43m)\u001b[49m\n\u001b[0;32m   1121\u001b[0m \u001b[38;5;28;01melse\u001b[39;00m:\n\u001b[0;32m   1122\u001b[0m     \u001b[38;5;66;03m# always make a copy for non-numpy arrays\u001b[39;00m\n\u001b[0;32m   1123\u001b[0m     array \u001b[38;5;241m=\u001b[39m _asarray_with_order(\n\u001b[0;32m   1124\u001b[0m         array, dtype\u001b[38;5;241m=\u001b[39mdtype, order\u001b[38;5;241m=\u001b[39morder, copy\u001b[38;5;241m=\u001b[39m\u001b[38;5;28;01mTrue\u001b[39;00m, xp\u001b[38;5;241m=\u001b[39mxp\n\u001b[0;32m   1125\u001b[0m     )\n",
      "File \u001b[1;32m~\\AppData\\Local\\Programs\\Python\\Python312\\Lib\\site-packages\\sklearn\\utils\\_array_api.py:830\u001b[0m, in \u001b[0;36m_asarray_with_order\u001b[1;34m(array, dtype, order, copy, xp, device)\u001b[0m\n\u001b[0;32m    827\u001b[0m \u001b[38;5;28;01mif\u001b[39;00m _is_numpy_namespace(xp):\n\u001b[0;32m    828\u001b[0m     \u001b[38;5;66;03m# Use NumPy API to support order\u001b[39;00m\n\u001b[0;32m    829\u001b[0m     \u001b[38;5;28;01mif\u001b[39;00m copy \u001b[38;5;129;01mis\u001b[39;00m \u001b[38;5;28;01mTrue\u001b[39;00m:\n\u001b[1;32m--> 830\u001b[0m         array \u001b[38;5;241m=\u001b[39m \u001b[43mnumpy\u001b[49m\u001b[38;5;241;43m.\u001b[39;49m\u001b[43marray\u001b[49m\u001b[43m(\u001b[49m\u001b[43marray\u001b[49m\u001b[43m,\u001b[49m\u001b[43m \u001b[49m\u001b[43morder\u001b[49m\u001b[38;5;241;43m=\u001b[39;49m\u001b[43morder\u001b[49m\u001b[43m,\u001b[49m\u001b[43m \u001b[49m\u001b[43mdtype\u001b[49m\u001b[38;5;241;43m=\u001b[39;49m\u001b[43mdtype\u001b[49m\u001b[43m)\u001b[49m\n\u001b[0;32m    831\u001b[0m     \u001b[38;5;28;01melse\u001b[39;00m:\n\u001b[0;32m    832\u001b[0m         array \u001b[38;5;241m=\u001b[39m numpy\u001b[38;5;241m.\u001b[39masarray(array, order\u001b[38;5;241m=\u001b[39morder, dtype\u001b[38;5;241m=\u001b[39mdtype)\n",
      "\u001b[1;31mKeyboardInterrupt\u001b[0m: "
     ]
    }
   ],
   "source": [
    "triad_2 = (\"man\",\"woman\",\"prince\")\n",
    "predict_word(*triad_2,word_vectors)\n"
   ]
  },
  {
   "cell_type": "markdown",
   "metadata": {},
   "source": [
    "## Using the Most Similar Method"
   ]
  },
  {
   "cell_type": "code",
   "execution_count": 40,
   "metadata": {},
   "outputs": [
    {
     "data": {
      "text/plain": [
       "[('Prince', 0.5361544489860535),\n",
       " ('princess', 0.40959128737449646),\n",
       " ('Frederik_IX', 0.4037315249443054),\n",
       " ('Tupou_V.', 0.40252795815467834),\n",
       " ('KIng', 0.3937373459339142),\n",
       " ('born_Cassius_Marcellus', 0.38667622208595276),\n",
       " ('Legend_Zelda_Twilight', 0.3862988352775574),\n",
       " ('prince', 0.3833954632282257),\n",
       " ('Lucy_Lawless_Xena_Warrior', 0.3831879794597626),\n",
       " ('Maha_Chakri_Sirindhorn', 0.38202932476997375)]"
      ]
     },
     "execution_count": 40,
     "metadata": {},
     "output_type": "execute_result"
    }
   ],
   "source": [
    "word_vectors.most_similar(positive=['King', 'Princess'], negative=['Queen'], topn=10)"
   ]
  },
  {
   "cell_type": "markdown",
   "metadata": {},
   "source": [
    "## 3. Training Your Own Word2Vec Model"
   ]
  },
  {
   "cell_type": "markdown",
   "metadata": {},
   "source": [
    "Word2Vec model can learn embeddings from any text corpus!\n",
    "- Continuous Bag of Words Model\n",
    "- Skip Gram Model\n",
    "\n",
    "`Algorithm looks at window of target word(Y) to provide context word(X), the model is trained on (X,Y) pairs in a superwised manner.` The algorithm was developed by Tomas Mikolov."
   ]
  },
  {
   "cell_type": "markdown",
   "metadata": {},
   "source": [
    "#### Data Preparation\n"
   ]
  },
  {
   "cell_type": "markdown",
   "metadata": {},
   "source": [
    "\n",
    "- Each sentence must be tokenized, into a list of words.\n",
    "\n",
    "- The sentences can be text loaded into memory once,\n",
    "or we can build a data pipeline which iteratively feeds data to the model.\n"
   ]
  },
  {
   "cell_type": "code",
   "execution_count": 41,
   "metadata": {},
   "outputs": [],
   "source": [
    "import nltk\n",
    "from nltk.corpus import stopwords"
   ]
  },
  {
   "cell_type": "code",
   "execution_count": 42,
   "metadata": {},
   "outputs": [],
   "source": [
    "stopw  = set(stopwords.words('english'))"
   ]
  },
  {
   "cell_type": "code",
   "execution_count": 102,
   "metadata": {},
   "outputs": [],
   "source": [
    "## Read the file \n",
    "def readFile(file): \n",
    "    f = open(file,'r',encoding='utf-8')\n",
    "    text = f.read()\n",
    "    sentences = nltk.sent_tokenize(text)\n",
    "    \n",
    "    data = []\n",
    "    for sent in sentences:\n",
    "        words =  nltk.word_tokenize(sent)\n",
    "        words = [w.lower() for w in words if len(w)>2 and w not in stopw]\n",
    "        data.append(words)\n",
    "        \n",
    "    return data\n",
    "\n",
    "text = readFile('bollywood.txt')"
   ]
  },
  {
   "cell_type": "code",
   "execution_count": 103,
   "metadata": {},
   "outputs": [
    {
     "name": "stdout",
     "output_type": "stream",
     "text": [
      "[['deepika', 'padukone', 'ranveer', 'singh', 'wedding', 'one', 'biggest', 'bollywood', 'events', 'happened', '2018'], ['the', 'deepika', 'ranveer', 'celebrations', 'hooked', 'phones', 'waiting', 'come', 'also', 'gave', 'enough', 'reason', 'believe', 'stylish', 'two', 'couple'], ['from', 'airport', 'looks', 'reception', 'parties', 'everything', 'entire', 'timeline', 'deepika', 'ranveer', 'wedding', 'style', 'file'], ['not', 'ambanis', 'deepika', 'ranveer', 'priyanka', 'nick'], ['man', 'proves', 'wedding', 'the', 'year', 'this', 'year', 'year', 'big', 'fat', 'lavish', 'extravagant', 'weddings'], ['from', 'isha', 'ambani', 'anand', 'piramal', 'deepika', 'padukone', 'ranveer', 'singh', 'priyanka', 'chopra', 'nick', 'jonas', 'kapil', 'sharma', 'ginni', 'chatrath', '2018', 'saw', 'many', 'grand', 'weddings'], ['but', 'nothing', 'beats', 'man', 'wedding', 'the', 'year', 'award', 'social', 'media'], ['priyanka', 'also', 'shared', 'video', 'featuring', 'nick', 'jonaswas', 'also', 'celebrating', 'the', 'family', 'first', 'celebrated', 'christmas', 'london', 'pictures', 'priyanka', 'chopra', 'nick', 'jonas', 'new', 'year', 'celebrations', 'outstanding'], ['priyanka', 'chopra', 'nick', 'shared', 'glimpses', 'celebration', 'verbier', 'switzerland'], ['priyanka', 'chopra', 'married', 'nick', 'jonas', 'december', 'three', 'wedding', 'receptions', 'one', 'new', 'delhi', 'two', 'mumbai'], ['this', 'year', 'year', 'big', 'fat', 'lavish', 'extravagant', 'weddings'], ['from', 'isha', 'ambani', 'anand', 'piramal', 'deepika', 'padukone', 'ranveer', 'singh', 'priyanka', 'chopra', 'nick', 'jonas', 'kapil', 'sharma', 'ginni', 'chatrath', '2018', 'saw', 'many', 'grand', 'weddings'], ['but', 'nothing', 'beats', 'man', 'wedding', 'the', 'year', 'award', 'social', 'media'], ['kapil', 'sharma', 'ginni', 'chatrath', 'jaggo', 'night', 'december', 'made', 'even', 'special', 'industry', 'friends'], ['kapil', 'sharma', 'ginni', 'chatrath', 'friends', 'long', 'time'], ['there', 'virat', 'side', 'actress', 'wife', 'anushka', 'sharma', 'pleasure', 'audience'], ['while', 'couple', 'rang', 'new', 'year', 'style', 'morning', 'saw', 'virat', 'dress', 'squad', 'attire', 'anushka', 'pink', 'salwar', 'suit'], ['isha', 'ambani', 'married', 'anand', 'piramal', 'year']]\n"
     ]
    }
   ],
   "source": [
    "print(text)"
   ]
  },
  {
   "cell_type": "code",
   "execution_count": 104,
   "metadata": {},
   "outputs": [],
   "source": [
    "from gensim.models import Word2Vec"
   ]
  },
  {
   "cell_type": "code",
   "execution_count": 105,
   "metadata": {},
   "outputs": [],
   "source": [
    "model = Word2Vec(text,vector_size=100,window=5,min_count=1,epochs = 50)"
   ]
  },
  {
   "cell_type": "code",
   "execution_count": 106,
   "metadata": {},
   "outputs": [
    {
     "name": "stdout",
     "output_type": "stream",
     "text": [
      "Word2Vec<vocab=116, vector_size=100, alpha=0.025>\n"
     ]
    }
   ],
   "source": [
    "print(model)"
   ]
  },
  {
   "cell_type": "code",
   "execution_count": 107,
   "metadata": {},
   "outputs": [],
   "source": [
    "words = list(model.wv.index_to_key)"
   ]
  },
  {
   "cell_type": "code",
   "execution_count": 108,
   "metadata": {},
   "outputs": [
    {
     "name": "stdout",
     "output_type": "stream",
     "text": [
      "['year', 'priyanka', 'nick', 'deepika', 'ranveer', 'wedding', 'the', 'chopra', 'sharma', 'ginni', 'weddings', 'jonas', 'kapil', 'chatrath', 'anand', '2018', 'isha', 'ambani', 'piramal', 'saw', 'from', 'new', 'also', 'man', 'singh', 'padukone', 'virat', 'many', 'grand', 'but', 'nothing', 'beats', 'award', 'media', 'shared', 'anushka', 'style', 'couple', 'two', 'social', 'big', 'fat', 'celebrations', 'this', 'december', 'married', 'friends', 'lavish', 'extravagant', 'one', 'entire', 'parties', 'everything', 'timeline', 'file', 'not', 'ambanis', 'pink', 'events', 'happened', 'reception', 'bollywood', 'squad', 'hooked', 'phones', 'waiting', 'come', 'biggest', 'gave', 'enough', 'reason', 'believe', 'stylish', 'attire', 'dress', 'looks', 'airport', 'side', 'morning', 'jaggo', 'celebration', 'verbier', 'switzerland', 'three', 'receptions', 'delhi', 'mumbai', 'night', 'proves', 'made', 'even', 'special', 'industry', 'long', 'time', 'there', 'glimpses', 'outstanding', 'pictures', 'london', 'rang', 'while', 'audience', 'pleasure', 'wife', 'actress', 'salwar', 'video', 'featuring', 'jonaswas', 'celebrating', 'family', 'first', 'celebrated', 'christmas', 'suit']\n"
     ]
    }
   ],
   "source": [
    "print(words)"
   ]
  },
  {
   "cell_type": "code",
   "execution_count": 109,
   "metadata": {},
   "outputs": [
    {
     "name": "stdout",
     "output_type": "stream",
     "text": [
      "[-6.1195255e-03  1.3705674e-02 -8.2049303e-04 -3.2485421e-03\n",
      "  5.8649960e-03 -1.2135876e-02  5.8262823e-03  1.5975872e-02\n",
      "  3.3050554e-03 -1.2976194e-02  7.4676322e-03 -1.1227435e-03\n",
      "  4.1530472e-03 -3.3622871e-03  1.1030754e-02 -4.5800433e-03\n",
      "  9.2539135e-03 -8.1170648e-03 -9.2670880e-03 -2.3281442e-03\n",
      "  4.1571199e-03 -1.6183725e-03  1.0545869e-02  6.5447600e-03\n",
      " -1.0894571e-02  4.5316233e-03  2.0998486e-03  2.8855398e-03\n",
      "  7.6868426e-04 -4.1527284e-04  3.1913300e-03 -3.6544814e-03\n",
      " -4.9056611e-03 -8.1394501e-03  1.8938819e-03  1.2299319e-02\n",
      "  1.0550937e-02 -9.2515144e-03 -9.8368265e-03  3.7860209e-03\n",
      "  4.2752610e-03  2.7769373e-03  4.2373897e-03 -3.2371429e-03\n",
      "  1.1592001e-02  2.7151450e-03 -2.9872106e-05 -4.8663816e-03\n",
      " -5.2060344e-04 -2.1685491e-04  6.2137353e-03 -3.4070767e-03\n",
      " -9.3675107e-03 -1.1387397e-02 -5.0805928e-03  2.2291678e-03\n",
      "  2.8788168e-03  9.1790752e-03  1.7684097e-03 -4.9079638e-03\n",
      "  2.4599792e-03  4.8102099e-03  9.0326630e-03  3.7278875e-04\n",
      "  3.0094690e-03  2.0801213e-04  1.9787096e-03  1.3602303e-02\n",
      " -9.2902202e-03 -4.0118392e-03  3.8987510e-03 -2.3432360e-03\n",
      "  2.1813596e-03  1.1055697e-02  2.5661308e-03 -2.4934411e-03\n",
      " -6.6501386e-03  9.3184887e-03 -7.0440620e-03  2.2866002e-03\n",
      " -7.1337074e-03  6.1598127e-03 -7.0638163e-04  8.2449857e-03\n",
      " -2.9919234e-03 -5.0241472e-03  1.7049078e-02  1.0553549e-02\n",
      "  1.6499077e-03 -8.9944554e-03  8.0243291e-05  2.0996295e-03\n",
      "  3.7568883e-04 -9.9204399e-04  1.4197554e-02  1.0471581e-03\n",
      "  7.5036841e-03 -7.2437553e-03 -2.0007154e-03 -6.1239325e-03]\n"
     ]
    }
   ],
   "source": [
    "print(model.wv[\"deepika\"])"
   ]
  },
  {
   "cell_type": "code",
   "execution_count": 110,
   "metadata": {},
   "outputs": [],
   "source": [
    "#model.wv.vocab"
   ]
  },
  {
   "cell_type": "code",
   "execution_count": 111,
   "metadata": {},
   "outputs": [],
   "source": [
    "import numpy as np"
   ]
  },
  {
   "cell_type": "code",
   "execution_count": 112,
   "metadata": {},
   "outputs": [
    {
     "name": "stdout",
     "output_type": "stream",
     "text": [
      "(116, 100)\n",
      "<built-in function all>\n"
     ]
    }
   ],
   "source": [
    "all_vectors = [model.wv[w] for w in model.wv.index_to_key]\n",
    "all_vectors = np.array(all_vectors)\n",
    "print(all_vectors.shape)\n",
    "print(all)"
   ]
  },
  {
   "cell_type": "code",
   "execution_count": 113,
   "metadata": {},
   "outputs": [
    {
     "name": "stdout",
     "output_type": "stream",
     "text": [
      "[t-SNE] Computing 115 nearest neighbors...\n",
      "[t-SNE] Indexed 116 samples in 0.000s...\n",
      "[t-SNE] Computed neighbors for 116 samples in 0.009s...\n",
      "[t-SNE] Computed conditional probabilities for sample 116 / 116\n",
      "[t-SNE] Mean sigma: 0.021803\n",
      "[t-SNE] KL divergence after 250 iterations with early exaggeration: 57.026875\n",
      "[t-SNE] KL divergence after 300 iterations: 0.906286\n"
     ]
    },
    {
     "name": "stderr",
     "output_type": "stream",
     "text": [
      "C:\\Users\\abhis\\miniconda3\\Lib\\site-packages\\sklearn\\manifold\\_t_sne.py:1164: FutureWarning: 'n_iter' was renamed to 'max_iter' in version 1.5 and will be removed in 1.7.\n",
      "  warnings.warn(\n"
     ]
    }
   ],
   "source": [
    "from sklearn.manifold import TSNE\n",
    "tsne = TSNE(n_components=2, verbose=1, perplexity=40, n_iter=300,random_state=1)\n",
    "#tsne = TSNE(n_components=2, verbose=1, perplexity=40, n_iter=300,random_state=1)\n",
    "# tsne = TSNE(n_components=2, verbose=1,n_iter=1000,random_state=1)\n",
    "\n",
    "tsne_results = tsne.fit_transform(all_vectors)"
   ]
  },
  {
   "cell_type": "code",
   "execution_count": 114,
   "metadata": {
    "scrolled": true
   },
   "outputs": [
    {
     "name": "stdout",
     "output_type": "stream",
     "text": [
      "[[-4.3364978e-01  3.3488700e+00]\n",
      " [-8.4030282e-01  4.6339617e+00]\n",
      " [-6.1423081e-01  2.0981445e+00]\n",
      " [ 3.7273228e+00 -3.1767673e+00]\n",
      " [-1.1847148e+00  8.6162430e-01]\n",
      " [ 2.1546302e+00 -5.0088210e+00]\n",
      " [ 4.5947272e-01  1.5157378e+00]\n",
      " [-1.7407976e+00  1.0382814e+00]\n",
      " [ 2.4023504e+00 -2.9866459e+00]\n",
      " [ 3.2569900e+00  6.6284055e-01]\n",
      " [-3.9071372e+00 -5.6180060e-01]\n",
      " [-9.3038714e-01  2.2437901e+00]\n",
      " [ 9.1927552e-01 -2.1353767e+00]\n",
      " [-2.2159073e+00 -2.0113537e-01]\n",
      " [-1.0934738e+00 -1.5562400e+00]\n",
      " [ 3.4010413e-01 -1.5359143e+00]\n",
      " [ 2.5666444e+00  2.7879467e+00]\n",
      " [-1.8404040e+00 -1.1639469e+00]\n",
      " [-1.2586731e-01  4.3044186e+00]\n",
      " [-1.8151904e+00  1.1870394e+00]\n",
      " [ 1.8176522e+00 -1.2841055e+00]\n",
      " [-1.3635510e+00  2.5081999e+00]\n",
      " [-1.2609626e+00  4.4531021e+00]\n",
      " [ 8.4278363e-01 -4.1225524e+00]\n",
      " [-7.1630764e-01 -4.9536777e+00]\n",
      " [-4.2479891e-01  4.2496398e-01]\n",
      " [-9.3889201e-01  5.3661126e-01]\n",
      " [ 3.0379686e+00 -2.2157519e+00]\n",
      " [ 5.5106854e-01  2.0423110e+00]\n",
      " [ 2.2308068e+00  5.2219504e-01]\n",
      " [ 1.8015990e+00 -1.4554677e+00]\n",
      " [-1.9734339e+00 -3.8092620e+00]\n",
      " [ 1.0872502e+00 -2.3634548e+00]\n",
      " [-2.4619377e+00  2.7554765e+00]\n",
      " [ 5.2317172e-01  7.4820888e-01]\n",
      " [-3.9973795e+00  8.8140500e-01]\n",
      " [-2.8587499e+00 -1.5363820e+00]\n",
      " [ 1.4317366e+00 -1.2046319e+00]\n",
      " [ 1.3045765e+00  3.0713835e+00]\n",
      " [-1.3614445e+00 -3.0688393e-01]\n",
      " [ 1.1671705e+00 -3.2756453e+00]\n",
      " [ 1.9206510e+00  1.4773082e+00]\n",
      " [ 1.8509007e+00 -8.5792416e-01]\n",
      " [-4.2496505e+00 -8.5871506e-01]\n",
      " [ 4.1402159e+00  1.3024250e+00]\n",
      " [-2.9634969e+00  8.6863077e-01]\n",
      " [ 3.2891424e+00 -1.3452324e+00]\n",
      " [ 1.3744776e+00  1.5788462e+00]\n",
      " [-3.0406063e+00  9.9915445e-01]\n",
      " [-2.5457880e+00 -2.2831686e+00]\n",
      " [-4.4247379e+00 -2.0452654e+00]\n",
      " [ 4.9752345e+00  3.2226402e-01]\n",
      " [ 2.3532181e+00 -3.3804369e+00]\n",
      " [ 3.8167768e+00 -3.0551456e-02]\n",
      " [ 3.0507176e+00  2.3299503e+00]\n",
      " [-2.7448943e+00 -1.9407196e-01]\n",
      " [ 3.4593623e+00  3.7531505e+00]\n",
      " [ 7.4023515e-01 -7.2309536e-01]\n",
      " [ 3.5393689e+00 -1.6452832e+00]\n",
      " [ 4.7264290e+00  2.1069531e+00]\n",
      " [-3.3778725e+00  2.2654712e+00]\n",
      " [-2.9543335e+00 -2.6519868e+00]\n",
      " [-2.1564996e-01 -1.5954002e+00]\n",
      " [ 8.6966366e-02  5.6159243e-02]\n",
      " [ 2.3411927e+00  1.4720235e+00]\n",
      " [-7.8954864e-01  3.1259925e+00]\n",
      " [-1.6637388e+00  3.2528279e+00]\n",
      " [-1.4261951e+00 -2.4340093e+00]\n",
      " [-6.8287259e-01  2.1216550e+00]\n",
      " [-2.0833490e+00  1.9711170e-01]\n",
      " [ 3.3206348e+00 -7.9203784e-01]\n",
      " [-3.2684359e-01 -3.5890040e+00]\n",
      " [ 2.0818121e+00  3.3715069e-03]\n",
      " [ 2.0771599e+00 -4.6089659e+00]\n",
      " [ 2.3763408e-01 -3.0475571e+00]\n",
      " [ 1.6393981e+00  4.3044095e+00]\n",
      " [ 2.8720272e+00 -6.2006336e-01]\n",
      " [ 8.0590695e-04  1.4291525e-01]\n",
      " [ 9.4467998e-01 -5.3139877e+00]\n",
      " [-8.7451702e-01 -1.9466169e+00]\n",
      " [-2.6373243e+00  1.4546156e+00]\n",
      " [ 2.3410997e+00 -3.7096515e-01]\n",
      " [ 1.8235478e+00  2.9614332e+00]\n",
      " [ 2.4999869e+00 -1.5124843e+00]\n",
      " [ 1.3661013e+00  4.3837929e-01]\n",
      " [ 5.2706766e-01  5.1944554e-01]\n",
      " [-7.7880448e-01 -8.8285029e-01]\n",
      " [ 1.0526063e+00 -3.8395979e-02]\n",
      " [ 1.6128660e+00  1.8873507e+00]\n",
      " [-6.8759179e-01 -3.5463333e+00]\n",
      " [-1.1944537e+00 -1.9742045e+00]\n",
      " [ 6.2028170e-01 -1.2533647e+00]\n",
      " [ 1.0205264e+00 -2.9015169e+00]\n",
      " [ 3.8272576e+00 -4.8816794e-01]\n",
      " [ 1.4317877e+00 -2.0572497e-02]\n",
      " [ 9.5935029e-01  1.6454514e-02]\n",
      " [ 3.0144503e+00  7.3523915e-01]\n",
      " [ 3.1673682e+00  2.2521582e+00]\n",
      " [ 3.1353509e+00 -2.7777474e+00]\n",
      " [-1.7628258e+00  2.3107469e+00]\n",
      " [-1.2041615e+00  6.5594532e-02]\n",
      " [ 1.2981095e+00  3.5673268e+00]\n",
      " [ 4.5416503e+00 -1.9403050e+00]\n",
      " [-1.8055967e+00 -2.5710707e+00]\n",
      " [ 2.1952797e-01 -1.2974027e+00]\n",
      " [-4.1331463e+00 -3.2592094e+00]\n",
      " [-1.2083904e+00 -6.4330381e-01]\n",
      " [ 2.1944664e+00  2.6536709e-01]\n",
      " [ 9.6228194e-01  1.1668962e+00]\n",
      " [-1.3118685e+00  3.4549043e+00]\n",
      " [ 3.7858689e+00  1.7824579e+00]\n",
      " [ 1.1968801e+00 -3.1806010e-01]\n",
      " [ 9.0056686e-03 -3.2656329e+00]\n",
      " [-5.1089031e-01  1.3524436e+00]\n",
      " [-2.8948028e+00 -1.8207667e+00]\n",
      " [-3.8421457e+00 -2.8421706e-01]]\n"
     ]
    }
   ],
   "source": [
    "print(tsne_results)"
   ]
  },
  {
   "cell_type": "code",
   "execution_count": 115,
   "metadata": {},
   "outputs": [],
   "source": [
    "import matplotlib.pyplot as plt"
   ]
  },
  {
   "cell_type": "code",
   "execution_count": 116,
   "metadata": {},
   "outputs": [
    {
     "data": {
      "image/png": "[encoded data removed]",
      "text/plain": [
       "<Figure size 1000x1000 with 1 Axes>"
      ]
     },
     "metadata": {},
     "output_type": "display_data"
    }
   ],
   "source": [
    "data = tsne_results\n",
    "\n",
    "plt.figure(figsize=(10,10))\n",
    "# plt.style.use('seaborn')\n",
    "plt.scatter(data[:,0],data[:,1],marker='^')\n",
    "\n",
    "keys = model.wv.index_to_key\n",
    "for label, x, y in zip(keys, data[:,0], data[:,1]):\n",
    "    plt.annotate(label, xy=(x, y), xytext=(0, 0), textcoords='offset points')\n",
    "    \n",
    "plt.xlabel(\"Principal Component-1\")\n",
    "plt.ylabel(\"Principal Component-2\")\n",
    "plt.title(\"TSNE Colors Plot\")\n",
    "plt.show()"
   ]
  },
  {
   "cell_type": "code",
   "execution_count": 117,
   "metadata": {},
   "outputs": [],
   "source": [
    "actors = [\"ranveer\",\"deepika\",\"padukone\",\"singh\",\"nick\",\"jonas\",\"chopra\",\"priyanka\",\"virat\",\"anushka\",\"ginni\"]\n",
    "\n",
    "\n",
    "def predict_actor(a,b,c,word_vectors):\n",
    "    \"\"\"Accepts a triad of words, a,b,c and returns d such that a is to b : c is to d\"\"\"\n",
    "    a,b,c = a.lower(),b.lower(),c.lower()\n",
    "    max_similarity = -100 \n",
    "    \n",
    "    d = None\n",
    "    words = actors\n",
    "    \n",
    "    wa,wb,wc = word_vectors[a],word_vectors[b],word_vectors[c]\n",
    "    \n",
    "    #to find d s.t similarity(|b-a|,|d-c|) should be max\n",
    "    \n",
    "    for w in words:\n",
    "        if w in [a,b,c]:\n",
    "            continue\n",
    "        \n",
    "        wv = word_vectors[w]\n",
    "        sim = cosine_similarity([wb-wa],[wv-wc])\n",
    "        \n",
    "        if sim > max_similarity:\n",
    "            max_similarity = sim\n",
    "            d = w\n",
    "    return d    "
   ]
  },
  {
   "cell_type": "markdown",
   "metadata": {},
   "source": [
    "### 4. Test your Model"
   ]
  },
  {
   "cell_type": "code",
   "execution_count": 118,
   "metadata": {},
   "outputs": [
    {
     "data": {
      "text/plain": [
       "'deepika'"
      ]
     },
     "execution_count": 118,
     "metadata": {},
     "output_type": "execute_result"
    }
   ],
   "source": [
    "triad = (\"nick\",\"priyanka\",\"virat\")\n",
    "predict_actor(*triad,model.wv)"
   ]
  },
  {
   "cell_type": "code",
   "execution_count": 119,
   "metadata": {},
   "outputs": [
    {
     "data": {
      "text/plain": [
       "'singh'"
      ]
     },
     "execution_count": 119,
     "metadata": {},
     "output_type": "execute_result"
    }
   ],
   "source": [
    "triad = (\"ranveer\",\"deepika\",\"priyanka\")\n",
    "predict_actor(*triad,model.wv)"
   ]
  },
  {
   "cell_type": "code",
   "execution_count": 120,
   "metadata": {},
   "outputs": [
    {
     "data": {
      "text/plain": [
       "'ginni'"
      ]
     },
     "execution_count": 120,
     "metadata": {},
     "output_type": "execute_result"
    }
   ],
   "source": [
    "triad = (\"ranveer\",\"singh\",\"deepika\")\n",
    "predict_actor(*triad,model.wv)"
   ]
  },
  {
   "cell_type": "code",
   "execution_count": 121,
   "metadata": {},
   "outputs": [
    {
     "data": {
      "text/plain": [
       "'virat'"
      ]
     },
     "execution_count": 121,
     "metadata": {},
     "output_type": "execute_result"
    }
   ],
   "source": [
    "triad = (\"deepika\",\"padukone\",\"priyanka\")\n",
    "predict_actor(*triad,model.wv)"
   ]
  },
  {
   "cell_type": "code",
   "execution_count": 122,
   "metadata": {},
   "outputs": [
    {
     "data": {
      "text/plain": [
       "'chopra'"
      ]
     },
     "execution_count": 122,
     "metadata": {},
     "output_type": "execute_result"
    }
   ],
   "source": [
    "triad = (\"priyanka\",\"jonas\",\"nick\")\n",
    "predict_actor(*triad,model.wv)"
   ]
  },
  {
   "cell_type": "code",
   "execution_count": null,
   "metadata": {},
   "outputs": [],
   "source": []
  },
  {
   "cell_type": "code",
   "execution_count": null,
   "metadata": {},
   "outputs": [],
   "source": []
  },
  {
   "cell_type": "markdown",
   "metadata": {},
   "source": [
    "![Image](./images/p2.gif)\n"
   ]
  },
  {
   "cell_type": "code",
   "execution_count": 481,
   "metadata": {},
   "outputs": [],
   "source": [
    "model.wv.save_word2vec_format(\"bollywood.bin\")"
   ]
  },
  {
   "cell_type": "code",
   "execution_count": null,
   "metadata": {},
   "outputs": [],
   "source": []
  }
 ],
 "metadata": {
  "kernelspec": {
   "display_name": "Python 3 (ipykernel)",
   "language": "python",
   "name": "python3"
  },
  "language_info": {
   "codemirror_mode": {
    "name": "ipython",
    "version": 3
   },
   "file_extension": ".py",
   "mimetype": "text/x-python",
   "name": "python",
   "nbconvert_exporter": "python",
   "pygments_lexer": "ipython3",
   "version": "3.12.9"
  }
 },
 "nbformat": 4,
 "nbformat_minor": 4
}
