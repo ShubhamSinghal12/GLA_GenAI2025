{
 "cells": [
  {
   "cell_type": "code",
   "execution_count": 2,
   "id": "3b987858-cde6-4129-ab83-572307e28301",
   "metadata": {},
   "outputs": [],
   "source": [
    "import pandas as pd\n",
    "import numpy as np\n",
    "import seaborn as sns\n",
    "from sklearn.model_selection import train_test_split\n",
    "from sklearn.linear_model import LogisticRegression\n",
    "from sklearn.metrics import accuracy_score\n",
    "from sklearn.preprocessing import StandardScaler\n",
    "from sklearn.preprocessing import LabelEncoder"
   ]
  },
  {
   "cell_type": "code",
   "execution_count": 3,
   "id": "631141c9-e3c2-4878-b1f5-005ebe2aa16b",
   "metadata": {},
   "outputs": [],
   "source": [
    "data = pd.read_csv('./Titanic.csv')"
   ]
  },
  {
   "cell_type": "code",
   "execution_count": 4,
   "id": "87d10cd6-93ac-4420-bc17-d0537bff59bb",
   "metadata": {},
   "outputs": [
    {
     "data": {
      "text/html": [
       "<div>\n",
       "<style scoped>\n",
       "    .dataframe tbody tr th:only-of-type {\n",
       "        vertical-align: middle;\n",
       "    }\n",
       "\n",
       "    .dataframe tbody tr th {\n",
       "        vertical-align: top;\n",
       "    }\n",
       "\n",
       "    .dataframe thead th {\n",
       "        text-align: right;\n",
       "    }\n",
       "</style>\n",
       "<table border=\"1\" class=\"dataframe\">\n",
       "  <thead>\n",
       "    <tr style=\"text-align: right;\">\n",
       "      <th></th>\n",
       "      <th>PassengerId</th>\n",
       "      <th>Survived</th>\n",
       "      <th>Pclass</th>\n",
       "      <th>Name</th>\n",
       "      <th>Sex</th>\n",
       "      <th>Age</th>\n",
       "      <th>SibSp</th>\n",
       "      <th>Parch</th>\n",
       "      <th>Ticket</th>\n",
       "      <th>Fare</th>\n",
       "      <th>Cabin</th>\n",
       "      <th>Embarked</th>\n",
       "    </tr>\n",
       "  </thead>\n",
       "  <tbody>\n",
       "    <tr>\n",
       "      <th>0</th>\n",
       "      <td>1</td>\n",
       "      <td>0</td>\n",
       "      <td>3</td>\n",
       "      <td>Braund, Mr. Owen Harris</td>\n",
       "      <td>male</td>\n",
       "      <td>22.0</td>\n",
       "      <td>1</td>\n",
       "      <td>0</td>\n",
       "      <td>A/5 21171</td>\n",
       "      <td>7.2500</td>\n",
       "      <td>NaN</td>\n",
       "      <td>S</td>\n",
       "    </tr>\n",
       "    <tr>\n",
       "      <th>1</th>\n",
       "      <td>2</td>\n",
       "      <td>1</td>\n",
       "      <td>1</td>\n",
       "      <td>Cumings, Mrs. John Bradley (Florence Briggs Th...</td>\n",
       "      <td>female</td>\n",
       "      <td>38.0</td>\n",
       "      <td>1</td>\n",
       "      <td>0</td>\n",
       "      <td>PC 17599</td>\n",
       "      <td>71.2833</td>\n",
       "      <td>C85</td>\n",
       "      <td>C</td>\n",
       "    </tr>\n",
       "    <tr>\n",
       "      <th>2</th>\n",
       "      <td>3</td>\n",
       "      <td>1</td>\n",
       "      <td>3</td>\n",
       "      <td>Heikkinen, Miss. Laina</td>\n",
       "      <td>female</td>\n",
       "      <td>26.0</td>\n",
       "      <td>0</td>\n",
       "      <td>0</td>\n",
       "      <td>STON/O2. 3101282</td>\n",
       "      <td>7.9250</td>\n",
       "      <td>NaN</td>\n",
       "      <td>S</td>\n",
       "    </tr>\n",
       "    <tr>\n",
       "      <th>3</th>\n",
       "      <td>4</td>\n",
       "      <td>1</td>\n",
       "      <td>1</td>\n",
       "      <td>Futrelle, Mrs. Jacques Heath (Lily May Peel)</td>\n",
       "      <td>female</td>\n",
       "      <td>35.0</td>\n",
       "      <td>1</td>\n",
       "      <td>0</td>\n",
       "      <td>113803</td>\n",
       "      <td>53.1000</td>\n",
       "      <td>C123</td>\n",
       "      <td>S</td>\n",
       "    </tr>\n",
       "    <tr>\n",
       "      <th>4</th>\n",
       "      <td>5</td>\n",
       "      <td>0</td>\n",
       "      <td>3</td>\n",
       "      <td>Allen, Mr. William Henry</td>\n",
       "      <td>male</td>\n",
       "      <td>35.0</td>\n",
       "      <td>0</td>\n",
       "      <td>0</td>\n",
       "      <td>373450</td>\n",
       "      <td>8.0500</td>\n",
       "      <td>NaN</td>\n",
       "      <td>S</td>\n",
       "    </tr>\n",
       "  </tbody>\n",
       "</table>\n",
       "</div>"
      ],
      "text/plain": [
       "   PassengerId  Survived  Pclass  \\\n",
       "0            1         0       3   \n",
       "1            2         1       1   \n",
       "2            3         1       3   \n",
       "3            4         1       1   \n",
       "4            5         0       3   \n",
       "\n",
       "                                                Name     Sex   Age  SibSp  \\\n",
       "0                            Braund, Mr. Owen Harris    male  22.0      1   \n",
       "1  Cumings, Mrs. John Bradley (Florence Briggs Th...  female  38.0      1   \n",
       "2                             Heikkinen, Miss. Laina  female  26.0      0   \n",
       "3       Futrelle, Mrs. Jacques Heath (Lily May Peel)  female  35.0      1   \n",
       "4                           Allen, Mr. William Henry    male  35.0      0   \n",
       "\n",
       "   Parch            Ticket     Fare Cabin Embarked  \n",
       "0      0         A/5 21171   7.2500   NaN        S  \n",
       "1      0          PC 17599  71.2833   C85        C  \n",
       "2      0  STON/O2. 3101282   7.9250   NaN        S  \n",
       "3      0            113803  53.1000  C123        S  \n",
       "4      0            373450   8.0500   NaN        S  "
      ]
     },
     "execution_count": 4,
     "metadata": {},
     "output_type": "execute_result"
    }
   ],
   "source": [
    "data.head()"
   ]
  },
  {
   "cell_type": "code",
   "execution_count": 5,
   "id": "37fbbf4d-be04-438b-af85-14c2fd7922fd",
   "metadata": {},
   "outputs": [
    {
     "name": "stdout",
     "output_type": "stream",
     "text": [
      "<class 'pandas.core.frame.DataFrame'>\n",
      "RangeIndex: 891 entries, 0 to 890\n",
      "Data columns (total 12 columns):\n",
      " #   Column       Non-Null Count  Dtype  \n",
      "---  ------       --------------  -----  \n",
      " 0   PassengerId  891 non-null    int64  \n",
      " 1   Survived     891 non-null    int64  \n",
      " 2   Pclass       891 non-null    int64  \n",
      " 3   Name         891 non-null    object \n",
      " 4   Sex          891 non-null    object \n",
      " 5   Age          714 non-null    float64\n",
      " 6   SibSp        891 non-null    int64  \n",
      " 7   Parch        891 non-null    int64  \n",
      " 8   Ticket       891 non-null    object \n",
      " 9   Fare         891 non-null    float64\n",
      " 10  Cabin        204 non-null    object \n",
      " 11  Embarked     889 non-null    object \n",
      "dtypes: float64(2), int64(5), object(5)\n",
      "memory usage: 83.7+ KB\n"
     ]
    }
   ],
   "source": [
    "data.info()"
   ]
  },
  {
   "cell_type": "code",
   "execution_count": 6,
   "id": "1d8c53a2-8582-4ea8-9838-79b97f9b63d8",
   "metadata": {},
   "outputs": [
    {
     "data": {
      "text/plain": [
       "PassengerId      0\n",
       "Survived         0\n",
       "Pclass           0\n",
       "Name             0\n",
       "Sex              0\n",
       "Age            177\n",
       "SibSp            0\n",
       "Parch            0\n",
       "Ticket           0\n",
       "Fare             0\n",
       "Cabin          687\n",
       "Embarked         2\n",
       "dtype: int64"
      ]
     },
     "execution_count": 6,
     "metadata": {},
     "output_type": "execute_result"
    }
   ],
   "source": [
    "data.isnull().sum()"
   ]
  },
  {
   "cell_type": "code",
   "execution_count": 7,
   "id": "1201ce49-35a8-448d-8e81-a2149a8646b6",
   "metadata": {},
   "outputs": [
    {
     "data": {
      "text/plain": [
       "<Axes: xlabel='Pclass', ylabel='count'>"
      ]
     },
     "execution_count": 7,
     "metadata": {},
     "output_type": "execute_result"
    },
    {
     "data": {
      "image/png": "[encoded data removed]",
      "text/plain": [
       "<Figure size 640x480 with 1 Axes>"
      ]
     },
     "metadata": {},
     "output_type": "display_data"
    }
   ],
   "source": [
    "sns.countplot(data,x='Pclass',hue ='Survived')"
   ]
  },
  {
   "cell_type": "code",
   "execution_count": 8,
   "id": "4887cd9e-4e29-4c1a-9b01-51aa144e9b36",
   "metadata": {},
   "outputs": [
    {
     "data": {
      "text/plain": [
       "<Axes: xlabel='Sex', ylabel='count'>"
      ]
     },
     "execution_count": 8,
     "metadata": {},
     "output_type": "execute_result"
    },
    {
     "data": {
      "image/png": "[encoded data removed]",
      "text/plain": [
       "<Figure size 640x480 with 1 Axes>"
      ]
     },
     "metadata": {},
     "output_type": "display_data"
    }
   ],
   "source": [
    "sns.countplot(data,x='Sex',hue ='Survived')"
   ]
  },
  {
   "cell_type": "code",
   "execution_count": 9,
   "id": "29bc1fba-ef45-415c-8b98-d287610fc04c",
   "metadata": {},
   "outputs": [],
   "source": [
    "cols_drop = ['PassengerId', 'Name', 'Ticket', 'Cabin']"
   ]
  },
  {
   "cell_type": "code",
   "execution_count": 10,
   "id": "ef653ccb-37e2-4d6a-9afb-a9b446ebda53",
   "metadata": {},
   "outputs": [],
   "source": [
    "data = data.drop(columns = cols_drop)"
   ]
  },
  {
   "cell_type": "code",
   "execution_count": 11,
   "id": "e826ec34-aa76-4b18-a90f-5c76f47d0523",
   "metadata": {},
   "outputs": [
    {
     "data": {
      "text/plain": [
       "array(['S', 'C', 'Q', nan], dtype=object)"
      ]
     },
     "execution_count": 11,
     "metadata": {},
     "output_type": "execute_result"
    }
   ],
   "source": [
    "# data.head()\n",
    "pd.unique(data['Embarked'])"
   ]
  },
  {
   "cell_type": "code",
   "execution_count": 12,
   "id": "1b097c33-776f-47d4-a814-8c92fcc76573",
   "metadata": {},
   "outputs": [
    {
     "data": {
      "text/html": [
       "<div>\n",
       "<style scoped>\n",
       "    .dataframe tbody tr th:only-of-type {\n",
       "        vertical-align: middle;\n",
       "    }\n",
       "\n",
       "    .dataframe tbody tr th {\n",
       "        vertical-align: top;\n",
       "    }\n",
       "\n",
       "    .dataframe thead th {\n",
       "        text-align: right;\n",
       "    }\n",
       "</style>\n",
       "<table border=\"1\" class=\"dataframe\">\n",
       "  <thead>\n",
       "    <tr style=\"text-align: right;\">\n",
       "      <th></th>\n",
       "      <th>Survived</th>\n",
       "      <th>Pclass</th>\n",
       "      <th>Sex</th>\n",
       "      <th>Age</th>\n",
       "      <th>SibSp</th>\n",
       "      <th>Parch</th>\n",
       "      <th>Fare</th>\n",
       "      <th>Embarked</th>\n",
       "    </tr>\n",
       "  </thead>\n",
       "  <tbody>\n",
       "    <tr>\n",
       "      <th>0</th>\n",
       "      <td>0</td>\n",
       "      <td>3</td>\n",
       "      <td>1</td>\n",
       "      <td>22.0</td>\n",
       "      <td>1</td>\n",
       "      <td>0</td>\n",
       "      <td>7.2500</td>\n",
       "      <td>2</td>\n",
       "    </tr>\n",
       "    <tr>\n",
       "      <th>1</th>\n",
       "      <td>1</td>\n",
       "      <td>1</td>\n",
       "      <td>0</td>\n",
       "      <td>38.0</td>\n",
       "      <td>1</td>\n",
       "      <td>0</td>\n",
       "      <td>71.2833</td>\n",
       "      <td>0</td>\n",
       "    </tr>\n",
       "    <tr>\n",
       "      <th>2</th>\n",
       "      <td>1</td>\n",
       "      <td>3</td>\n",
       "      <td>0</td>\n",
       "      <td>26.0</td>\n",
       "      <td>0</td>\n",
       "      <td>0</td>\n",
       "      <td>7.9250</td>\n",
       "      <td>2</td>\n",
       "    </tr>\n",
       "    <tr>\n",
       "      <th>3</th>\n",
       "      <td>1</td>\n",
       "      <td>1</td>\n",
       "      <td>0</td>\n",
       "      <td>35.0</td>\n",
       "      <td>1</td>\n",
       "      <td>0</td>\n",
       "      <td>53.1000</td>\n",
       "      <td>2</td>\n",
       "    </tr>\n",
       "    <tr>\n",
       "      <th>4</th>\n",
       "      <td>0</td>\n",
       "      <td>3</td>\n",
       "      <td>1</td>\n",
       "      <td>35.0</td>\n",
       "      <td>0</td>\n",
       "      <td>0</td>\n",
       "      <td>8.0500</td>\n",
       "      <td>2</td>\n",
       "    </tr>\n",
       "  </tbody>\n",
       "</table>\n",
       "</div>"
      ],
      "text/plain": [
       "   Survived  Pclass  Sex   Age  SibSp  Parch     Fare  Embarked\n",
       "0         0       3    1  22.0      1      0   7.2500         2\n",
       "1         1       1    0  38.0      1      0  71.2833         0\n",
       "2         1       3    0  26.0      0      0   7.9250         2\n",
       "3         1       1    0  35.0      1      0  53.1000         2\n",
       "4         0       3    1  35.0      0      0   8.0500         2"
      ]
     },
     "execution_count": 12,
     "metadata": {},
     "output_type": "execute_result"
    }
   ],
   "source": [
    "lab_enc = LabelEncoder()\n",
    "data['Sex'] = lab_enc.fit_transform(data['Sex'])\n",
    "data['Embarked'] = lab_enc.fit_transform(data['Embarked'])\n",
    "data.head()"
   ]
  },
  {
   "cell_type": "code",
   "execution_count": 13,
   "id": "49abf8d8-1a28-47f9-a654-504622a3836d",
   "metadata": {},
   "outputs": [
    {
     "data": {
      "text/plain": [
       "Survived      0\n",
       "Pclass        0\n",
       "Sex           0\n",
       "Age         177\n",
       "SibSp         0\n",
       "Parch         0\n",
       "Fare          0\n",
       "Embarked      0\n",
       "dtype: int64"
      ]
     },
     "execution_count": 13,
     "metadata": {},
     "output_type": "execute_result"
    }
   ],
   "source": [
    "data.isnull().sum()"
   ]
  },
  {
   "cell_type": "code",
   "execution_count": 14,
   "id": "784f782d-bb14-4711-9adf-fbc9b241da0d",
   "metadata": {},
   "outputs": [],
   "source": [
    "data = data.fillna(data['Age'].mean())"
   ]
  },
  {
   "cell_type": "code",
   "execution_count": 15,
   "id": "7d901153-df2b-431f-b97f-721610b94751",
   "metadata": {},
   "outputs": [
    {
     "name": "stdout",
     "output_type": "stream",
     "text": [
      "<class 'pandas.core.frame.DataFrame'>\n",
      "RangeIndex: 891 entries, 0 to 890\n",
      "Data columns (total 8 columns):\n",
      " #   Column    Non-Null Count  Dtype  \n",
      "---  ------    --------------  -----  \n",
      " 0   Survived  891 non-null    int64  \n",
      " 1   Pclass    891 non-null    int64  \n",
      " 2   Sex       891 non-null    int32  \n",
      " 3   Age       891 non-null    float64\n",
      " 4   SibSp     891 non-null    int64  \n",
      " 5   Parch     891 non-null    int64  \n",
      " 6   Fare      891 non-null    float64\n",
      " 7   Embarked  891 non-null    int32  \n",
      "dtypes: float64(2), int32(2), int64(4)\n",
      "memory usage: 48.9 KB\n"
     ]
    }
   ],
   "source": [
    "data.info()"
   ]
  },
  {
   "cell_type": "code",
   "execution_count": 16,
   "id": "0ee0d28e-a107-497b-b853-875b9d722dbb",
   "metadata": {},
   "outputs": [
    {
     "data": {
      "text/html": [
       "<div>\n",
       "<style scoped>\n",
       "    .dataframe tbody tr th:only-of-type {\n",
       "        vertical-align: middle;\n",
       "    }\n",
       "\n",
       "    .dataframe tbody tr th {\n",
       "        vertical-align: top;\n",
       "    }\n",
       "\n",
       "    .dataframe thead th {\n",
       "        text-align: right;\n",
       "    }\n",
       "</style>\n",
       "<table border=\"1\" class=\"dataframe\">\n",
       "  <thead>\n",
       "    <tr style=\"text-align: right;\">\n",
       "      <th></th>\n",
       "      <th>Pclass</th>\n",
       "      <th>Sex</th>\n",
       "      <th>Age</th>\n",
       "      <th>SibSp</th>\n",
       "      <th>Parch</th>\n",
       "      <th>Fare</th>\n",
       "      <th>Embarked</th>\n",
       "    </tr>\n",
       "  </thead>\n",
       "  <tbody>\n",
       "    <tr>\n",
       "      <th>0</th>\n",
       "      <td>3</td>\n",
       "      <td>1</td>\n",
       "      <td>22.0</td>\n",
       "      <td>1</td>\n",
       "      <td>0</td>\n",
       "      <td>7.2500</td>\n",
       "      <td>2</td>\n",
       "    </tr>\n",
       "    <tr>\n",
       "      <th>1</th>\n",
       "      <td>1</td>\n",
       "      <td>0</td>\n",
       "      <td>38.0</td>\n",
       "      <td>1</td>\n",
       "      <td>0</td>\n",
       "      <td>71.2833</td>\n",
       "      <td>0</td>\n",
       "    </tr>\n",
       "    <tr>\n",
       "      <th>2</th>\n",
       "      <td>3</td>\n",
       "      <td>0</td>\n",
       "      <td>26.0</td>\n",
       "      <td>0</td>\n",
       "      <td>0</td>\n",
       "      <td>7.9250</td>\n",
       "      <td>2</td>\n",
       "    </tr>\n",
       "    <tr>\n",
       "      <th>3</th>\n",
       "      <td>1</td>\n",
       "      <td>0</td>\n",
       "      <td>35.0</td>\n",
       "      <td>1</td>\n",
       "      <td>0</td>\n",
       "      <td>53.1000</td>\n",
       "      <td>2</td>\n",
       "    </tr>\n",
       "    <tr>\n",
       "      <th>4</th>\n",
       "      <td>3</td>\n",
       "      <td>1</td>\n",
       "      <td>35.0</td>\n",
       "      <td>0</td>\n",
       "      <td>0</td>\n",
       "      <td>8.0500</td>\n",
       "      <td>2</td>\n",
       "    </tr>\n",
       "  </tbody>\n",
       "</table>\n",
       "</div>"
      ],
      "text/plain": [
       "   Pclass  Sex   Age  SibSp  Parch     Fare  Embarked\n",
       "0       3    1  22.0      1      0   7.2500         2\n",
       "1       1    0  38.0      1      0  71.2833         0\n",
       "2       3    0  26.0      0      0   7.9250         2\n",
       "3       1    0  35.0      1      0  53.1000         2\n",
       "4       3    1  35.0      0      0   8.0500         2"
      ]
     },
     "execution_count": 16,
     "metadata": {},
     "output_type": "execute_result"
    }
   ],
   "source": [
    "input_cols = ['Pclass', 'Sex', 'Age', 'SibSp', 'Parch', 'Fare', 'Embarked']\n",
    "output_col = ['Survived']\n",
    "\n",
    "X_data = data[input_cols]\n",
    "Y_data = data['Survived']\n",
    "X_data.head()"
   ]
  },
  {
   "cell_type": "code",
   "execution_count": 17,
   "id": "5b18103b-fb9e-48c6-972f-a6f302934464",
   "metadata": {},
   "outputs": [
    {
     "name": "stdout",
     "output_type": "stream",
     "text": [
      "(891, 7) (891,)\n"
     ]
    }
   ],
   "source": [
    "print(X_data.shape, Y_data.shape)"
   ]
  },
  {
   "cell_type": "code",
   "execution_count": 18,
   "id": "b9b74bb7-b43c-41c8-9681-503bb1df07af",
   "metadata": {},
   "outputs": [],
   "source": [
    "X_data = X_data.values\n",
    "Y_data = Y_data.values"
   ]
  },
  {
   "cell_type": "code",
   "execution_count": null,
   "id": "81e45447-0507-4ff5-a4d6-82122c665257",
   "metadata": {},
   "outputs": [],
   "source": []
  },
  {
   "cell_type": "code",
   "execution_count": 20,
   "id": "250b4636-fa5f-450f-8f27-5909042c8831",
   "metadata": {},
   "outputs": [],
   "source": [
    "x_train,x_test,y_train,y_test = train_test_split(X_data,Y_data,train_size = 0.8,random_state=42)"
   ]
  },
  {
   "cell_type": "code",
   "execution_count": 21,
   "id": "e049affb-a661-4fe1-8b73-e32da073140e",
   "metadata": {},
   "outputs": [],
   "source": [
    "scale = StandardScaler()\n",
    "x_train = scale.fit_transform(x_train)\n",
    "x_test = scale.transform(x_test)"
   ]
  },
  {
   "cell_type": "code",
   "execution_count": 22,
   "id": "ef1dd03e-ead0-4c88-a3d0-61613e921199",
   "metadata": {},
   "outputs": [
    {
     "data": {
      "text/html": [
       "<style>#sk-container-id-1 {\n",
       "  /* Definition of color scheme common for light and dark mode */\n",
       "  --sklearn-color-text: #000;\n",
       "  --sklearn-color-text-muted: #666;\n",
       "  --sklearn-color-line: gray;\n",
       "  /* Definition of color scheme for unfitted estimators */\n",
       "  --sklearn-color-unfitted-level-0: #fff5e6;\n",
       "  --sklearn-color-unfitted-level-1: #f6e4d2;\n",
       "  --sklearn-color-unfitted-level-2: #ffe0b3;\n",
       "  --sklearn-color-unfitted-level-3: chocolate;\n",
       "  /* Definition of color scheme for fitted estimators */\n",
       "  --sklearn-color-fitted-level-0: #f0f8ff;\n",
       "  --sklearn-color-fitted-level-1: #d4ebff;\n",
       "  --sklearn-color-fitted-level-2: #b3dbfd;\n",
       "  --sklearn-color-fitted-level-3: cornflowerblue;\n",
       "\n",
       "  /* Specific color for light theme */\n",
       "  --sklearn-color-text-on-default-background: var(--sg-text-color, var(--theme-code-foreground, var(--jp-content-font-color1, black)));\n",
       "  --sklearn-color-background: var(--sg-background-color, var(--theme-background, var(--jp-layout-color0, white)));\n",
       "  --sklearn-color-border-box: var(--sg-text-color, var(--theme-code-foreground, var(--jp-content-font-color1, black)));\n",
       "  --sklearn-color-icon: #696969;\n",
       "\n",
       "  @media (prefers-color-scheme: dark) {\n",
       "    /* Redefinition of color scheme for dark theme */\n",
       "    --sklearn-color-text-on-default-background: var(--sg-text-color, var(--theme-code-foreground, var(--jp-content-font-color1, white)));\n",
       "    --sklearn-color-background: var(--sg-background-color, var(--theme-background, var(--jp-layout-color0, #111)));\n",
       "    --sklearn-color-border-box: var(--sg-text-color, var(--theme-code-foreground, var(--jp-content-font-color1, white)));\n",
       "    --sklearn-color-icon: #878787;\n",
       "  }\n",
       "}\n",
       "\n",
       "#sk-container-id-1 {\n",
       "  color: var(--sklearn-color-text);\n",
       "}\n",
       "\n",
       "#sk-container-id-1 pre {\n",
       "  padding: 0;\n",
       "}\n",
       "\n",
       "#sk-container-id-1 input.sk-hidden--visually {\n",
       "  border: 0;\n",
       "  clip: rect(1px 1px 1px 1px);\n",
       "  clip: rect(1px, 1px, 1px, 1px);\n",
       "  height: 1px;\n",
       "  margin: -1px;\n",
       "  overflow: hidden;\n",
       "  padding: 0;\n",
       "  position: absolute;\n",
       "  width: 1px;\n",
       "}\n",
       "\n",
       "#sk-container-id-1 div.sk-dashed-wrapped {\n",
       "  border: 1px dashed var(--sklearn-color-line);\n",
       "  margin: 0 0.4em 0.5em 0.4em;\n",
       "  box-sizing: border-box;\n",
       "  padding-bottom: 0.4em;\n",
       "  background-color: var(--sklearn-color-background);\n",
       "}\n",
       "\n",
       "#sk-container-id-1 div.sk-container {\n",
       "  /* jupyter's `normalize.less` sets `[hidden] { display: none; }`\n",
       "     but bootstrap.min.css set `[hidden] { display: none !important; }`\n",
       "     so we also need the `!important` here to be able to override the\n",
       "     default hidden behavior on the sphinx rendered scikit-learn.org.\n",
       "     See: https://github.com/scikit-learn/scikit-learn/issues/21755 */\n",
       "  display: inline-block !important;\n",
       "  position: relative;\n",
       "}\n",
       "\n",
       "#sk-container-id-1 div.sk-text-repr-fallback {\n",
       "  display: none;\n",
       "}\n",
       "\n",
       "div.sk-parallel-item,\n",
       "div.sk-serial,\n",
       "div.sk-item {\n",
       "  /* draw centered vertical line to link estimators */\n",
       "  background-image: linear-gradient(var(--sklearn-color-text-on-default-background), var(--sklearn-color-text-on-default-background));\n",
       "  background-size: 2px 100%;\n",
       "  background-repeat: no-repeat;\n",
       "  background-position: center center;\n",
       "}\n",
       "\n",
       "/* Parallel-specific style estimator block */\n",
       "\n",
       "#sk-container-id-1 div.sk-parallel-item::after {\n",
       "  content: \"\";\n",
       "  width: 100%;\n",
       "  border-bottom: 2px solid var(--sklearn-color-text-on-default-background);\n",
       "  flex-grow: 1;\n",
       "}\n",
       "\n",
       "#sk-container-id-1 div.sk-parallel {\n",
       "  display: flex;\n",
       "  align-items: stretch;\n",
       "  justify-content: center;\n",
       "  background-color: var(--sklearn-color-background);\n",
       "  position: relative;\n",
       "}\n",
       "\n",
       "#sk-container-id-1 div.sk-parallel-item {\n",
       "  display: flex;\n",
       "  flex-direction: column;\n",
       "}\n",
       "\n",
       "#sk-container-id-1 div.sk-parallel-item:first-child::after {\n",
       "  align-self: flex-end;\n",
       "  width: 50%;\n",
       "}\n",
       "\n",
       "#sk-container-id-1 div.sk-parallel-item:last-child::after {\n",
       "  align-self: flex-start;\n",
       "  width: 50%;\n",
       "}\n",
       "\n",
       "#sk-container-id-1 div.sk-parallel-item:only-child::after {\n",
       "  width: 0;\n",
       "}\n",
       "\n",
       "/* Serial-specific style estimator block */\n",
       "\n",
       "#sk-container-id-1 div.sk-serial {\n",
       "  display: flex;\n",
       "  flex-direction: column;\n",
       "  align-items: center;\n",
       "  background-color: var(--sklearn-color-background);\n",
       "  padding-right: 1em;\n",
       "  padding-left: 1em;\n",
       "}\n",
       "\n",
       "\n",
       "/* Toggleable style: style used for estimator/Pipeline/ColumnTransformer box that is\n",
       "clickable and can be expanded/collapsed.\n",
       "- Pipeline and ColumnTransformer use this feature and define the default style\n",
       "- Estimators will overwrite some part of the style using the `sk-estimator` class\n",
       "*/\n",
       "\n",
       "/* Pipeline and ColumnTransformer style (default) */\n",
       "\n",
       "#sk-container-id-1 div.sk-toggleable {\n",
       "  /* Default theme specific background. It is overwritten whether we have a\n",
       "  specific estimator or a Pipeline/ColumnTransformer */\n",
       "  background-color: var(--sklearn-color-background);\n",
       "}\n",
       "\n",
       "/* Toggleable label */\n",
       "#sk-container-id-1 label.sk-toggleable__label {\n",
       "  cursor: pointer;\n",
       "  display: flex;\n",
       "  width: 100%;\n",
       "  margin-bottom: 0;\n",
       "  padding: 0.5em;\n",
       "  box-sizing: border-box;\n",
       "  text-align: center;\n",
       "  align-items: start;\n",
       "  justify-content: space-between;\n",
       "  gap: 0.5em;\n",
       "}\n",
       "\n",
       "#sk-container-id-1 label.sk-toggleable__label .caption {\n",
       "  font-size: 0.6rem;\n",
       "  font-weight: lighter;\n",
       "  color: var(--sklearn-color-text-muted);\n",
       "}\n",
       "\n",
       "#sk-container-id-1 label.sk-toggleable__label-arrow:before {\n",
       "  /* Arrow on the left of the label */\n",
       "  content: \"▸\";\n",
       "  float: left;\n",
       "  margin-right: 0.25em;\n",
       "  color: var(--sklearn-color-icon);\n",
       "}\n",
       "\n",
       "#sk-container-id-1 label.sk-toggleable__label-arrow:hover:before {\n",
       "  color: var(--sklearn-color-text);\n",
       "}\n",
       "\n",
       "/* Toggleable content - dropdown */\n",
       "\n",
       "#sk-container-id-1 div.sk-toggleable__content {\n",
       "  max-height: 0;\n",
       "  max-width: 0;\n",
       "  overflow: hidden;\n",
       "  text-align: left;\n",
       "  /* unfitted */\n",
       "  background-color: var(--sklearn-color-unfitted-level-0);\n",
       "}\n",
       "\n",
       "#sk-container-id-1 div.sk-toggleable__content.fitted {\n",
       "  /* fitted */\n",
       "  background-color: var(--sklearn-color-fitted-level-0);\n",
       "}\n",
       "\n",
       "#sk-container-id-1 div.sk-toggleable__content pre {\n",
       "  margin: 0.2em;\n",
       "  border-radius: 0.25em;\n",
       "  color: var(--sklearn-color-text);\n",
       "  /* unfitted */\n",
       "  background-color: var(--sklearn-color-unfitted-level-0);\n",
       "}\n",
       "\n",
       "#sk-container-id-1 div.sk-toggleable__content.fitted pre {\n",
       "  /* unfitted */\n",
       "  background-color: var(--sklearn-color-fitted-level-0);\n",
       "}\n",
       "\n",
       "#sk-container-id-1 input.sk-toggleable__control:checked~div.sk-toggleable__content {\n",
       "  /* Expand drop-down */\n",
       "  max-height: 200px;\n",
       "  max-width: 100%;\n",
       "  overflow: auto;\n",
       "}\n",
       "\n",
       "#sk-container-id-1 input.sk-toggleable__control:checked~label.sk-toggleable__label-arrow:before {\n",
       "  content: \"▾\";\n",
       "}\n",
       "\n",
       "/* Pipeline/ColumnTransformer-specific style */\n",
       "\n",
       "#sk-container-id-1 div.sk-label input.sk-toggleable__control:checked~label.sk-toggleable__label {\n",
       "  color: var(--sklearn-color-text);\n",
       "  background-color: var(--sklearn-color-unfitted-level-2);\n",
       "}\n",
       "\n",
       "#sk-container-id-1 div.sk-label.fitted input.sk-toggleable__control:checked~label.sk-toggleable__label {\n",
       "  background-color: var(--sklearn-color-fitted-level-2);\n",
       "}\n",
       "\n",
       "/* Estimator-specific style */\n",
       "\n",
       "/* Colorize estimator box */\n",
       "#sk-container-id-1 div.sk-estimator input.sk-toggleable__control:checked~label.sk-toggleable__label {\n",
       "  /* unfitted */\n",
       "  background-color: var(--sklearn-color-unfitted-level-2);\n",
       "}\n",
       "\n",
       "#sk-container-id-1 div.sk-estimator.fitted input.sk-toggleable__control:checked~label.sk-toggleable__label {\n",
       "  /* fitted */\n",
       "  background-color: var(--sklearn-color-fitted-level-2);\n",
       "}\n",
       "\n",
       "#sk-container-id-1 div.sk-label label.sk-toggleable__label,\n",
       "#sk-container-id-1 div.sk-label label {\n",
       "  /* The background is the default theme color */\n",
       "  color: var(--sklearn-color-text-on-default-background);\n",
       "}\n",
       "\n",
       "/* On hover, darken the color of the background */\n",
       "#sk-container-id-1 div.sk-label:hover label.sk-toggleable__label {\n",
       "  color: var(--sklearn-color-text);\n",
       "  background-color: var(--sklearn-color-unfitted-level-2);\n",
       "}\n",
       "\n",
       "/* Label box, darken color on hover, fitted */\n",
       "#sk-container-id-1 div.sk-label.fitted:hover label.sk-toggleable__label.fitted {\n",
       "  color: var(--sklearn-color-text);\n",
       "  background-color: var(--sklearn-color-fitted-level-2);\n",
       "}\n",
       "\n",
       "/* Estimator label */\n",
       "\n",
       "#sk-container-id-1 div.sk-label label {\n",
       "  font-family: monospace;\n",
       "  font-weight: bold;\n",
       "  display: inline-block;\n",
       "  line-height: 1.2em;\n",
       "}\n",
       "\n",
       "#sk-container-id-1 div.sk-label-container {\n",
       "  text-align: center;\n",
       "}\n",
       "\n",
       "/* Estimator-specific */\n",
       "#sk-container-id-1 div.sk-estimator {\n",
       "  font-family: monospace;\n",
       "  border: 1px dotted var(--sklearn-color-border-box);\n",
       "  border-radius: 0.25em;\n",
       "  box-sizing: border-box;\n",
       "  margin-bottom: 0.5em;\n",
       "  /* unfitted */\n",
       "  background-color: var(--sklearn-color-unfitted-level-0);\n",
       "}\n",
       "\n",
       "#sk-container-id-1 div.sk-estimator.fitted {\n",
       "  /* fitted */\n",
       "  background-color: var(--sklearn-color-fitted-level-0);\n",
       "}\n",
       "\n",
       "/* on hover */\n",
       "#sk-container-id-1 div.sk-estimator:hover {\n",
       "  /* unfitted */\n",
       "  background-color: var(--sklearn-color-unfitted-level-2);\n",
       "}\n",
       "\n",
       "#sk-container-id-1 div.sk-estimator.fitted:hover {\n",
       "  /* fitted */\n",
       "  background-color: var(--sklearn-color-fitted-level-2);\n",
       "}\n",
       "\n",
       "/* Specification for estimator info (e.g. \"i\" and \"?\") */\n",
       "\n",
       "/* Common style for \"i\" and \"?\" */\n",
       "\n",
       ".sk-estimator-doc-link,\n",
       "a:link.sk-estimator-doc-link,\n",
       "a:visited.sk-estimator-doc-link {\n",
       "  float: right;\n",
       "  font-size: smaller;\n",
       "  line-height: 1em;\n",
       "  font-family: monospace;\n",
       "  background-color: var(--sklearn-color-background);\n",
       "  border-radius: 1em;\n",
       "  height: 1em;\n",
       "  width: 1em;\n",
       "  text-decoration: none !important;\n",
       "  margin-left: 0.5em;\n",
       "  text-align: center;\n",
       "  /* unfitted */\n",
       "  border: var(--sklearn-color-unfitted-level-1) 1pt solid;\n",
       "  color: var(--sklearn-color-unfitted-level-1);\n",
       "}\n",
       "\n",
       ".sk-estimator-doc-link.fitted,\n",
       "a:link.sk-estimator-doc-link.fitted,\n",
       "a:visited.sk-estimator-doc-link.fitted {\n",
       "  /* fitted */\n",
       "  border: var(--sklearn-color-fitted-level-1) 1pt solid;\n",
       "  color: var(--sklearn-color-fitted-level-1);\n",
       "}\n",
       "\n",
       "/* On hover */\n",
       "div.sk-estimator:hover .sk-estimator-doc-link:hover,\n",
       ".sk-estimator-doc-link:hover,\n",
       "div.sk-label-container:hover .sk-estimator-doc-link:hover,\n",
       ".sk-estimator-doc-link:hover {\n",
       "  /* unfitted */\n",
       "  background-color: var(--sklearn-color-unfitted-level-3);\n",
       "  color: var(--sklearn-color-background);\n",
       "  text-decoration: none;\n",
       "}\n",
       "\n",
       "div.sk-estimator.fitted:hover .sk-estimator-doc-link.fitted:hover,\n",
       ".sk-estimator-doc-link.fitted:hover,\n",
       "div.sk-label-container:hover .sk-estimator-doc-link.fitted:hover,\n",
       ".sk-estimator-doc-link.fitted:hover {\n",
       "  /* fitted */\n",
       "  background-color: var(--sklearn-color-fitted-level-3);\n",
       "  color: var(--sklearn-color-background);\n",
       "  text-decoration: none;\n",
       "}\n",
       "\n",
       "/* Span, style for the box shown on hovering the info icon */\n",
       ".sk-estimator-doc-link span {\n",
       "  display: none;\n",
       "  z-index: 9999;\n",
       "  position: relative;\n",
       "  font-weight: normal;\n",
       "  right: .2ex;\n",
       "  padding: .5ex;\n",
       "  margin: .5ex;\n",
       "  width: min-content;\n",
       "  min-width: 20ex;\n",
       "  max-width: 50ex;\n",
       "  color: var(--sklearn-color-text);\n",
       "  box-shadow: 2pt 2pt 4pt #999;\n",
       "  /* unfitted */\n",
       "  background: var(--sklearn-color-unfitted-level-0);\n",
       "  border: .5pt solid var(--sklearn-color-unfitted-level-3);\n",
       "}\n",
       "\n",
       ".sk-estimator-doc-link.fitted span {\n",
       "  /* fitted */\n",
       "  background: var(--sklearn-color-fitted-level-0);\n",
       "  border: var(--sklearn-color-fitted-level-3);\n",
       "}\n",
       "\n",
       ".sk-estimator-doc-link:hover span {\n",
       "  display: block;\n",
       "}\n",
       "\n",
       "/* \"?\"-specific style due to the `<a>` HTML tag */\n",
       "\n",
       "#sk-container-id-1 a.estimator_doc_link {\n",
       "  float: right;\n",
       "  font-size: 1rem;\n",
       "  line-height: 1em;\n",
       "  font-family: monospace;\n",
       "  background-color: var(--sklearn-color-background);\n",
       "  border-radius: 1rem;\n",
       "  height: 1rem;\n",
       "  width: 1rem;\n",
       "  text-decoration: none;\n",
       "  /* unfitted */\n",
       "  color: var(--sklearn-color-unfitted-level-1);\n",
       "  border: var(--sklearn-color-unfitted-level-1) 1pt solid;\n",
       "}\n",
       "\n",
       "#sk-container-id-1 a.estimator_doc_link.fitted {\n",
       "  /* fitted */\n",
       "  border: var(--sklearn-color-fitted-level-1) 1pt solid;\n",
       "  color: var(--sklearn-color-fitted-level-1);\n",
       "}\n",
       "\n",
       "/* On hover */\n",
       "#sk-container-id-1 a.estimator_doc_link:hover {\n",
       "  /* unfitted */\n",
       "  background-color: var(--sklearn-color-unfitted-level-3);\n",
       "  color: var(--sklearn-color-background);\n",
       "  text-decoration: none;\n",
       "}\n",
       "\n",
       "#sk-container-id-1 a.estimator_doc_link.fitted:hover {\n",
       "  /* fitted */\n",
       "  background-color: var(--sklearn-color-fitted-level-3);\n",
       "}\n",
       "</style><div id=\"sk-container-id-1\" class=\"sk-top-container\"><div class=\"sk-text-repr-fallback\"><pre>LogisticRegression()</pre><b>In a Jupyter environment, please rerun this cell to show the HTML representation or trust the notebook. <br />On GitHub, the HTML representation is unable to render, please try loading this page with nbviewer.org.</b></div><div class=\"sk-container\" hidden><div class=\"sk-item\"><div class=\"sk-estimator fitted sk-toggleable\"><input class=\"sk-toggleable__control sk-hidden--visually\" id=\"sk-estimator-id-1\" type=\"checkbox\" checked><label for=\"sk-estimator-id-1\" class=\"sk-toggleable__label fitted sk-toggleable__label-arrow\"><div><div>LogisticRegression</div></div><div><a class=\"sk-estimator-doc-link fitted\" rel=\"noreferrer\" target=\"_blank\" href=\"https://scikit-learn.org/1.6/modules/generated/sklearn.linear_model.LogisticRegression.html\">?<span>Documentation for LogisticRegression</span></a><span class=\"sk-estimator-doc-link fitted\">i<span>Fitted</span></span></div></label><div class=\"sk-toggleable__content fitted\"><pre>LogisticRegression()</pre></div> </div></div></div></div>"
      ],
      "text/plain": [
       "LogisticRegression()"
      ]
     },
     "execution_count": 22,
     "metadata": {},
     "output_type": "execute_result"
    }
   ],
   "source": [
    "clf = LogisticRegression()\n",
    "clf.fit(x_train,y_train)"
   ]
  },
  {
   "cell_type": "code",
   "execution_count": 27,
   "id": "9f15368f-7e1e-40db-8fa4-56ecbc72e77d",
   "metadata": {},
   "outputs": [
    {
     "name": "stdout",
     "output_type": "stream",
     "text": [
      "0.8019662921348315\n"
     ]
    },
    {
     "data": {
      "text/plain": [
       "0.8019662921348315"
      ]
     },
     "execution_count": 27,
     "metadata": {},
     "output_type": "execute_result"
    }
   ],
   "source": [
    "ypred = clf.predict(x_train)\n",
    "print(np.sum(ypred == y_train)/y_train.shape[0])\n",
    "accuracy_score(y_train,clf.predict(x_train))"
   ]
  },
  {
   "cell_type": "code",
   "execution_count": 24,
   "id": "f7804b56-6e2a-4164-b08e-1fe2f04338f0",
   "metadata": {},
   "outputs": [
    {
     "data": {
      "text/plain": [
       "0.8100558659217877"
      ]
     },
     "execution_count": 24,
     "metadata": {},
     "output_type": "execute_result"
    }
   ],
   "source": [
    "accuracy_score(y_test,clf.predict(x_test))"
   ]
  },
  {
   "cell_type": "code",
   "execution_count": 28,
   "id": "b45e6671-745d-4c5b-b84f-fe09ef95eedb",
   "metadata": {},
   "outputs": [
    {
     "data": {
      "text/plain": [
       "array([[ 0.81303367,  0.7243102 , -0.73453348, -0.47072241, -0.47934164,\n",
       "         0.33531121, -2.01983093]])"
      ]
     },
     "execution_count": 28,
     "metadata": {},
     "output_type": "execute_result"
    }
   ],
   "source": [
    "xt = np.array([[3,1,20,0,0,50,0]])\n",
    "xt = scale.transform(xt)\n",
    "xt"
   ]
  },
  {
   "cell_type": "code",
   "execution_count": 29,
   "id": "b93317b8-4d53-469e-aaba-e75b07b489ce",
   "metadata": {},
   "outputs": [
    {
     "data": {
      "text/plain": [
       "array([0], dtype=int64)"
      ]
     },
     "execution_count": 29,
     "metadata": {},
     "output_type": "execute_result"
    }
   ],
   "source": [
    "clf.predict(xt)"
   ]
  },
  {
   "cell_type": "code",
   "execution_count": 31,
   "id": "42d81963-952b-4e67-aa3f-7948db7827b3",
   "metadata": {},
   "outputs": [],
   "source": [
    "from sklearn.metrics import confusion_matrix, classification_report,roc_curve\n",
    "import seaborn as sns\n",
    "import matplotlib.pyplot as plt"
   ]
  },
  {
   "cell_type": "code",
   "execution_count": 32,
   "id": "c785e30e-8330-4c80-87c7-edc9cfa45141",
   "metadata": {},
   "outputs": [],
   "source": [
    "ypred = [1,1,0,0,0,1,0,1,1,1]\n",
    "yac = [1,0,0,0,1,1,0,1,0,1]"
   ]
  },
  {
   "cell_type": "code",
   "execution_count": 33,
   "id": "1422252d-b8e1-4eaf-8911-2ef4e4c4d0e3",
   "metadata": {},
   "outputs": [],
   "source": [
    "cm = confusion_matrix(yac,ypred)"
   ]
  },
  {
   "cell_type": "code",
   "execution_count": 35,
   "id": "165fdd36-f932-4096-a21b-16e0d5e5508b",
   "metadata": {},
   "outputs": [
    {
     "data": {
      "text/plain": [
       "array([[3, 2],\n",
       "       [1, 4]], dtype=int64)"
      ]
     },
     "execution_count": 35,
     "metadata": {},
     "output_type": "execute_result"
    }
   ],
   "source": [
    "cm"
   ]
  },
  {
   "cell_type": "code",
   "execution_count": 34,
   "id": "c673e059-d1ad-4d6f-8a28-0e2f6fdd00cc",
   "metadata": {},
   "outputs": [
    {
     "data": {
      "text/plain": [
       "<Axes: >"
      ]
     },
     "execution_count": 34,
     "metadata": {},
     "output_type": "execute_result"
    },
    {
     "data": {
      "image/png": "[encoded data removed]",
      "text/plain": [
       "<Figure size 640x480 with 2 Axes>"
      ]
     },
     "metadata": {},
     "output_type": "display_data"
    }
   ],
   "source": [
    "sns.heatmap(cm,annot=True)"
   ]
  },
  {
   "cell_type": "code",
   "execution_count": 36,
   "id": "7affd877-de0f-4555-95bc-0c07130d57c4",
   "metadata": {},
   "outputs": [
    {
     "data": {
      "text/plain": [
       "<Axes: >"
      ]
     },
     "execution_count": 36,
     "metadata": {},
     "output_type": "execute_result"
    },
    {
     "data": {
      "image/png": "[encoded data removed]",
      "text/plain": [
       "<Figure size 640x480 with 2 Axes>"
      ]
     },
     "metadata": {},
     "output_type": "display_data"
    }
   ],
   "source": [
    "sns.heatmap(confusion_matrix(y_train,clf.predict(x_train)),annot = True,fmt='g')"
   ]
  },
  {
   "cell_type": "code",
   "execution_count": 38,
   "id": "76a99031-8d15-4f83-a226-fac42a146e7c",
   "metadata": {},
   "outputs": [
    {
     "name": "stdout",
     "output_type": "stream",
     "text": [
      "              precision    recall  f1-score   support\n",
      "\n",
      "           0       0.75      0.60      0.67         5\n",
      "           1       0.67      0.80      0.73         5\n",
      "\n",
      "    accuracy                           0.70        10\n",
      "   macro avg       0.71      0.70      0.70        10\n",
      "weighted avg       0.71      0.70      0.70        10\n",
      "\n"
     ]
    }
   ],
   "source": [
    "print(classification_report(yac,ypred))"
   ]
  },
  {
   "cell_type": "code",
   "execution_count": 39,
   "id": "1f617c03-6893-4031-b5f4-4920968e748c",
   "metadata": {},
   "outputs": [
    {
     "name": "stdout",
     "output_type": "stream",
     "text": [
      "              precision    recall  f1-score   support\n",
      "\n",
      "           0       0.82      0.87      0.85       444\n",
      "           1       0.76      0.69      0.73       268\n",
      "\n",
      "    accuracy                           0.80       712\n",
      "   macro avg       0.79      0.78      0.79       712\n",
      "weighted avg       0.80      0.80      0.80       712\n",
      "\n"
     ]
    }
   ],
   "source": [
    "print(classification_report(y_train,clf.predict(x_train)))"
   ]
  },
  {
   "cell_type": "code",
   "execution_count": null,
   "id": "546600c1-ac6a-4045-b85d-f3d16bd5bf44",
   "metadata": {},
   "outputs": [],
   "source": []
  },
  {
   "cell_type": "code",
   "execution_count": 65,
   "id": "6e2c6815-82a0-4a22-989d-03611bd2e720",
   "metadata": {},
   "outputs": [],
   "source": [
    "fpr,tpr,_ = roc_curve(y_train,clf.predict_proba(x_train)[:,0],pos_label=0)"
   ]
  },
  {
   "cell_type": "code",
   "execution_count": 66,
   "id": "c27ce9ec-b313-426b-b34a-d21aee6e8f81",
   "metadata": {},
   "outputs": [
    {
     "data": {
      "image/png": "[encoded data removed]",
      "text/plain": [
       "<Figure size 640x480 with 1 Axes>"
      ]
     },
     "metadata": {},
     "output_type": "display_data"
    }
   ],
   "source": [
    "plt.plot(fpr,tpr)\n",
    "plt.plot([0,1],[0,1],'r--')\n",
    "plt.grid()\n",
    "plt.title('ROC Curve')\n",
    "plt.show()"
   ]
  },
  {
   "cell_type": "code",
   "execution_count": 59,
   "id": "2b4505ca-26e8-4bed-a296-a246417044ca",
   "metadata": {
    "scrolled": true
   },
   "outputs": [
    {
     "data": {
      "text/plain": [
       "array([0.58783976, 0.09710774, 0.28645647, 0.06434418, 0.05049782,\n",
       "       0.12568636, 0.7432714 , 0.96855887, 0.2995227 , 0.36041085,\n",
       "       0.09457298, 0.15063445, 0.60717599, 0.15404652, 0.79795225,\n",
       "       0.03419192, 0.09581684, 0.9220376 , 0.03878528, 0.0875582 ,\n",
       "       0.74393766, 0.39268688, 0.95201892, 0.44096829, 0.65348608,\n",
       "       0.29015264, 0.13849758, 0.08754583, 0.55066206, 0.13043746,\n",
       "       0.03299565, 0.2340147 , 0.13586796, 0.20171163, 0.91120652,\n",
       "       0.20861616, 0.71124535, 0.09457298, 0.78514987, 0.55187983,\n",
       "       0.83490738, 0.72895766, 0.14792566, 0.09350737, 0.84709524,\n",
       "       0.10360246, 0.14760438, 0.14923619, 0.86377069, 0.06073107,\n",
       "       0.59242749, 0.06498986, 0.38392796, 0.63076003, 0.24647683,\n",
       "       0.14451586, 0.97913043, 0.09335355, 0.12868628, 0.28340375,\n",
       "       0.52882928, 0.80287772, 0.22746937, 0.57202586, 0.12184061,\n",
       "       0.07420303, 0.5748069 , 0.89210302, 0.23092236, 0.33007355,\n",
       "       0.28340375, 0.35376336, 0.21450258, 0.09460186, 0.1299443 ,\n",
       "       0.09642346, 0.12587872, 0.513318  , 0.8104602 , 0.73007406,\n",
       "       0.0954064 , 0.12636079, 0.33738539, 0.305472  , 0.10006816,\n",
       "       0.12218125, 0.65341458, 0.76572069, 0.8638324 , 0.50893186,\n",
       "       0.69119948, 0.05046736, 0.15062969, 0.10918669, 0.34652306,\n",
       "       0.96391938, 0.3131145 , 0.12566184, 0.2078424 , 0.21044878,\n",
       "       0.96151466, 0.12184061, 0.51949021, 0.37555434, 0.89054649,\n",
       "       0.17980457, 0.32081708, 0.31429145, 0.564103  , 0.07537566,\n",
       "       0.87521303, 0.14837743, 0.95181574, 0.52328618, 0.61254604,\n",
       "       0.88797674, 0.34612541, 0.09460186, 0.91252828, 0.04796824,\n",
       "       0.05334771, 0.46298502, 0.94370101, 0.13060232, 0.50259138,\n",
       "       0.11686071, 0.82679287, 0.06667642, 0.05421651, 0.495947  ,\n",
       "       0.08538677, 0.09460186, 0.96391938, 0.14800376, 0.91281492,\n",
       "       0.48447178, 0.13476033, 0.22721679, 0.58343908, 0.75749277,\n",
       "       0.00361713, 0.3752437 , 0.24672323, 0.79167077, 0.32153087,\n",
       "       0.25985525, 0.95871801, 0.11234888, 0.63318713, 0.1088045 ,\n",
       "       0.90358404, 0.37041193, 0.07525343, 0.48419871, 0.06250761,\n",
       "       0.12584865, 0.07640206, 0.3131145 , 0.49706149, 0.79014474,\n",
       "       0.8977522 , 0.34203984, 0.00361713, 0.96102849, 0.13028357,\n",
       "       0.20203004, 0.11414466, 0.11035131, 0.05808151, 0.12740998,\n",
       "       0.14468215, 0.6229479 , 0.10934098, 0.0655313 , 0.059557  ,\n",
       "       0.92105664, 0.8542489 , 0.09460186, 0.59693774, 0.41120442,\n",
       "       0.58653455, 0.11825236, 0.78195384, 0.22651015, 0.16030733,\n",
       "       0.10039272, 0.19215893, 0.03771199, 0.16406294, 0.42438565,\n",
       "       0.6533506 , 0.66999275, 0.11951056, 0.95876595, 0.22045385,\n",
       "       0.09678071, 0.23092236, 0.84093755, 0.89475966, 0.25224293,\n",
       "       0.93726381, 0.94247441, 0.15300053, 0.07132707, 0.24749355,\n",
       "       0.10924845, 0.71626779, 0.84774832, 0.07454945, 0.09487379,\n",
       "       0.31259859, 0.10120663, 0.55535883, 0.12518244, 0.09457298,\n",
       "       0.95282308, 0.58743534, 0.80211281, 0.82898778, 0.09365576,\n",
       "       0.10584659, 0.95750575, 0.46790911, 0.2330362 , 0.07901987,\n",
       "       0.32157678, 0.12165399, 0.77284228, 0.1730955 , 0.3227416 ,\n",
       "       0.94163888, 0.94842433, 0.10326027, 0.03364402, 0.05609661,\n",
       "       0.29201535, 0.16949324, 0.79723591, 0.96433435, 0.1299443 ,\n",
       "       0.10407344, 0.3518402 , 0.951082  , 0.46969478, 0.65629567,\n",
       "       0.51941675, 0.65334441, 0.12166038, 0.9565129 , 0.68870335,\n",
       "       0.11006246, 0.49036665, 0.69702169, 0.5635675 , 0.04877339,\n",
       "       0.68210357, 0.86686118, 0.07897433, 0.13418133, 0.72073763,\n",
       "       0.13422051, 0.75408923, 0.38013017, 0.04746124, 0.13848563,\n",
       "       0.07152675, 0.329163  , 0.09460186, 0.30787343, 0.83919146,\n",
       "       0.2394813 , 0.11962565, 0.51672717, 0.50205959, 0.29788777,\n",
       "       0.35881832, 0.7663032 , 0.84613973, 0.27488375, 0.50577867,\n",
       "       0.45826072, 0.26081026, 0.56870104, 0.12566285, 0.92237643,\n",
       "       0.18403505, 0.30787343, 0.63954816, 0.0921023 , 0.94373167,\n",
       "       0.91785083, 0.12181721, 0.10691741, 0.10919024, 0.93555408,\n",
       "       0.31931529, 0.12566184, 0.9490056 , 0.24253513, 0.09457298,\n",
       "       0.87286102, 0.46756554, 0.48392566, 0.3207051 , 0.12566285,\n",
       "       0.85492195, 0.91412754, 0.75047401, 0.10919024, 0.79901808,\n",
       "       0.21995866, 0.7145774 , 0.12582309, 0.12333346, 0.56250272,\n",
       "       0.09054952, 0.49681435, 0.93693582, 0.56090875, 0.38172248,\n",
       "       0.11420088, 0.07818902, 0.29897817, 0.07510311, 0.95421527,\n",
       "       0.11320073, 0.11218236, 0.12566285, 0.13856391, 0.94648069,\n",
       "       0.15685149, 0.95953515, 0.93525368, 0.09392525, 0.05286944,\n",
       "       0.75768756, 0.06501542, 0.577375  , 0.10691567, 0.63969969,\n",
       "       0.37595744, 0.40224693, 0.2340147 , 0.43341822, 0.89838702,\n",
       "       0.11049003, 0.3429419 , 0.0910913 , 0.05286944, 0.56888455,\n",
       "       0.19816898, 0.10005666, 0.457394  , 0.3110455 , 0.83490738,\n",
       "       0.03860206, 0.03438285, 0.6533506 , 0.69084084, 0.04312549,\n",
       "       0.04546808, 0.68080216, 0.60908176, 0.50639129, 0.09365576,\n",
       "       0.23092236, 0.49512895, 0.47768684, 0.54016931, 0.12582309,\n",
       "       0.1603061 , 0.35056798, 0.81355938, 0.06538004, 0.13849215,\n",
       "       0.44011053, 0.06889465, 0.03873653, 0.11400011, 0.10007636,\n",
       "       0.48313784, 0.64800481, 0.12187669, 0.1384271 , 0.22011441,\n",
       "       0.08478013, 0.05401592, 0.05140859, 0.28161843, 0.67711353,\n",
       "       0.23600948, 0.10342659, 0.93512932, 0.19583881, 0.09460186,\n",
       "       0.65341458, 0.15531203, 0.47732426, 0.22777916, 0.42443906,\n",
       "       0.14452841, 0.61602782, 0.07129294, 0.61636353, 0.06674705,\n",
       "       0.23338961, 0.76431251, 0.60528937, 0.5411319 , 0.0690124 ,\n",
       "       0.80357489, 0.6533506 , 0.08492375, 0.63098918, 0.12209919,\n",
       "       0.79769316, 0.09471664, 0.32157678, 0.10918492, 0.12782841,\n",
       "       0.84636071, 0.13424803, 0.84631067, 0.10920709, 0.07664009,\n",
       "       0.55624497, 0.65338982, 0.05286944, 0.26866743, 0.82431783,\n",
       "       0.12168959, 0.90027569, 0.43816724, 0.05993473, 0.75315926,\n",
       "       0.23969201, 0.10007636, 0.64736442, 0.28340375, 0.19217697,\n",
       "       0.12721974, 0.12974561, 0.09460186, 0.12581858, 0.0621994 ,\n",
       "       0.06001317, 0.17204358, 0.32229279, 0.89078073, 0.09460186,\n",
       "       0.8256903 , 0.83228232, 0.10919024, 0.81107247, 0.68055263,\n",
       "       0.72229525, 0.64663166, 0.0240335 , 0.09679983, 0.90817724,\n",
       "       0.77735354, 0.13014426, 0.34612541, 0.0655313 , 0.22684784,\n",
       "       0.32059962, 0.82448872, 0.12794348, 0.20671774, 0.06431638,\n",
       "       0.10299445, 0.12601965, 0.71695645, 0.54303155, 0.06013216,\n",
       "       0.04537367, 0.07670455, 0.65341458, 0.69690722, 0.08755309,\n",
       "       0.33542765, 0.95069806, 0.08355333, 0.19420058, 0.8787536 ,\n",
       "       0.6884699 , 0.48692979, 0.11043721, 0.10919024, 0.07537566,\n",
       "       0.65329077, 0.09457298, 0.66508928, 0.75748606, 0.09642346,\n",
       "       0.41886878, 0.1244488 , 0.05076088, 0.6533506 , 0.95675781,\n",
       "       0.11685401, 0.0875582 , 0.55624497, 0.09441473, 0.72473623,\n",
       "       0.90817191, 0.20861616, 0.09457298, 0.32054513, 0.87624647,\n",
       "       0.23484893, 0.90981909, 0.83480186, 0.55978602, 0.83301517,\n",
       "       0.12566184, 0.27748172, 0.11482255, 0.25442531, 0.09457298,\n",
       "       0.10919024, 0.94272525, 0.51152094, 0.54900453, 0.10918758,\n",
       "       0.13422051, 0.09445213, 0.60130045, 0.29884207, 0.6528737 ,\n",
       "       0.11084957, 0.90819698, 0.7663032 , 0.33983254, 0.09457298,\n",
       "       0.87691953, 0.08763466, 0.09457298, 0.14752874, 0.0564474 ,\n",
       "       0.72000002, 0.51672717, 0.34446507, 0.48898521, 0.87918515,\n",
       "       0.03226953, 0.07259299, 0.32914227, 0.85497658, 0.84972971,\n",
       "       0.09711095, 0.12999271, 0.45464308, 0.09457298, 0.12581257,\n",
       "       0.0764638 , 0.66557427, 0.04539334, 0.12187669, 0.88969379,\n",
       "       0.56250272, 0.09683329, 0.95227861, 0.12566285, 0.25442531,\n",
       "       0.80633662, 0.02650256, 0.08463108, 0.40532736, 0.07370911,\n",
       "       0.96878709, 0.32704269, 0.07141549, 0.44263685, 0.08307078,\n",
       "       0.9553435 , 0.10919024, 0.33146607, 0.15359555, 0.4976987 ,\n",
       "       0.18350165, 0.11749701, 0.27597473, 0.68732679, 0.61610497,\n",
       "       0.05597227, 0.06232867, 0.06815028, 0.70277313, 0.08186286,\n",
       "       0.22953317, 0.68188736, 0.68378413, 0.05142839, 0.45944396,\n",
       "       0.79521608, 0.12597098, 0.11272763, 0.55624497, 0.09979337,\n",
       "       0.89707709, 0.10729856, 0.72203882, 0.63418051, 0.95167339,\n",
       "       0.23092236, 0.92815103, 0.96495863, 0.11544811, 0.86919225,\n",
       "       0.05217997, 0.79599863, 0.65336917, 0.10689218, 0.12581757,\n",
       "       0.8710695 , 0.91723078, 0.10344687, 0.23131815, 0.14923619,\n",
       "       0.65354248, 0.49069993, 0.04499364, 0.05459302, 0.0524199 ,\n",
       "       0.16406294, 0.14084192, 0.11030839, 0.26866743, 0.09460186,\n",
       "       0.47183202, 0.10461078, 0.93574114, 0.09460186, 0.35492024,\n",
       "       0.10823561, 0.82356442, 0.11794964, 0.09820054, 0.9623833 ,\n",
       "       0.14760438, 0.10039272, 0.22156555, 0.70802744, 0.75110906,\n",
       "       0.12168959, 0.73706748, 0.8423547 , 0.8864399 , 0.39052152,\n",
       "       0.81074644, 0.09362714, 0.48174155, 0.09052251, 0.97090433,\n",
       "       0.5090763 , 0.49485375, 0.1341189 , 0.13348514, 0.03132687,\n",
       "       0.11416677, 0.12445573, 0.77736459, 0.04709567, 0.59483091,\n",
       "       0.67145139, 0.82582516, 0.09457298, 0.1299618 , 0.91909156,\n",
       "       0.65334233, 0.93664677, 0.12583162, 0.70976689, 0.75170982,\n",
       "       0.71196949, 0.36018303, 0.1321881 , 0.14277691, 0.20861616,\n",
       "       0.05808151, 0.0875582 , 0.17980457, 0.80124365, 0.88267447,\n",
       "       0.9080217 , 0.06033665, 0.30787343, 0.05806656, 0.07913353,\n",
       "       0.0317701 , 0.09455037, 0.67280773, 0.10407344, 0.05323696,\n",
       "       0.13415065, 0.71289536, 0.20722454, 0.22045385, 0.5081276 ,\n",
       "       0.36119338, 0.5151007 , 0.02811541, 0.11030839, 0.10691741,\n",
       "       0.05223015, 0.09460186, 0.67747699, 0.93002295, 0.76715728,\n",
       "       0.08950137, 0.631359  ])"
      ]
     },
     "execution_count": 59,
     "metadata": {},
     "output_type": "execute_result"
    }
   ],
   "source": [
    "clf.predict_proba(x_train)[:,1]"
   ]
  },
  {
   "cell_type": "code",
   "execution_count": null,
   "id": "77fa80a5-8ef6-46a3-99e4-6852cd6a094c",
   "metadata": {},
   "outputs": [],
   "source": []
  },
  {
   "cell_type": "code",
   "execution_count": null,
   "id": "9b4200c3-56a5-485b-b94d-11d479c65a87",
   "metadata": {},
   "outputs": [],
   "source": []
  }
 ],
 "metadata": {
  "kernelspec": {
   "display_name": "Python 3 (ipykernel)",
   "language": "python",
   "name": "python3"
  },
  "language_info": {
   "codemirror_mode": {
    "name": "ipython",
    "version": 3
   },
   "file_extension": ".py",
   "mimetype": "text/x-python",
   "name": "python",
   "nbconvert_exporter": "python",
   "pygments_lexer": "ipython3",
   "version": "3.12.9"
  }
 },
 "nbformat": 4,
 "nbformat_minor": 5
}
